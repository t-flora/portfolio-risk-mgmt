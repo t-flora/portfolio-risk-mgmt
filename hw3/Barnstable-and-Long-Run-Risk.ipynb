{
 "cells": [
  {
   "cell_type": "markdown",
   "metadata": {},
   "source": [
    "# Barnstable and Long-Run Risk\n",
    "\n",
    "## HBS Case\n",
    "\n",
    "### *The Risk of Stocks in the Long-Run: The Barnstable College Endowment*"
   ]
  },
  {
   "cell_type": "markdown",
   "metadata": {},
   "source": [
    "***"
   ]
  },
  {
   "cell_type": "markdown",
   "metadata": {},
   "source": [
    "# 2. Estimating Underperformance\n",
    "\n",
    "### Data\n",
    "\n",
    "Use the returns on the S&P 500 ($r^m$) and 1-month T-bills, ($r^f$) provided in `barnstable_analysis_data.xlsx`.\n",
    "* Data goes through `END_YR=2024`.\n",
    "\n",
    "Barnstable's estimates of mean and volatility are based on the subsample of 1965 to 1999.\n",
    "* We consider this subsample, as well as 2000-{END_YR}, as well as the full sample of 1926-{END_YR}."
   ]
  },
  {
   "cell_type": "markdown",
   "metadata": {},
   "source": [
    "### Notation\n",
    "\n",
    "* $r$ = level return rates\n",
    "* $R$ = cumulative return factor\n",
    "* $\\texttt{r}$ = log return rates\n",
    "\n",
    "$$ R \\equiv 1+r$$\n",
    "\n",
    "$$ \\texttt{r} \\equiv \\ln(1+r) = \\ln(R)$$"
   ]
  },
  {
   "cell_type": "code",
   "execution_count": 1,
   "metadata": {},
   "outputs": [
    {
     "data": {
      "text/html": [
       "<div>\n",
       "<style scoped>\n",
       "    .dataframe tbody tr th:only-of-type {\n",
       "        vertical-align: middle;\n",
       "    }\n",
       "\n",
       "    .dataframe tbody tr th {\n",
       "        vertical-align: top;\n",
       "    }\n",
       "\n",
       "    .dataframe thead th {\n",
       "        text-align: right;\n",
       "    }\n",
       "</style>\n",
       "<table border=\"1\" class=\"dataframe\">\n",
       "  <thead>\n",
       "    <tr style=\"text-align: right;\">\n",
       "      <th></th>\n",
       "      <th>date</th>\n",
       "      <th>SPX</th>\n",
       "      <th>TB1M</th>\n",
       "    </tr>\n",
       "  </thead>\n",
       "  <tbody>\n",
       "    <tr>\n",
       "      <th>1183</th>\n",
       "      <td>2024-08-30</td>\n",
       "      <td>0.024283</td>\n",
       "      <td>0.004380</td>\n",
       "    </tr>\n",
       "    <tr>\n",
       "      <th>1184</th>\n",
       "      <td>2024-09-30</td>\n",
       "      <td>0.022821</td>\n",
       "      <td>0.003826</td>\n",
       "    </tr>\n",
       "    <tr>\n",
       "      <th>1185</th>\n",
       "      <td>2024-10-31</td>\n",
       "      <td>-0.008690</td>\n",
       "      <td>0.003752</td>\n",
       "    </tr>\n",
       "    <tr>\n",
       "      <th>1186</th>\n",
       "      <td>2024-11-29</td>\n",
       "      <td>0.060420</td>\n",
       "      <td>0.003475</td>\n",
       "    </tr>\n",
       "    <tr>\n",
       "      <th>1187</th>\n",
       "      <td>2024-12-31</td>\n",
       "      <td>-0.023445</td>\n",
       "      <td>0.003337</td>\n",
       "    </tr>\n",
       "  </tbody>\n",
       "</table>\n",
       "</div>"
      ],
      "text/plain": [
       "           date       SPX      TB1M\n",
       "1183 2024-08-30  0.024283  0.004380\n",
       "1184 2024-09-30  0.022821  0.003826\n",
       "1185 2024-10-31 -0.008690  0.003752\n",
       "1186 2024-11-29  0.060420  0.003475\n",
       "1187 2024-12-31 -0.023445  0.003337"
      ]
     },
     "execution_count": 1,
     "metadata": {},
     "output_type": "execute_result"
    }
   ],
   "source": [
    "import numpy as np\n",
    "import pandas as pd\n",
    "import matplotlib.pyplot as plt\n",
    "from scipy.stats import norm\n",
    "\n",
    "END_YR = 2024\n",
    "\n",
    "raw_df = pd.read_excel(\"../data/barnstable_analysis_data.xlsx\", sheet_name=\"data\")\n",
    "raw_df.tail()"
   ]
  },
  {
   "cell_type": "markdown",
   "metadata": {},
   "source": [
    "### 1. Summary Statistics\n",
    "\n",
    "Report the following (annualized) statistics.\n",
    "\n",
    "| | 1965-1999 | | | 2000-{END_YR} | | | 1926-{END_YR} | |\n",
    "|---|---|---|---|---|---|---|---|---|\n",
    "| | mean | vol | | mean | vol | | mean | vol |\n",
    "| **levels** | $r^m$ | | | | | | | |\n",
    "| | $\\tilde{r}^m$ | | | | | | | |\n",
    "| | $r^f$ | | | | | | | |\n",
    "| **logs** | $\\texttt{r}^m$ | | | | | | | |\n",
    "| | $\\tilde{\\texttt{r}}^m$ | | | | | | | |\n",
    "| | $\\texttt{r}_f$ | | | | | | | |\n",
    "\n",
    "* Comment on how the full-sample return stats compare to the sub-sample stats.\n",
    "* Comment on how the level stats compare to the log stats."
   ]
  },
  {
   "cell_type": "code",
   "execution_count": 2,
   "metadata": {},
   "outputs": [
    {
     "name": "stdout",
     "output_type": "stream",
     "text": [
      "Summary statistics (annualized)\n",
      "=====================================================================================\n"
     ]
    },
    {
     "data": {
      "text/html": [
       "<div>\n",
       "<style scoped>\n",
       "    .dataframe tbody tr th:only-of-type {\n",
       "        vertical-align: middle;\n",
       "    }\n",
       "\n",
       "    .dataframe tbody tr th {\n",
       "        vertical-align: top;\n",
       "    }\n",
       "\n",
       "    .dataframe thead tr th {\n",
       "        text-align: left;\n",
       "    }\n",
       "</style>\n",
       "<table border=\"1\" class=\"dataframe\">\n",
       "  <thead>\n",
       "    <tr>\n",
       "      <th></th>\n",
       "      <th>Variable</th>\n",
       "      <th>Type</th>\n",
       "      <th colspan=\"2\" halign=\"left\">1965-1999</th>\n",
       "      <th colspan=\"2\" halign=\"left\">2000-2024</th>\n",
       "      <th colspan=\"2\" halign=\"left\">1926-2024</th>\n",
       "    </tr>\n",
       "    <tr>\n",
       "      <th></th>\n",
       "      <th></th>\n",
       "      <th></th>\n",
       "      <th>mean</th>\n",
       "      <th>vol</th>\n",
       "      <th>mean</th>\n",
       "      <th>vol</th>\n",
       "      <th>mean</th>\n",
       "      <th>vol</th>\n",
       "    </tr>\n",
       "  </thead>\n",
       "  <tbody>\n",
       "    <tr>\n",
       "      <th>0</th>\n",
       "      <td>r^m</td>\n",
       "      <td>levels</td>\n",
       "      <td>0.129354</td>\n",
       "      <td>0.149405</td>\n",
       "      <td>0.087542</td>\n",
       "      <td>0.152815</td>\n",
       "      <td>0.115529</td>\n",
       "      <td>0.186650</td>\n",
       "    </tr>\n",
       "    <tr>\n",
       "      <th>1</th>\n",
       "      <td>r̃^m</td>\n",
       "      <td>levels</td>\n",
       "      <td>0.068660</td>\n",
       "      <td>0.150227</td>\n",
       "      <td>0.070091</td>\n",
       "      <td>0.153093</td>\n",
       "      <td>0.083308</td>\n",
       "      <td>0.187329</td>\n",
       "    </tr>\n",
       "    <tr>\n",
       "      <th>2</th>\n",
       "      <td>r^f</td>\n",
       "      <td>levels</td>\n",
       "      <td>0.061503</td>\n",
       "      <td>0.007179</td>\n",
       "      <td>0.017451</td>\n",
       "      <td>0.005553</td>\n",
       "      <td>0.031928</td>\n",
       "      <td>0.008507</td>\n",
       "    </tr>\n",
       "    <tr>\n",
       "      <th>3</th>\n",
       "      <td>r^m (log)</td>\n",
       "      <td>logs</td>\n",
       "      <td>0.117600</td>\n",
       "      <td>0.149568</td>\n",
       "      <td>0.075553</td>\n",
       "      <td>0.153763</td>\n",
       "      <td>0.097821</td>\n",
       "      <td>0.185938</td>\n",
       "    </tr>\n",
       "    <tr>\n",
       "      <th>4</th>\n",
       "      <td>r̃^m (log)</td>\n",
       "      <td>logs</td>\n",
       "      <td>0.057064</td>\n",
       "      <td>0.150397</td>\n",
       "      <td>0.058130</td>\n",
       "      <td>0.154026</td>\n",
       "      <td>0.065608</td>\n",
       "      <td>0.186555</td>\n",
       "    </tr>\n",
       "    <tr>\n",
       "      <th>5</th>\n",
       "      <td>r^f (log)</td>\n",
       "      <td>logs</td>\n",
       "      <td>0.061320</td>\n",
       "      <td>0.007132</td>\n",
       "      <td>0.017423</td>\n",
       "      <td>0.005541</td>\n",
       "      <td>0.031850</td>\n",
       "      <td>0.008473</td>\n",
       "    </tr>\n",
       "  </tbody>\n",
       "</table>\n",
       "</div>"
      ],
      "text/plain": [
       "     Variable    Type 1965-1999           2000-2024           1926-2024  \\\n",
       "                           mean       vol      mean       vol      mean   \n",
       "0         r^m  levels  0.129354  0.149405  0.087542  0.152815  0.115529   \n",
       "1        r̃^m  levels  0.068660  0.150227  0.070091  0.153093  0.083308   \n",
       "2         r^f  levels  0.061503  0.007179  0.017451  0.005553  0.031928   \n",
       "3   r^m (log)    logs  0.117600  0.149568  0.075553  0.153763  0.097821   \n",
       "4  r̃^m (log)    logs  0.057064  0.150397  0.058130  0.154026  0.065608   \n",
       "5   r^f (log)    logs  0.061320  0.007132  0.017423  0.005541  0.031850   \n",
       "\n",
       "             \n",
       "        vol  \n",
       "0  0.186650  \n",
       "1  0.187329  \n",
       "2  0.008507  \n",
       "3  0.185938  \n",
       "4  0.186555  \n",
       "5  0.008473  "
      ]
     },
     "execution_count": 2,
     "metadata": {},
     "output_type": "execute_result"
    }
   ],
   "source": [
    "# 1. Summary stats\n",
    "# Convert date column to datetime and extract year\n",
    "raw_df['date'] = pd.to_datetime(raw_df['date'])\n",
    "raw_df['year'] = raw_df['date'].dt.year\n",
    "\n",
    "# Create time period masks\n",
    "mask_1965_1999 = (raw_df['year'] >= 1965) & (raw_df['year'] <= 1999)\n",
    "mask_2000_end = (raw_df['year'] >= 2000) & (raw_df['year'] <= END_YR)\n",
    "mask_1926_end = (raw_df['year'] >= 1926) & (raw_df['year'] <= END_YR)\n",
    "\n",
    "# Calculate log returns\n",
    "raw_df['log_SPX'] = np.log(1 + raw_df['SPX'])\n",
    "raw_df['log_SPX_excess'] = np.log(1 + raw_df['SPX']) - np.log(1 + raw_df['TB1M'])\n",
    "raw_df['log_TB1M'] = np.log(1 + raw_df['TB1M'])\n",
    "\n",
    "# Function to calculate annualized statistics\n",
    "def calc_stats(data, periods_per_year=12):  # Assuming monthly data\n",
    "    mean_ann = data.mean() * periods_per_year\n",
    "    vol_ann = data.std() * np.sqrt(periods_per_year)\n",
    "    return mean_ann, vol_ann\n",
    "\n",
    "# Calculate statistics for each period\n",
    "periods = {\n",
    "    '1965-1999': mask_1965_1999,\n",
    "    f'2000-{END_YR}': mask_2000_end,\n",
    "    f'1926-{END_YR}': mask_1926_end\n",
    "}\n",
    "\n",
    "# Initialize results dictionary\n",
    "results = {}\n",
    "\n",
    "for period_name, mask in periods.items():\n",
    "    period_data = raw_df[mask]\n",
    "    \n",
    "    # Level returns\n",
    "    SPX_mean, SPX_vol = calc_stats(period_data['SPX'])\n",
    "    SPX_excess_mean, SPX_excess_vol = calc_stats(period_data['SPX'] - period_data['TB1M'])\n",
    "    TB1M_mean, TB1M_vol = calc_stats(period_data['TB1M'])\n",
    "    \n",
    "    # Log returns\n",
    "    log_SPX_mean, log_SPX_vol = calc_stats(period_data['log_SPX'])\n",
    "    log_SPX_excess_mean, log_SPX_excess_vol = calc_stats(period_data['log_SPX_excess'])\n",
    "    log_TB1M_mean, log_TB1M_vol = calc_stats(period_data['log_TB1M'])\n",
    "    \n",
    "    results[period_name] = {\n",
    "        'SPX_mean': SPX_mean, 'SPX_vol': SPX_vol,\n",
    "        'SPX_excess_mean': SPX_excess_mean, 'SPX_excess_vol': SPX_excess_vol,\n",
    "        'TB1M_mean': TB1M_mean, 'TB1M_vol': TB1M_vol,\n",
    "        'log_SPX_mean': log_SPX_mean, 'log_SPX_vol': log_SPX_vol,\n",
    "        'log_SPX_excess_mean': log_SPX_excess_mean, 'log_SPX_excess_vol': log_SPX_excess_vol,\n",
    "        'log_TB1M_mean': log_TB1M_mean, 'log_TB1M_vol': log_TB1M_vol\n",
    "    }\n",
    "\n",
    "# Reusable functions to compute hierarchical summary statistics for any period\n",
    "BASE_VARIABLES = ['r^m', 'r̃^m', 'r^f', 'r^m (log)', 'r̃^m (log)', 'r^f (log)']\n",
    "BASE_TYPES = ['levels', 'levels', 'levels', 'logs', 'logs', 'logs']\n",
    "\n",
    "\n",
    "def calc_stats(data, periods_per_year=12):\n",
    "    mean_ann = data.mean() * periods_per_year\n",
    "    vol_ann = data.std() * np.sqrt(periods_per_year)\n",
    "    return mean_ann, vol_ann\n",
    "\n",
    "\n",
    "def compute_period_stats(df,\n",
    "                         start_year,\n",
    "                         end_year,\n",
    "                         *,\n",
    "                         date_col='date',\n",
    "                         mkt_col='SPX',\n",
    "                         rf_col='TB1M',\n",
    "                         periods_per_year=12):\n",
    "    # Work on a copy and ensure required columns exist\n",
    "    tmp = df[[date_col, mkt_col, rf_col]].copy()\n",
    "    tmp[date_col] = pd.to_datetime(tmp[date_col])\n",
    "    tmp['year'] = tmp[date_col].dt.year\n",
    "\n",
    "    # Filter to period (inclusive)\n",
    "    mask = (tmp['year'] >= start_year) & (tmp['year'] <= end_year)\n",
    "    period = tmp.loc[mask].copy()\n",
    "\n",
    "    # Compute logs\n",
    "    period['log_mkt'] = np.log1p(period[mkt_col])\n",
    "    period['log_rf'] = np.log1p(period[rf_col])\n",
    "    period['log_excess'] = period['log_mkt'] - period['log_rf']\n",
    "\n",
    "    # Levels stats\n",
    "    mkt_mean, mkt_vol = calc_stats(period[mkt_col], periods_per_year)\n",
    "    ex_mean, ex_vol = calc_stats(period[mkt_col] - period[rf_col], periods_per_year)\n",
    "    rf_mean, rf_vol = calc_stats(period[rf_col], periods_per_year)\n",
    "\n",
    "    # Log stats\n",
    "    log_mkt_mean, log_mkt_vol = calc_stats(period['log_mkt'], periods_per_year)\n",
    "    log_ex_mean, log_ex_vol = calc_stats(period['log_excess'], periods_per_year)\n",
    "    log_rf_mean, log_rf_vol = calc_stats(period['log_rf'], periods_per_year)\n",
    "\n",
    "    # Build a small DataFrame with MultiIndex columns for this single period\n",
    "    period_name = f\"{start_year}-{end_year}\"\n",
    "    cols = pd.MultiIndex.from_tuples([(period_name, 'mean'), (period_name, 'vol')])\n",
    "    data = [\n",
    "        (mkt_mean, mkt_vol),\n",
    "        (ex_mean, ex_vol),\n",
    "        (rf_mean, rf_vol),\n",
    "        (log_mkt_mean, log_mkt_vol),\n",
    "        (log_ex_mean, log_ex_vol),\n",
    "        (log_rf_mean, log_rf_vol)\n",
    "    ]\n",
    "    out = pd.DataFrame(data, columns=cols, index=range(6))\n",
    "    return out\n",
    "\n",
    "\n",
    "def assemble_summary(df, periods, *, date_col='date', mkt_col='SPX', rf_col='TB1M', periods_per_year=12):\n",
    "    # Base columns\n",
    "    base_cols = pd.MultiIndex.from_tuples([('Variable', ''), ('Type', '')])\n",
    "    base_df = pd.DataFrame(index=range(6), columns=base_cols)\n",
    "    base_df[('Variable', '')] = BASE_VARIABLES\n",
    "    base_df[('Type', '')] = BASE_TYPES\n",
    "\n",
    "    # Compute and concat each period's stats\n",
    "    pieces = [base_df]\n",
    "    for (s, e) in periods:\n",
    "        pieces.append(compute_period_stats(df, s, e,\n",
    "                                           date_col=date_col,\n",
    "                                           mkt_col=mkt_col,\n",
    "                                           rf_col=rf_col,\n",
    "                                           periods_per_year=periods_per_year))\n",
    "    return pd.concat(pieces, axis=1)\n",
    "\n",
    "\n",
    "# Example usage: replicate the three periods from above\n",
    "period_list = [(1965, 1999), (2000, END_YR), (1926, END_YR)]\n",
    "sum_stats = assemble_summary(raw_df, period_list, date_col='date', mkt_col='SPX', rf_col='TB1M', periods_per_year=12)\n",
    "\n",
    "print(\"Summary statistics (annualized)\")\n",
    "print(\"=\" * 85)\n",
    "sum_stats.head(6)"
   ]
  },
  {
   "cell_type": "markdown",
   "metadata": {},
   "source": [
    "### 2. Probability of Underperformance\n",
    "\n",
    "Recall the following:\n",
    "- If $x\\sim\\mathcal{N}\\left(\\mu_x,\\sigma_x^2\\right)$, then\n",
    "\n",
    "  $$\\Pr\\left[x<\\ell\\right] = \\Phi_\\mathcal{N}\\left(L\\right)$$\n",
    "\n",
    "  where $L = \\frac{\\ell-\\mu_x}{\\sigma_x}$ and $\\Phi_\\mathcal{N}$ denotes the standard normal cdf.\n",
    "\n",
    "- Remember that cumulative log returns are simply the sum of the single-period log returns:\n",
    "  \n",
    "  $$\\texttt{r}^m_{t,t+h} \\equiv \\sum_{i=1}^h \\texttt{r}^m_{t+i}$$\n",
    "\n",
    "- It will be convenient to use and denote sample averages. We use the following notation for an $h$-period average ending at time $t+h$:\n",
    "  \n",
    "  $$\\bar{\\texttt{r}}^m_{t,t+h} = \\frac{1}{h}\\sum_{i=1}^h \\texttt{r}^m_{t+i}$$\n",
    "\n",
    "Calculate the probability that the cumulative market return will fall short of the cumulative risk-free return:\n",
    "\n",
    "$$\\Pr\\left[R^m_{t,t+h} < R^f_{t,t+h}\\right]$$\n",
    "\n",
    "To analyze this analytically, convert the probability statement above to a probability statement about mean log returns."
   ]
  },
  {
   "cell_type": "markdown",
   "metadata": {},
   "source": [
    "#### 2.1\n",
    "Calculate the probability using the subsample 1965-1999.\n",
    "\n",
    "**Hint**: The probability can be expressed as:\n",
    "\n",
    "$$p(h) = \\Phi_{\\mathcal{N}}\\left(-\\sqrt{h}\\;\\text{SR}\\right)$$\n",
    "\n",
    "where $\\text{SR}$ denotes the sample Sharpe ratio of **log** market returns."
   ]
  },
  {
   "cell_type": "code",
   "execution_count": 3,
   "metadata": {},
   "outputs": [
    {
     "name": "stdout",
     "output_type": "stream",
     "text": [
      "0.3794\n"
     ]
    },
    {
     "data": {
      "text/plain": [
       "0    0.865795\n",
       "1    0.457040\n",
       "2    8.567067\n",
       "3    0.786262\n",
       "4    0.379424\n",
       "5    8.597873\n",
       "dtype: float64"
      ]
     },
     "execution_count": 3,
     "metadata": {},
     "output_type": "execute_result"
    }
   ],
   "source": [
    "# 2.1\n",
    "from typing_extensions import override\n",
    "\n",
    "period_key = \"1965-1999\"\n",
    "log_excess_idx = 4\n",
    "# h = raw_df[mask_1965_1999].dropna().nunique()['year'] # num of non-NA months\n",
    "h = 1999-1965+1\n",
    "\n",
    "def print_float(num: float) -> None:\n",
    "    print(f\"{num:.4f}\")\n",
    "\n",
    "def compute_prob_log_returns_below_rf(h: float, SR: float) -> float:\n",
    "    f\"\"\"Compute probability of log returns being below log risk-free rate\n",
    "\n",
    "    Args:\n",
    "        h (float): number of years in investment horizon\n",
    "        SR (float): annualized sharpe ratio in sample\n",
    "\n",
    "    Returns:\n",
    "        float: p(h) = \\Phi_N(-\\sqrt h * SR), the cdf of the std normal dist\n",
    "    \"\"\"\n",
    "    return norm.cdf(-np.sqrt(h)*SR)\n",
    "\n",
    "def compute_sharpe_for_period(data: pd.DataFrame, start_year = 1965, end_year = END_YR):\n",
    "    sum_stats = assemble_summary(data, [ ( start_year, end_year ) ], date_col='date', mkt_col='SPX', rf_col='TB1M', periods_per_year=12)\n",
    "    period_key = f\"{start_year}-{end_year}\"\n",
    "    return sum_stats[period_key]['mean'] / sum_stats[period_key]['vol']\n",
    "\n",
    "# annualized Sharpe ratio\n",
    "# SR = sum_stats[period_key]['mean'] / sum_stats[period_key]['vol']\n",
    "SR = compute_sharpe_for_period(raw_df, start_year=1965, end_year=1999)\n",
    "print_float(SR.iloc[4])\n",
    "SR"
   ]
  },
  {
   "cell_type": "code",
   "execution_count": 4,
   "metadata": {},
   "outputs": [
    {
     "name": "stdout",
     "output_type": "stream",
     "text": [
      "0.3522\n"
     ]
    }
   ],
   "source": [
    "prob = compute_prob_log_returns_below_rf(1, SR.iloc[4])\n",
    "print_float(prob)"
   ]
  },
  {
   "cell_type": "markdown",
   "metadata": {},
   "source": [
    "#### 2.2\n",
    "Report the precise probability for $h=15$ and $h=30$ years."
   ]
  },
  {
   "cell_type": "code",
   "execution_count": 5,
   "metadata": {},
   "outputs": [
    {
     "name": "stdout",
     "output_type": "stream",
     "text": [
      "0.0708\n",
      "0.0188\n"
     ]
    }
   ],
   "source": [
    "# 2.2 \n",
    "# compute the probability for horizons of 15 and 30 years\n",
    "print(f\"{compute_prob_log_returns_below_rf(15, SR.iloc[4]):.4f}\")\n",
    "print(f\"{compute_prob_log_returns_below_rf(30, SR.iloc[4]):.4f}\")"
   ]
  },
  {
   "cell_type": "markdown",
   "metadata": {},
   "source": [
    "#### 2.3\n",
    "Plot the probability as a function of the investment horizon, $h$, for $0<h\\le 30$ years."
   ]
  },
  {
   "cell_type": "code",
   "execution_count": 6,
   "metadata": {},
   "outputs": [
    {
     "data": {
      "image/png": "[encoded data removed]",
      "text/plain": [
       "<Figure size 640x480 with 1 Axes>"
      ]
     },
     "metadata": {},
     "output_type": "display_data"
    }
   ],
   "source": [
    "# 2.3\n",
    "\n",
    "probs = [compute_prob_log_returns_below_rf(t, SR.iloc[4]) for t in range(31)]\n",
    "\n",
    "plt.plot(range(31), probs)\n",
    "plt.xlabel(\"Investment horizon (yrs)\")\n",
    "plt.ylabel(\"Probability of log returns below $R_f$\")\n",
    "plt.show()"
   ]
  },
  {
   "cell_type": "markdown",
   "metadata": {},
   "source": [
    "### 3. Full Sample Analysis\n",
    "\n",
    "Use the sample 1965-{END_YR} to reconsider the 30-year probability. As of the end of {END_YR}, calculate the probability of the stock return underperforming the risk-free rate over the next 30 years. That is, $R^m_{t,t+h}$ underperforming $R^f_{t,t+h}$ for $0<h\\le 30$."
   ]
  },
  {
   "cell_type": "code",
   "execution_count": 7,
   "metadata": {},
   "outputs": [
    {
     "name": "stdout",
     "output_type": "stream",
     "text": [
      "0.01900171723129215\n"
     ]
    }
   ],
   "source": [
    "# 3 - full sample analysis\n",
    "SR = compute_sharpe_for_period(raw_df, start_year=1965, end_year=END_YR)\n",
    "thirty_year_prob = compute_prob_log_returns_below_rf(30, SR.iloc[4])\n",
    "print(thirty_year_prob)"
   ]
  },
  {
   "cell_type": "markdown",
   "metadata": {},
   "source": [
    "### 4. In-Sample Estimate of Out-of-Sample Likelihood\n",
    "\n",
    "Let's consider how things turned out relative to Barnstable's 1999 expectations.\n",
    "\n",
    "What was the probability (based on the 1999 estimate of $\\mu$) that the `h`-year market return, $R^m_{t,t+h}$, would be smaller than that realized in `2000-{END_YR}`? \n",
    "\n",
    "**Hint**: You can calculate this as:\n",
    "\n",
    "$$p = \\Phi_{\\mathcal{N}}\\left(\\sqrt{h}\\; \\frac{\\bar{\\texttt{r}}_{out-of-sample} - \\bar{\\texttt{r}}_{\\text{in-sample}}}{\\sigma_{\\text{in-sample}}}\\right)$$\n",
    "\n",
    "where \"in-sample\" denotes 1965-1999 and \"out-of-sample\" denotes 2000-{END_YR}."
   ]
  },
  {
   "cell_type": "code",
   "execution_count": 8,
   "metadata": {},
   "outputs": [
    {
     "name": "stdout",
     "output_type": "stream",
     "text": [
      "0.4859\n"
     ]
    }
   ],
   "source": [
    "# 4 - in-sample estimate of OOS likelihood\n",
    "is_key = \"1965-1999\"\n",
    "oos_key = f\"2000-{END_YR}\"\n",
    "r_out_of_sample = sum_stats[oos_key]['mean'].iloc[4]\n",
    "r_in_sample = sum_stats[is_key]['mean'].iloc[4]\n",
    "vol_in_sample = sum_stats[is_key]['vol'].iloc[4]\n",
    "print_float(compute_prob_log_returns_below_rf(END_YR - 2000 + 1, (r_out_of_sample-r_in_sample)/vol_in_sample))"
   ]
  }
 ],
 "metadata": {
  "kernelspec": {
   "display_name": ".venv",
   "language": "python",
   "name": "python3"
  },
  "language_info": {
   "codemirror_mode": {
    "name": "ipython",
    "version": 3
   },
   "file_extension": ".py",
   "mimetype": "text/x-python",
   "name": "python",
   "nbconvert_exporter": "python",
   "pygments_lexer": "ipython3",
   "version": "3.11.7"
  }
 },
 "nbformat": 4,
 "nbformat_minor": 2
}
