{
 "cells": [
  {
   "cell_type": "markdown",
   "metadata": {},
   "source": [
    "# Barnstable and Long-Run Risk\n",
    "\n",
    "## HBS Case\n",
    "\n",
    "### *The Risk of Stocks in the Long-Run: The Barnstable College Endowment*"
   ]
  },
  {
   "cell_type": "markdown",
   "metadata": {},
   "source": [
    "***"
   ]
  },
  {
   "cell_type": "markdown",
   "metadata": {},
   "source": [
    "# Section 2:\n",
    " Estimating Underperformance\n",
    "\n",
    "### Data\n",
    "\n",
    "Use the returns on the S&P 500 ($r^m$) and 1-month T-bills, ($r^f$) provided in `barnstable_analysis_data.xlsx`.\n",
    "* Data goes through `END_YR=2024`.\n",
    "\n",
    "Barnstable's estimates of mean and volatility are based on the subsample of 1965 to 1999.\n",
    "* We consider this subsample, as well as 2000-{END_YR}, as well as the full sample of 1926-{END_YR}."
   ]
  },
  {
   "cell_type": "markdown",
   "metadata": {},
   "source": [
    "### Notation\n",
    "\n",
    "* $r$ = level return rates\n",
    "* $R$ = cumulative return factor\n",
    "* $\\texttt{r}$ = log return rates\n",
    "\n",
    "$$ R \\equiv 1+r$$\n",
    "\n",
    "$$ \\texttt{r} \\equiv \\ln(1+r) = \\ln(R)$$"
   ]
  },
  {
   "cell_type": "code",
   "execution_count": 1,
   "metadata": {},
   "outputs": [
    {
     "data": {
      "text/html": [
       "<div>\n",
       "<style scoped>\n",
       "    .dataframe tbody tr th:only-of-type {\n",
       "        vertical-align: middle;\n",
       "    }\n",
       "\n",
       "    .dataframe tbody tr th {\n",
       "        vertical-align: top;\n",
       "    }\n",
       "\n",
       "    .dataframe thead th {\n",
       "        text-align: right;\n",
       "    }\n",
       "</style>\n",
       "<table border=\"1\" class=\"dataframe\">\n",
       "  <thead>\n",
       "    <tr style=\"text-align: right;\">\n",
       "      <th></th>\n",
       "      <th>date</th>\n",
       "      <th>SPX</th>\n",
       "      <th>TB1M</th>\n",
       "    </tr>\n",
       "  </thead>\n",
       "  <tbody>\n",
       "    <tr>\n",
       "      <th>0</th>\n",
       "      <td>1926-01-30</td>\n",
       "      <td>-0.001783</td>\n",
       "      <td>0.003061</td>\n",
       "    </tr>\n",
       "    <tr>\n",
       "      <th>1</th>\n",
       "      <td>1926-02-27</td>\n",
       "      <td>-0.033297</td>\n",
       "      <td>0.002612</td>\n",
       "    </tr>\n",
       "    <tr>\n",
       "      <th>2</th>\n",
       "      <td>1926-03-31</td>\n",
       "      <td>-0.057708</td>\n",
       "      <td>0.002601</td>\n",
       "    </tr>\n",
       "    <tr>\n",
       "      <th>3</th>\n",
       "      <td>1926-04-30</td>\n",
       "      <td>0.038522</td>\n",
       "      <td>0.002270</td>\n",
       "    </tr>\n",
       "    <tr>\n",
       "      <th>4</th>\n",
       "      <td>1926-05-28</td>\n",
       "      <td>0.013623</td>\n",
       "      <td>0.002691</td>\n",
       "    </tr>\n",
       "  </tbody>\n",
       "</table>\n",
       "</div>"
      ],
      "text/plain": [
       "        date       SPX      TB1M\n",
       "0 1926-01-30 -0.001783  0.003061\n",
       "1 1926-02-27 -0.033297  0.002612\n",
       "2 1926-03-31 -0.057708  0.002601\n",
       "3 1926-04-30  0.038522  0.002270\n",
       "4 1926-05-28  0.013623  0.002691"
      ]
     },
     "execution_count": 1,
     "metadata": {},
     "output_type": "execute_result"
    }
   ],
   "source": [
    "import numpy as np\n",
    "import pandas as pd\n",
    "import matplotlib.pyplot as plt\n",
    "\n",
    "raw_df = pd.read_excel(\"../data/barnstable_analysis_data.xlsx\", sheet_name=\"data\")\n",
    "raw_df.head()"
   ]
  },
  {
   "cell_type": "markdown",
   "metadata": {},
   "source": [
    "### Question 1: Summary Statistics\n",
    "\n",
    "(a) Report the following (annualized) statistics.\n",
    "\n",
    "| | 1965-1999 | | | 2000-{END_YR} | | | 1926-{END_YR} | |\n",
    "|---|---|---|---|---|---|---|---|---|\n",
    "| | mean | vol | | mean | vol | | mean | vol |\n",
    "| **levels** | $r^m$ | | | | | | | |\n",
    "| | $\\tilde{r}^m$ | | | | | | | |\n",
    "| | $r^f$ | | | | | | | |\n",
    "| **logs** | $\\texttt{r}^m$ | | | | | | | |\n",
    "| | $\\tilde{\\texttt{r}}^m$ | | | | | | | |\n",
    "| | $\\texttt{r}_f$ | | | | | | | |"
   ]
  },
  {
   "cell_type": "code",
   "execution_count": 4,
   "metadata": {},
   "outputs": [
    {
     "name": "stdout",
     "output_type": "stream",
     "text": [
      "            1965-1999 mean 1965-1999 vol 2000-2024 mean 2000-2024 vol  \\\n",
      "r^m                 12.94%        14.94%          8.75%        15.28%   \n",
      "texttt{r}^m         11.76%        14.96%          7.56%        15.38%   \n",
      "r^f                  6.15%         0.72%          1.75%         0.56%   \n",
      "texttt{r}_f          6.13%         0.71%          1.74%         0.55%   \n",
      "\n",
      "            1926-2024 mean 1926-2024 vol  \n",
      "r^m                 11.55%        18.66%  \n",
      "texttt{r}^m          9.78%        18.59%  \n",
      "r^f                  3.19%         0.85%  \n",
      "texttt{r}_f          3.18%         0.85%  \n"
     ]
    },
    {
     "name": "stderr",
     "output_type": "stream",
     "text": [
      "/var/folders/d8/z5lkh3vn2w51kzd93v0t9kbc0000gn/T/ipykernel_55374/1379365612.py:55: FutureWarning: DataFrame.applymap has been deprecated. Use DataFrame.map instead.\n",
      "  print(table.applymap(lambda x: f\"{x*100:.2f}%\"))\n"
     ]
    }
   ],
   "source": [
    "# Question 2.1 Part (a) Here\n",
    "\n",
    "import numpy as np\n",
    "import pandas as pd\n",
    "\n",
    "# Load data\n",
    "df = pd.read_excel(\"../data/barnstable_analysis_data.xlsx\", sheet_name=\"data\")\n",
    "\n",
    "# Rename columns for clarity\n",
    "df = df.rename(columns={\"SPX\": \"r_m\", \"TB1M\": \"r_f\"})\n",
    "\n",
    "# Extract year from the date\n",
    "df[\"year\"] = pd.to_datetime(df[\"date\"]).dt.year\n",
    "\n",
    "# Compute cumulative factors and log returns\n",
    "df[\"R_m\"] = 1 + df[\"r_m\"]\n",
    "df[\"R_f\"] = 1 + df[\"r_f\"]\n",
    "df[\"r_m_log\"] = np.log(df[\"R_m\"])\n",
    "df[\"r_f_log\"] = np.log(df[\"R_f\"])\n",
    "\n",
    "# Helper function to compute annualised mean and volatility\n",
    "def summary_stats(data, start, end):\n",
    "    subset = data[(data[\"year\"] >= start) & (data[\"year\"] <= end)]\n",
    "    stats = {\n",
    "        \"r_m_mean\": subset[\"r_m\"].mean() * 12,\n",
    "        \"r_m_vol\": subset[\"r_m\"].std(ddof=1) * np.sqrt(12),\n",
    "        \"r_f_mean\": subset[\"r_f\"].mean() * 12,\n",
    "        \"r_f_vol\": subset[\"r_f\"].std(ddof=1) * np.sqrt(12),\n",
    "        \"r_m_log_mean\": subset[\"r_m_log\"].mean() * 12,\n",
    "        \"r_m_log_vol\": subset[\"r_m_log\"].std(ddof=1) * np.sqrt(12),\n",
    "        \"r_f_log_mean\": subset[\"r_f_log\"].mean() * 12,\n",
    "        \"r_f_log_vol\": subset[\"r_f_log\"].std(ddof=1) * np.sqrt(12),\n",
    "    }\n",
    "    return pd.Series(stats)\n",
    "\n",
    "# Define sample periods\n",
    "samples = [(1965, 1999), (2000, 2024), (1926, 2024)]\n",
    "\n",
    "# Compute stats for each sample\n",
    "stats_65_99 = summary_stats(df, *samples[0])\n",
    "stats_00_24 = summary_stats(df, *samples[1])\n",
    "stats_full  = summary_stats(df, *samples[2])\n",
    "\n",
    "# Organise into table\n",
    "table = pd.DataFrame({\n",
    "    \"1965-1999 mean\": [stats_65_99[\"r_m_mean\"], stats_65_99[\"r_m_log_mean\"], stats_65_99[\"r_f_mean\"], stats_65_99[\"r_f_log_mean\"]],\n",
    "    \"1965-1999 vol\": [stats_65_99[\"r_m_vol\"], stats_65_99[\"r_m_log_vol\"], stats_65_99[\"r_f_vol\"], stats_65_99[\"r_f_log_vol\"]],\n",
    "    \"2000-2024 mean\": [stats_00_24[\"r_m_mean\"], stats_00_24[\"r_m_log_mean\"], stats_00_24[\"r_f_mean\"], stats_00_24[\"r_f_log_mean\"]],\n",
    "    \"2000-2024 vol\": [stats_00_24[\"r_m_vol\"], stats_00_24[\"r_m_log_vol\"], stats_00_24[\"r_f_vol\"], stats_00_24[\"r_f_log_vol\"]],\n",
    "    \"1926-2024 mean\": [stats_full[\"r_m_mean\"], stats_full[\"r_m_log_mean\"], stats_full[\"r_f_mean\"], stats_full[\"r_f_log_mean\"]],\n",
    "    \"1926-2024 vol\": [stats_full[\"r_m_vol\"], stats_full[\"r_m_log_vol\"], stats_full[\"r_f_vol\"], stats_full[\"r_f_log_vol\"]],\n",
    "}, index=[\"r^m\", \"texttt{r}^m\", \"r^f\", \"texttt{r}_f\"])\n",
    "\n",
    "# Display results as percentages\n",
    "print(table.applymap(lambda x: f\"{x*100:.2f}%\"))\n"
   ]
  },
  {
   "cell_type": "markdown",
   "metadata": {},
   "source": [
    "(b) Comment on how the full-sample return stats compare to the sub-sample stats."
   ]
  },
  {
   "cell_type": "markdown",
   "metadata": {},
   "source": [
    "The full-sample results from 1926–2024 show slightly lower average returns and somewhat higher volatility than the 1965–1999 subsample. \n",
    "\n",
    "The 1965–1999 period was unusually strong and stable for U.S. equities, with average annual market returns of about 13%. \n",
    "\n",
    "In contrast, the 2000–2024 period displays lower mean returns (around 8.8%) and similar or slightly higher volatility, reflecting major downturns such as the dot-com crash and the 2008 financial crisis. \n",
    "\n",
    "The long-run sample smooths out these extremes, indicating that equity returns have moderated over time while risk has remained substantial."
   ]
  },
  {
   "cell_type": "markdown",
   "metadata": {},
   "source": [
    "(c) Comment on how the level stats compare to the log stats."
   ]
  },
  {
   "cell_type": "markdown",
   "metadata": {},
   "source": [
    "Level (arithmetic) returns show higher mean values than log (geometric) returns because they do not account for the compounding effect of volatility. \n",
    "\n",
    "The difference becomes more pronounced when volatility is high, as arithmetic means are inflated by return variability. \n",
    "\n",
    "Log returns better represent the long-term growth rate of wealth. Volatility is nearly identical between level and log returns, since both measure the same underlying variation. \n",
    "\n",
    "Overall, log statistics give a more accurate picture of long-run performance, while level statistics tend to overstate expected growth."
   ]
  },
  {
   "cell_type": "markdown",
   "metadata": {},
   "source": [
    "-----"
   ]
  },
  {
   "cell_type": "markdown",
   "metadata": {},
   "source": [
    "### 2. Probability of Underperformance\n",
    "\n",
    "Recall the following:\n",
    "- If $x\\sim\\mathcal{N}\\left(\\mu_x,\\sigma_x^2\\right)$, then\n",
    "\n",
    "  $$\\Pr\\left[x<\\ell\\right] = \\Phi_\\mathcal{N}\\left(L\\right)$$\n",
    "\n",
    "  where $L = \\frac{\\ell-\\mu_x}{\\sigma_x}$ and $\\Phi_\\mathcal{N}$ denotes the standard normal cdf.\n",
    "\n",
    "- Remember that cumulative log returns are simply the sum of the single-period log returns:\n",
    "  \n",
    "  $$\\texttt{r}^m_{t,t+h} \\equiv \\sum_{i=1}^h \\texttt{r}^m_{t+i}$$\n",
    "\n",
    "- It will be convenient to use and denote sample averages. We use the following notation for an $h$-period average ending at time $t+h$:\n",
    "  \n",
    "  $$\\bar{\\texttt{r}}^m_{t,t+h} = \\frac{1}{h}\\sum_{i=1}^h \\texttt{r}^m_{t+i}$$\n",
    "\n",
    "Calculate the probability that the cumulative market return will fall short of the cumulative risk-free return:\n",
    "\n",
    "$$\\Pr\\left[R^m_{t,t+h} < R^f_{t,t+h}\\right]$$\n",
    "\n",
    "To analyze this analytically, convert the probability statement above to a probability statement about mean log returns."
   ]
  },
  {
   "cell_type": "markdown",
   "metadata": {},
   "source": [
    "#### 2.1\n",
    "Calculate the probability using the subsample 1965-1999.\n",
    "\n",
    "**Hint**: The probability can be expressed as:\n",
    "\n",
    "$$p(h) = \\Phi_{\\mathcal{N}}\\left(-\\sqrt{h}\\;\\text{SR}\\right)$$\n",
    "\n",
    "where $\\text{SR}$ denotes the sample Sharpe ratio of **log** market returns."
   ]
  },
  {
   "cell_type": "code",
   "execution_count": null,
   "metadata": {},
   "outputs": [],
   "source": [
    "# Question 2.1 Code Here\n"
   ]
  },
  {
   "cell_type": "markdown",
   "metadata": {},
   "source": [
    "#### 2.2\n",
    "Report the precise probability for $h=15$ and $h=30$ years."
   ]
  },
  {
   "cell_type": "code",
   "execution_count": null,
   "metadata": {},
   "outputs": [],
   "source": [
    "# Question 2.2 Code Here\n"
   ]
  },
  {
   "cell_type": "markdown",
   "metadata": {},
   "source": [
    "#### 2.3\n",
    "Plot the probability as a function of the investment horizon, $h$, for $0<h\\le 30$ years."
   ]
  },
  {
   "cell_type": "code",
   "execution_count": null,
   "metadata": {},
   "outputs": [],
   "source": [
    "# Question 2.3 Code Here\n"
   ]
  },
  {
   "cell_type": "markdown",
   "metadata": {},
   "source": [
    "-----"
   ]
  },
  {
   "cell_type": "markdown",
   "metadata": {},
   "source": [
    "### 3. Full Sample Analysis\n",
    "\n",
    "Use the sample 1965-{END_YR} to reconsider the 30-year probability. \n",
    "\n",
    "As of the end of {END_YR}, calculate the probability of the stock return underperforming the risk-free rate over the next 30 years. \n",
    "\n",
    "That is, $R^m_{t,t+h}$ underperforming $R^f_{t,t+h}$ for $0<h\\le 30$."
   ]
  },
  {
   "cell_type": "code",
   "execution_count": null,
   "metadata": {},
   "outputs": [],
   "source": [
    "# Question 3 Code Here\n"
   ]
  },
  {
   "cell_type": "markdown",
   "metadata": {},
   "source": [
    "-----"
   ]
  },
  {
   "cell_type": "markdown",
   "metadata": {},
   "source": [
    "### 4. In-Sample Estimate of Out-of-Sample Likelihood\n",
    "\n",
    "Let's consider how things turned out relative to Barnstable's 1999 expectations.\n",
    "\n",
    "What was the probability (based on the 1999 estimate of $\\mu$) that the `h`-year market return, $R^m_{t,t+h}$, would be smaller than that realized in `2000-{END_YR}`? \n",
    "\n",
    "**Hint**: You can calculate this as:\n",
    "\n",
    "$$p = \\Phi_{\\mathcal{N}}\\left(\\sqrt{h}\\; \\frac{\\bar{\\texttt{r}}_{out-of-sample} - \\bar{\\texttt{r}}_{\\text{in-sample}}}{\\sigma_{\\text{in-sample}}}\\right)$$\n",
    "\n",
    "where \"in-sample\" denotes 1965-1999 and \"out-of-sample\" denotes 2000-{END_YR}."
   ]
  },
  {
   "cell_type": "code",
   "execution_count": 1,
   "metadata": {},
   "outputs": [],
   "source": [
    "# Question 4 Code Here\n"
   ]
  }
 ],
 "metadata": {
  "kernelspec": {
   "display_name": "Python 3",
   "language": "python",
   "name": "python3"
  },
  "language_info": {
   "codemirror_mode": {
    "name": "ipython",
    "version": 3
   },
   "file_extension": ".py",
   "mimetype": "text/x-python",
   "name": "python",
   "nbconvert_exporter": "python",
   "pygments_lexer": "ipython3",
   "version": "3.13.7"
  }
 },
 "nbformat": 4,
 "nbformat_minor": 2
}
