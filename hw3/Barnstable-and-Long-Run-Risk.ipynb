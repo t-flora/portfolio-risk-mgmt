{
 "cells": [
  {
   "cell_type": "markdown",
   "metadata": {},
   "source": [
    "# Barnstable and Long-Run Risk\n",
    "\n",
    "## HBS Case\n",
    "\n",
    "### *The Risk of Stocks in the Long-Run: The Barnstable College Endowment*"
   ]
  },
  {
   "cell_type": "markdown",
   "metadata": {},
   "source": [
    "***"
   ]
  },
  {
   "cell_type": "markdown",
   "metadata": {},
   "source": [
    "# Section 2:\n",
    " Estimating Underperformance\n",
    "\n",
    "### Data\n",
    "\n",
    "Use the returns on the S&P 500 ($r^m$) and 1-month T-bills, ($r^f$) provided in `barnstable_analysis_data.xlsx`.\n",
    "* Data goes through `END_YR=2024`.\n",
    "\n",
    "Barnstable's estimates of mean and volatility are based on the subsample of 1965 to 1999.\n",
    "* We consider this subsample, as well as 2000-{END_YR}, as well as the full sample of 1926-{END_YR}."
   ]
  },
  {
   "cell_type": "markdown",
   "metadata": {},
   "source": [
    "### Notation\n",
    "\n",
    "* $r$ = level return rates\n",
    "* $R$ = cumulative return factor\n",
    "* $\\texttt{r}$ = log return rates\n",
    "\n",
    "$$ R \\equiv 1+r$$\n",
    "\n",
    "$$ \\texttt{r} \\equiv \\ln(1+r) = \\ln(R)$$"
   ]
  },
  {
   "cell_type": "code",
   "execution_count": 2,
   "metadata": {},
   "outputs": [
    {
     "data": {
      "text/html": [
       "<div>\n",
       "<style scoped>\n",
       "    .dataframe tbody tr th:only-of-type {\n",
       "        vertical-align: middle;\n",
       "    }\n",
       "\n",
       "    .dataframe tbody tr th {\n",
       "        vertical-align: top;\n",
       "    }\n",
       "\n",
       "    .dataframe thead th {\n",
       "        text-align: right;\n",
       "    }\n",
       "</style>\n",
       "<table border=\"1\" class=\"dataframe\">\n",
       "  <thead>\n",
       "    <tr style=\"text-align: right;\">\n",
       "      <th></th>\n",
       "      <th>date</th>\n",
       "      <th>SPX</th>\n",
       "      <th>TB1M</th>\n",
       "    </tr>\n",
       "  </thead>\n",
       "  <tbody>\n",
       "    <tr>\n",
       "      <th>0</th>\n",
       "      <td>1926-01-30</td>\n",
       "      <td>-0.001783</td>\n",
       "      <td>0.003061</td>\n",
       "    </tr>\n",
       "    <tr>\n",
       "      <th>1</th>\n",
       "      <td>1926-02-27</td>\n",
       "      <td>-0.033297</td>\n",
       "      <td>0.002612</td>\n",
       "    </tr>\n",
       "    <tr>\n",
       "      <th>2</th>\n",
       "      <td>1926-03-31</td>\n",
       "      <td>-0.057708</td>\n",
       "      <td>0.002601</td>\n",
       "    </tr>\n",
       "    <tr>\n",
       "      <th>3</th>\n",
       "      <td>1926-04-30</td>\n",
       "      <td>0.038522</td>\n",
       "      <td>0.002270</td>\n",
       "    </tr>\n",
       "    <tr>\n",
       "      <th>4</th>\n",
       "      <td>1926-05-28</td>\n",
       "      <td>0.013623</td>\n",
       "      <td>0.002691</td>\n",
       "    </tr>\n",
       "  </tbody>\n",
       "</table>\n",
       "</div>"
      ],
      "text/plain": [
       "        date       SPX      TB1M\n",
       "0 1926-01-30 -0.001783  0.003061\n",
       "1 1926-02-27 -0.033297  0.002612\n",
       "2 1926-03-31 -0.057708  0.002601\n",
       "3 1926-04-30  0.038522  0.002270\n",
       "4 1926-05-28  0.013623  0.002691"
      ]
     },
     "execution_count": 2,
     "metadata": {},
     "output_type": "execute_result"
    }
   ],
   "source": [
    "import numpy as np\n",
    "import pandas as pd\n",
    "import matplotlib.pyplot as plt\n",
    "\n",
    "raw_df = pd.read_excel(\"../data/barnstable_analysis_data.xlsx\", sheet_name=\"data\")\n",
    "raw_df.head()"
   ]
  },
  {
   "cell_type": "markdown",
   "metadata": {},
   "source": [
    "### Question 1: Summary Statistics\n",
    "\n",
    "(a) Report the following (annualized) statistics.\n",
    "\n",
    "| | 1965-1999 | | | 2000-{END_YR} | | | 1926-{END_YR} | |\n",
    "|---|---|---|---|---|---|---|---|---|\n",
    "| | mean | vol | | mean | vol | | mean | vol |\n",
    "| **levels** | $r^m$ | | | | | | | |\n",
    "| | $\\tilde{r}^m$ | | | | | | | |\n",
    "| | $r^f$ | | | | | | | |\n",
    "| **logs** | $\\texttt{r}^m$ | | | | | | | |\n",
    "| | $\\tilde{\\texttt{r}}^m$ | | | | | | | |\n",
    "| | $\\texttt{r}_f$ | | | | | | | |"
   ]
  },
  {
   "cell_type": "code",
   "execution_count": 3,
   "metadata": {},
   "outputs": [
    {
     "data": {
      "text/html": [
       "<div>\n",
       "<style scoped>\n",
       "    .dataframe tbody tr th:only-of-type {\n",
       "        vertical-align: middle;\n",
       "    }\n",
       "\n",
       "    .dataframe tbody tr th {\n",
       "        vertical-align: top;\n",
       "    }\n",
       "\n",
       "    .dataframe thead th {\n",
       "        text-align: right;\n",
       "    }\n",
       "</style>\n",
       "<table border=\"1\" class=\"dataframe\">\n",
       "  <thead>\n",
       "    <tr style=\"text-align: right;\">\n",
       "      <th></th>\n",
       "      <th>1965–1999: mean</th>\n",
       "      <th>1965–1999: vol</th>\n",
       "      <th>2000–2024:mean</th>\n",
       "      <th>2000–2024:vol</th>\n",
       "      <th>Full sample(1926-2024): mean</th>\n",
       "      <th>Full sample(1926-2024): vol</th>\n",
       "    </tr>\n",
       "  </thead>\n",
       "  <tbody>\n",
       "    <tr>\n",
       "      <th>r_m</th>\n",
       "      <td>0.129354</td>\n",
       "      <td>0.149405</td>\n",
       "      <td>0.087542</td>\n",
       "      <td>0.152815</td>\n",
       "      <td>0.115529</td>\n",
       "      <td>0.186650</td>\n",
       "    </tr>\n",
       "    <tr>\n",
       "      <th>r^_m</th>\n",
       "      <td>0.068660</td>\n",
       "      <td>0.150227</td>\n",
       "      <td>0.070091</td>\n",
       "      <td>0.153093</td>\n",
       "      <td>0.083308</td>\n",
       "      <td>0.187329</td>\n",
       "    </tr>\n",
       "    <tr>\n",
       "      <th>r_f</th>\n",
       "      <td>0.061503</td>\n",
       "      <td>0.007179</td>\n",
       "      <td>0.017451</td>\n",
       "      <td>0.005553</td>\n",
       "      <td>0.031928</td>\n",
       "      <td>0.008507</td>\n",
       "    </tr>\n",
       "    <tr>\n",
       "      <th>r_m_log</th>\n",
       "      <td>0.117600</td>\n",
       "      <td>0.149568</td>\n",
       "      <td>0.075553</td>\n",
       "      <td>0.153763</td>\n",
       "      <td>0.097821</td>\n",
       "      <td>0.185938</td>\n",
       "    </tr>\n",
       "    <tr>\n",
       "      <th>r^_m_log</th>\n",
       "      <td>0.057161</td>\n",
       "      <td>0.151207</td>\n",
       "      <td>0.058143</td>\n",
       "      <td>0.154227</td>\n",
       "      <td>0.065673</td>\n",
       "      <td>0.186914</td>\n",
       "    </tr>\n",
       "    <tr>\n",
       "      <th>r_f_log</th>\n",
       "      <td>0.061320</td>\n",
       "      <td>0.007132</td>\n",
       "      <td>0.017423</td>\n",
       "      <td>0.005541</td>\n",
       "      <td>0.031850</td>\n",
       "      <td>0.008473</td>\n",
       "    </tr>\n",
       "  </tbody>\n",
       "</table>\n",
       "</div>"
      ],
      "text/plain": [
       "          1965–1999: mean  1965–1999: vol  2000–2024:mean  2000–2024:vol  \\\n",
       "r_m              0.129354        0.149405        0.087542       0.152815   \n",
       "r^_m             0.068660        0.150227        0.070091       0.153093   \n",
       "r_f              0.061503        0.007179        0.017451       0.005553   \n",
       "r_m_log          0.117600        0.149568        0.075553       0.153763   \n",
       "r^_m_log         0.057161        0.151207        0.058143       0.154227   \n",
       "r_f_log          0.061320        0.007132        0.017423       0.005541   \n",
       "\n",
       "          Full sample(1926-2024): mean  Full sample(1926-2024): vol  \n",
       "r_m                           0.115529                     0.186650  \n",
       "r^_m                          0.083308                     0.187329  \n",
       "r_f                           0.031928                     0.008507  \n",
       "r_m_log                       0.097821                     0.185938  \n",
       "r^_m_log                      0.065673                     0.186914  \n",
       "r_f_log                       0.031850                     0.008473  "
      ]
     },
     "execution_count": 3,
     "metadata": {},
     "output_type": "execute_result"
    }
   ],
   "source": [
    "# Question 2.1 Part (a) Here\n",
    "\n",
    "import numpy as np\n",
    "import pandas as pd\n",
    "\n",
    "# Load data\n",
    "df = pd.read_excel(\"../data/barnstable_analysis_data.xlsx\", sheet_name=\"data\")\n",
    "\n",
    "# Rename columns for clarity\n",
    "df = df.rename(columns={\"SPX\": \"r_m\", \"TB1M\": \"r_f\"})\n",
    "\n",
    "# Extract year from the date\n",
    "df[\"year\"] = pd.to_datetime(df[\"date\"]).dt.year\n",
    "\n",
    "# Compute cumulative factors and log returns\n",
    "df[\"r^_m\"] = df[\"r_m\"]-df[\"r_f\"]\n",
    "df[\"R_m\"] = 1 + df[\"r_m\"]\n",
    "df[\"R^_m\"] = 1 + df[\"r^_m\"]\n",
    "df[\"R_f\"] = 1 + df[\"r_f\"]\n",
    "df[\"r_m_log\"] = np.log(df[\"R_m\"])\n",
    "df[\"r^_m_log\"] = np.log(df[\"R^_m\"])\n",
    "df[\"r_f_log\"] = np.log(df[\"R_f\"])\n",
    "\n",
    "\n",
    "# Helper function to compute annualised mean and volatility\n",
    "def summary_stats(data, start, end):\n",
    "    subset = data[(data[\"year\"] >= start) & (data[\"year\"] <= end)]\n",
    "    mean_stats = {\n",
    "        \"r_m\": subset[\"r_m\"].mean() * 12,\n",
    "        \"r^_m\": subset[\"r^_m\"].mean() * 12,\n",
    "        \"r_f\": subset[\"r_f\"].mean() * 12,\n",
    "        \"r_m_log\": subset[\"r_m_log\"].mean() * 12,\n",
    "        \"r^_m_log\": subset[\"r^_m_log\"].mean() * 12,\n",
    "        \"r_f_log\": subset[\"r_f_log\"].mean() * 12,\n",
    "    }\n",
    "    vol_stats = {\n",
    "        \"r_m\": subset[\"r_m\"].std(ddof=1) * np.sqrt(12),\n",
    "        \"r^_m\": subset[\"r^_m\"].std(ddof=1) * np.sqrt(12),\n",
    "        \"r_f\": subset[\"r_f\"].std(ddof=1) * np.sqrt(12),\n",
    "        \"r_m_log\": subset[\"r_m_log\"].std(ddof=1) * np.sqrt(12),\n",
    "        \"r^_m_log\": subset[\"r^_m_log\"].std(ddof=1) * np.sqrt(12),\n",
    "        \"r_f_log\": subset[\"r_f_log\"].std(ddof=1) * np.sqrt(12),\n",
    "    }\n",
    "    return pd.Series(mean_stats), pd.Series(vol_stats)\n",
    "\n",
    "# Define sample periods\n",
    "samples = [(1965, 1999), (2000, 2024), (1926, 2024)]\n",
    "\n",
    "# Compute stats for each sample\n",
    "m_stats_65_99, v_stats_65_99 = summary_stats(df, *samples[0])\n",
    "m_stats_00_24, v_stats_00_24 = summary_stats(df, *samples[1])\n",
    "m_stats_full, v_stats_full = summary_stats(df, *samples[2])\n",
    "\n",
    "# Organise into table\n",
    "table = pd.concat(\n",
    "    [m_stats_65_99, v_stats_65_99, m_stats_00_24, v_stats_00_24, m_stats_full, v_stats_full],\n",
    "    axis=1,                \n",
    "    keys=['1965–1999: mean','1965–1999: vol', '2000–2024:mean', '2000–2024:vol', 'Full sample(1926-2024): mean', 'Full sample(1926-2024): vol']  \n",
    ")\n",
    "table\n"
   ]
  },
  {
   "cell_type": "markdown",
   "metadata": {},
   "source": [
    "(b) Comment on how the full-sample return stats compare to the sub-sample stats."
   ]
  },
  {
   "cell_type": "markdown",
   "metadata": {},
   "source": [
    "The means of the sub-samples can differ substantially from that of the full sample, while the volatility of the full sample is likely to be larger than the volatilities of the sub-samples.\n",
    "This indicates that the behavior of returns changes across different time periods, and assuming that it remains the same over a long historical period may be misleading."
   ]
  },
  {
   "cell_type": "markdown",
   "metadata": {},
   "source": [
    "(c) Comment on how the level stats compare to the log stats."
   ]
  },
  {
   "cell_type": "markdown",
   "metadata": {},
   "source": [
    "The mean return calculated from log statistics is often lower than that from level statistics, while their volatilities are nearly the same. When volatility is high, the difference between the two mean returns tends to become larger."
   ]
  },
  {
   "cell_type": "markdown",
   "metadata": {},
   "source": [
    "-----"
   ]
  },
  {
   "cell_type": "markdown",
   "metadata": {},
   "source": [
    "### 2. Probability of Underperformance\n",
    "\n",
    "Recall the following:\n",
    "- If $x\\sim\\mathcal{N}\\left(\\mu_x,\\sigma_x^2\\right)$, then\n",
    "\n",
    "  $$\\Pr\\left[x<\\ell\\right] = \\Phi_\\mathcal{N}\\left(L\\right)$$\n",
    "\n",
    "  where $L = \\frac{\\ell-\\mu_x}{\\sigma_x}$ and $\\Phi_\\mathcal{N}$ denotes the standard normal cdf.\n",
    "\n",
    "- Remember that cumulative log returns are simply the sum of the single-period log returns:\n",
    "  \n",
    "  $$\\texttt{r}^m_{t,t+h} \\equiv \\sum_{i=1}^h \\texttt{r}^m_{t+i}$$\n",
    "\n",
    "- It will be convenient to use and denote sample averages. We use the following notation for an $h$-period average ending at time $t+h$:\n",
    "  \n",
    "  $$\\bar{\\texttt{r}}^m_{t,t+h} = \\frac{1}{h}\\sum_{i=1}^h \\texttt{r}^m_{t+i}$$\n",
    "\n",
    "Calculate the probability that the cumulative market return will fall short of the cumulative risk-free return:\n",
    "\n",
    "$$\\Pr\\left[R^m_{t,t+h} < R^f_{t,t+h}\\right]$$\n",
    "\n",
    "To analyze this analytically, convert the probability statement above to a probability statement about mean log returns."
   ]
  },
  {
   "cell_type": "markdown",
   "metadata": {},
   "source": [
    "#### 2.1\n",
    "Calculate the probability using the subsample 1965-1999.\n",
    "\n"
   ]
  },
  {
   "cell_type": "code",
   "execution_count": 6,
   "metadata": {},
   "outputs": [
    {
     "name": "stdout",
     "output_type": "stream",
     "text": [
      "Probability of Underperformance in one year in the subsample 1965-1999:  0.32382117575825253\n"
     ]
    }
   ],
   "source": [
    "# Question 2.1 Code Here\n",
    "\n",
    "from scipy.stats import norm\n",
    "\n",
    "# Assume vol of r_f = 0\n",
    "#l = m_stats_65_99[\"r_f\"]\n",
    "#L = (l - m_stats_65_99[\"r_m\"])/ v_stats_65_99[\"r_m\"]\n",
    "#p = norm.cdf(L)\n",
    "#print(\"Probability of Underperformance in one year in the subsample 1965-1999: \", p)\n",
    "\n",
    "\n",
    "### if we try to let the vol of r_f != 0\n",
    "### The answer would be almost the same\n",
    "L = (-m_stats_65_99[\"r^_m\"])/ v_stats_65_99[\"r^_m\"]\n",
    "p = norm.cdf(L)\n",
    "print(\"Probability of Underperformance in one year in the subsample 1965-1999: \", p)\n",
    "\n"
   ]
  },
  {
   "cell_type": "markdown",
   "metadata": {},
   "source": [
    "#### 2.2\n",
    "Report the precise probability for $h=15$ and $h=30$ years."
   ]
  },
  {
   "cell_type": "code",
   "execution_count": 5,
   "metadata": {},
   "outputs": [
    {
     "name": "stdout",
     "output_type": "stream",
     "text": [
      "The precise probability for 15 years:  0.07468879668049792\n",
      "The precise probability for 30 years:  0.0\n"
     ]
    }
   ],
   "source": [
    "# Question 2.2 Code Here\n",
    "\n",
    "sub_df_1 = df[(df[\"year\"] >= 1965) & (df[\"year\"] <= 1999)].copy()\n",
    "sub_df_1.reset_index(inplace= True)\n",
    "\n",
    "def precise_probability(sub_df, year, frequent = 12):\n",
    "    n = year* frequent\n",
    "    Rlog_rm = sub_df['r_m_log'].cumsum()\n",
    "    Rlog_rf = sub_df['r_f_log'].cumsum()\n",
    "    lenth = 0\n",
    "    fail = 0\n",
    "    for i in range(n-1, len(sub_df)):\n",
    "        if Rlog_rm[i] < Rlog_rf[i]:\n",
    "            fail += 1\n",
    "        lenth += 1\n",
    "    return fail/lenth\n",
    "\n",
    "print(\"The precise probability for 15 years: \", precise_probability(sub_df_1, 15, 12))\n",
    "print(\"The precise probability for 30 years: \", precise_probability(sub_df_1, 30, 12))\n"
   ]
  },
  {
   "cell_type": "markdown",
   "metadata": {},
   "source": [
    "#### 2.3\n",
    "Plot the probability as a function of the investment horizon, $h$, for $0<h\\le 30$ years.\n",
    "\n",
    "**Hint**: The probability can be expressed as:\n",
    "\n",
    "$$p(h) = \\Phi_{\\mathcal{N}}\\left(-\\sqrt{h}\\;\\text{SR}\\right)$$\n",
    "\n",
    "where $\\text{SR}$ denotes the sample Sharpe ratio of **log** market returns."
   ]
  },
  {
   "cell_type": "code",
   "execution_count": null,
   "metadata": {},
   "outputs": [
    {
     "data": {
      "image/png": "[encoded data removed]",
      "text/plain": [
       "<Figure size 640x480 with 1 Axes>"
      ]
     },
     "metadata": {},
     "output_type": "display_data"
    }
   ],
   "source": [
    "# Question 2.3 Code Here\n",
    "p_list = []\n",
    "h_list = [i for i in range(1, 31)]\n",
    "SR = m_stats_65_99[\"r^_m\"]/ v_stats_65_99[\"r^_m\"]\n",
    "for h in h_list:\n",
    "    p_list.append(norm.cdf(-SR * np.sqrt(h)))\n",
    "\n",
    "import matplotlib.pyplot as plt\n",
    "\n",
    "\n",
    "plt.plot(h_list, p_list, linestyle=':', color='blue', marker='o', label='Dotted Line')\n",
    "\n",
    "plt.title('The Probability of Underperformance as a Function of the Investment Horizon')\n",
    "plt.xlabel('Investment Horizon(year)')\n",
    "plt.ylabel('Probability of Underperformance')\n",
    "plt.legend()\n",
    "\n",
    "plt.show()\n"
   ]
  },
  {
   "cell_type": "markdown",
   "metadata": {},
   "source": [
    "-----"
   ]
  },
  {
   "cell_type": "markdown",
   "metadata": {},
   "source": [
    "### 3. Full Sample Analysis\n",
    "\n",
    "Use the sample 1965-{END_YR} to reconsider the 30-year probability. \n",
    "\n",
    "As of the end of {END_YR}, calculate the probability of the stock return underperforming the risk-free rate over the next 30 years. \n",
    "\n",
    "That is, $R^m_{t,t+h}$ underperforming $R^f_{t,t+h}$ for $0<h\\le 30$."
   ]
  },
  {
   "cell_type": "code",
   "execution_count": 13,
   "metadata": {},
   "outputs": [
    {
     "data": {
      "image/png": "[encoded data removed]",
      "text/plain": [
       "<Figure size 640x480 with 1 Axes>"
      ]
     },
     "metadata": {},
     "output_type": "display_data"
    }
   ],
   "source": [
    "# Question 3 Code Here\n",
    "\n",
    "sub_df_2 = df[(df[\"year\"] >= 1965) & (df[\"year\"] <= 2024)].copy()\n",
    "sub_df_2.reset_index(inplace= True)\n",
    "\n",
    "p_list_2 = []\n",
    "h_list_2 = [i for i in range(1, 31)]\n",
    "SR_2 = sub_df_2[\"r^_m\"].mean() / sub_df_2[\"r^_m\"].std() * np.sqrt(12)\n",
    "for h in h_list_2:\n",
    "    p_list_2.append(norm.cdf(-SR_2 * np.sqrt(h)))\n",
    "\n",
    "#import matplotlib.pyplot as plt\n",
    "\n",
    "plt.plot(h_list_2, p_list_2, linestyle=':', color='red', marker='o', label='Dotted Line')\n",
    "\n",
    "plt.title('The Probability of Underperformance as a Function of the Investment Horizon(1965-2024 sample data)')\n",
    "plt.xlabel('Investment Horizon(year)')\n",
    "plt.ylabel('Probability of Underperformance')\n",
    "plt.legend()\n",
    "\n",
    "plt.show()"
   ]
  },
  {
   "cell_type": "code",
   "execution_count": null,
   "metadata": {},
   "outputs": [
    {
     "data": {
      "text/plain": [
       "(np.float64(0.4570399214010738), np.float64(0.4576755123063914))"
      ]
     },
     "execution_count": 11,
     "metadata": {},
     "output_type": "execute_result"
    }
   ],
   "source": [
    "# Checking, as the graphs look similar. They actually have similar Sharp Ratio\n",
    "SR, SR_2"
   ]
  },
  {
   "cell_type": "markdown",
   "metadata": {},
   "source": [
    "-----"
   ]
  },
  {
   "cell_type": "markdown",
   "metadata": {},
   "source": [
    "### 4. In-Sample Estimate of Out-of-Sample Likelihood\n",
    "\n",
    "Let's consider how things turned out relative to Barnstable's 1999 expectations.\n",
    "\n",
    "What was the probability (based on the 1999 estimate of $\\mu$) that the `h`-year market return, $R^m_{t,t+h}$, would be smaller than that realized in `2000-{END_YR}`? \n",
    "\n",
    "**Hint**: You can calculate this as:\n",
    "\n",
    "$$p = \\Phi_{\\mathcal{N}}\\left(\\sqrt{h}\\; \\frac{\\bar{\\texttt{r}}_{out-of-sample} - \\bar{\\texttt{r}}_{\\text{in-sample}}}{\\sigma_{\\text{in-sample}}}\\right)$$\n",
    "\n",
    "where \"in-sample\" denotes 1965-1999 and \"out-of-sample\" denotes 2000-{END_YR}."
   ]
  },
  {
   "cell_type": "code",
   "execution_count": 1,
   "metadata": {},
   "outputs": [],
   "source": [
    "# Question 4 Code Here\n"
   ]
  }
 ],
 "metadata": {
  "kernelspec": {
   "display_name": "Python 3",
   "language": "python",
   "name": "python3"
  },
  "language_info": {
   "codemirror_mode": {
    "name": "ipython",
    "version": 3
   },
   "file_extension": ".py",
   "mimetype": "text/x-python",
   "name": "python",
   "nbconvert_exporter": "python",
   "pygments_lexer": "ipython3",
   "version": "3.13.7"
  }
 },
 "nbformat": 4,
 "nbformat_minor": 2
}
