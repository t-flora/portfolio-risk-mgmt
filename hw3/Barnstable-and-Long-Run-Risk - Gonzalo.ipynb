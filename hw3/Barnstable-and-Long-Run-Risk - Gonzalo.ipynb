{
 "cells": [
  {
   "cell_type": "markdown",
   "metadata": {},
   "source": [
    "# Barnstable and Long-Run Risk\n",
    "\n",
    "## HBS Case\n",
    "\n",
    "### *The Risk of Stocks in the Long-Run: The Barnstable College Endowment*"
   ]
  },
  {
   "cell_type": "markdown",
   "metadata": {},
   "source": [
    "***"
   ]
  },
  {
   "cell_type": "markdown",
   "metadata": {},
   "source": [
    "# Section 2:\n",
    " Estimating Underperformance\n",
    "\n",
    "### Data\n",
    "\n",
    "Use the returns on the S&P 500 ($r^m$) and 1-month T-bills, ($r^f$) provided in `barnstable_analysis_data.xlsx`.\n",
    "* Data goes through `END_YR=2024`.\n",
    "\n",
    "Barnstable's estimates of mean and volatility are based on the subsample of 1965 to 1999.\n",
    "* We consider this subsample, as well as 2000-{END_YR}, as well as the full sample of 1926-{END_YR}."
   ]
  },
  {
   "cell_type": "markdown",
   "metadata": {},
   "source": [
    "### Notation\n",
    "\n",
    "* $r$ = level return rates\n",
    "* $R$ = cumulative return factor\n",
    "* $\\texttt{r}$ = log return rates\n",
    "\n",
    "$$ R \\equiv 1+r$$\n",
    "\n",
    "$$ \\texttt{r} \\equiv \\ln(1+r) = \\ln(R)$$"
   ]
  },
  {
   "cell_type": "code",
   "execution_count": 3,
   "metadata": {},
   "outputs": [
    {
     "data": {
      "application/vnd.microsoft.datawrangler.viewer.v0+json": {
       "columns": [
        {
         "name": "index",
         "rawType": "int64",
         "type": "integer"
        },
        {
         "name": "date",
         "rawType": "datetime64[ns]",
         "type": "datetime"
        },
        {
         "name": "SPX",
         "rawType": "float64",
         "type": "float"
        },
        {
         "name": "TB1M",
         "rawType": "float64",
         "type": "float"
        }
       ],
       "ref": "a4837afd-6536-469e-9e87-5ebd1c1702a4",
       "rows": [
        [
         "0",
         "1926-01-30 00:00:00",
         "-0.001783",
         "0.00306125149532175"
        ],
        [
         "1",
         "1926-02-27 00:00:00",
         "-0.033297",
         "0.00261196125120025"
        ],
        [
         "2",
         "1926-03-31 00:00:00",
         "-0.057708",
         "0.002601477729693416"
        ],
        [
         "3",
         "1926-04-30 00:00:00",
         "0.038522",
         "0.0022701320113805"
        ],
        [
         "4",
         "1926-05-28 00:00:00",
         "0.013623",
         "0.002691238226509667"
        ]
       ],
       "shape": {
        "columns": 3,
        "rows": 5
       }
      },
      "text/html": [
       "<div>\n",
       "<style scoped>\n",
       "    .dataframe tbody tr th:only-of-type {\n",
       "        vertical-align: middle;\n",
       "    }\n",
       "\n",
       "    .dataframe tbody tr th {\n",
       "        vertical-align: top;\n",
       "    }\n",
       "\n",
       "    .dataframe thead th {\n",
       "        text-align: right;\n",
       "    }\n",
       "</style>\n",
       "<table border=\"1\" class=\"dataframe\">\n",
       "  <thead>\n",
       "    <tr style=\"text-align: right;\">\n",
       "      <th></th>\n",
       "      <th>date</th>\n",
       "      <th>SPX</th>\n",
       "      <th>TB1M</th>\n",
       "    </tr>\n",
       "  </thead>\n",
       "  <tbody>\n",
       "    <tr>\n",
       "      <th>0</th>\n",
       "      <td>1926-01-30</td>\n",
       "      <td>-0.001783</td>\n",
       "      <td>0.003061</td>\n",
       "    </tr>\n",
       "    <tr>\n",
       "      <th>1</th>\n",
       "      <td>1926-02-27</td>\n",
       "      <td>-0.033297</td>\n",
       "      <td>0.002612</td>\n",
       "    </tr>\n",
       "    <tr>\n",
       "      <th>2</th>\n",
       "      <td>1926-03-31</td>\n",
       "      <td>-0.057708</td>\n",
       "      <td>0.002601</td>\n",
       "    </tr>\n",
       "    <tr>\n",
       "      <th>3</th>\n",
       "      <td>1926-04-30</td>\n",
       "      <td>0.038522</td>\n",
       "      <td>0.002270</td>\n",
       "    </tr>\n",
       "    <tr>\n",
       "      <th>4</th>\n",
       "      <td>1926-05-28</td>\n",
       "      <td>0.013623</td>\n",
       "      <td>0.002691</td>\n",
       "    </tr>\n",
       "  </tbody>\n",
       "</table>\n",
       "</div>"
      ],
      "text/plain": [
       "        date       SPX      TB1M\n",
       "0 1926-01-30 -0.001783  0.003061\n",
       "1 1926-02-27 -0.033297  0.002612\n",
       "2 1926-03-31 -0.057708  0.002601\n",
       "3 1926-04-30  0.038522  0.002270\n",
       "4 1926-05-28  0.013623  0.002691"
      ]
     },
     "execution_count": 3,
     "metadata": {},
     "output_type": "execute_result"
    }
   ],
   "source": [
    "import numpy as np\n",
    "import pandas as pd\n",
    "import matplotlib.pyplot as plt\n",
    "\n",
    "#load data\n",
    "raw_df = pd.read_excel(\"../data/barnstable_analysis_data.xlsx\", sheet_name=\"data\")\n",
    "raw_df.head()"
   ]
  },
  {
   "cell_type": "markdown",
   "metadata": {},
   "source": [
    "### Question 1: Summary Statistics\n",
    "\n",
    "(a) Report the following (annualized) statistics.\n",
    "\n",
    "| | 1965-1999 | | | 2000-{END_YR} | | | 1926-{END_YR} | |\n",
    "|---|---|---|---|---|---|---|---|---|\n",
    "| | mean | vol | | mean | vol | | mean | vol |\n",
    "| **levels** | $r^m$ | | | | | | | |\n",
    "| | $\\tilde{r}^m$ | | | | | | | |\n",
    "| | $r^f$ | | | | | | | |\n",
    "| **logs** | $\\texttt{r}^m$ | | | | | | | |\n",
    "| | $\\tilde{\\texttt{r}}^m$ | | | | | | | |\n",
    "| | $\\texttt{r}_f$ | | | | | | | |"
   ]
  },
  {
   "cell_type": "code",
   "execution_count": 13,
   "metadata": {},
   "outputs": [
    {
     "name": "stdout",
     "output_type": "stream",
     "text": [
      "            1965-1999           2000-2024           1926-2024          \n",
      "                 mean       vol      mean       vol      mean       vol\n",
      "                                                                       \n",
      "levels r^m   0.129354  0.149405  0.087542  0.152815  0.115529  0.186650\n",
      "       r̃^m  0.068660  0.150227  0.070091  0.153093  0.083308  0.187329\n",
      "       r^f   0.061503  0.007179  0.017451  0.005553  0.031928  0.008507\n",
      "logs   r     0.117600  0.149568  0.075553  0.153763  0.097821  0.185938\n",
      "       r̃    0.057161  0.151207  0.058143  0.154227  0.065673  0.186914\n",
      "       r_f   0.061320  0.007132  0.017423  0.005541  0.031850  0.008473\n"
     ]
    }
   ],
   "source": [
    "# Question 2.1 Part (a) Here\n",
    "\n",
    "import numpy as np\n",
    "import pandas as pd\n",
    "\n",
    "# Load data\n",
    "df = pd.read_excel(\"../data/barnstable_analysis_data.xlsx\", sheet_name=\"data\")\n",
    "\n",
    "# Rename columns for clarity\n",
    "df = df.rename(columns={\"SPX\": \"r_m\", \"TB1M\": \"r_f\"})\n",
    "\n",
    "# Extract year from the date\n",
    "df[\"year\"] = pd.to_datetime(df[\"date\"]).dt.year\n",
    "\n",
    "# Compute cumulative factors and log returns\n",
    "df[\"R_m\"] = 1 + df[\"r_m\"]\n",
    "df[\"R_f\"] = 1 + df[\"r_f\"]\n",
    "df[\"r_m_log\"] = np.log(df[\"R_m\"])\n",
    "df[\"r_f_log\"] = np.log(df[\"R_f\"])\n",
    "\n",
    "#calculate excess returns\n",
    "df['r̃']     =   df['r_m']-df['r_f']\n",
    "df['R̃']     =   1+df['r̃']\n",
    "df['r̃_log'] =   np.log(df[\"R̃\"])\n",
    "\n",
    "# Helper function to compute annualised mean and volatility\n",
    "def summary_stats(data, start, end):\n",
    "    subset = data[(data[\"year\"] >= start) & (data[\"year\"] <= end)]\n",
    "    stats = {\n",
    "        \"r_m_mean\": subset[\"r_m\"].mean() * 12,\n",
    "        \"r_m_vol\": subset[\"r_m\"].std(ddof=1) * np.sqrt(12),\n",
    "        \"r_f_mean\": subset[\"r_f\"].mean() * 12,\n",
    "        \"r_f_vol\": subset[\"r_f\"].std(ddof=1) * np.sqrt(12),\n",
    "        \"r̃_mean\": subset[\"r̃\"].mean() * 12,\n",
    "        \"r̃_vol\": subset[\"r̃\"].std(ddof=1) * np.sqrt(12),\n",
    "        \"r_m_log_mean\": subset[\"r_m_log\"].mean() * 12,\n",
    "        \"r_m_log_vol\": subset[\"r_m_log\"].std(ddof=1) * np.sqrt(12),\n",
    "        \"r_f_log_mean\": subset[\"r_f_log\"].mean() * 12,\n",
    "        \"r_f_log_vol\": subset[\"r_f_log\"].std(ddof=1) * np.sqrt(12),\n",
    "        \"r̃_log_mean\": subset[\"r̃_log\"].mean() * 12,\n",
    "        \"r̃_log_vol\": subset[\"r̃_log\"].std(ddof=1) * np.sqrt(12),\n",
    "    }\n",
    "    return pd.Series(stats)\n",
    "\n",
    "#helper function to print\n",
    "def block(statistics: pd.Series, period_label: str) -> pd.DataFrame:\n",
    "    rows = pd.MultiIndex.from_tuples(\n",
    "        [(\"levels\", \"r^m\"), (\"levels\", \"r̃^m\"), (\"levels\", \"r^f\"),\n",
    "         (\"logs\",   \"r\"),   (\"logs\",   \"r̃\"),   (\"logs\",   \"r_f\")],\n",
    "        names=[\"\", \"\"]\n",
    "    )\n",
    "    return pd.DataFrame({\n",
    "        (period_label, \"mean\"): [statistics[\"r_m_mean\"], statistics[\"r̃_mean\"], statistics[\"r_f_mean\"],\n",
    "                          statistics[\"r_m_log_mean\"], statistics[\"r̃_log_mean\"], statistics[\"r_f_log_mean\"]],\n",
    "        (period_label, \"vol\"):  [statistics[\"r_m_vol\"],  statistics[\"r̃_vol\"],  statistics[\"r_f_vol\"],\n",
    "                          statistics[\"r_m_log_vol\"],  statistics[\"r̃_log_vol\"],  statistics[\"r_f_log_vol\"]],\n",
    "    }, index=rows)\n",
    "\n",
    "# Define sample periods\n",
    "samples = [(1965, 1999), (2000, 2024), (1926, 2024)]\n",
    "\n",
    "# Compute stats for each sample\n",
    "stats_65_99 = summary_stats(df, *samples[0])\n",
    "stats_00_24 = summary_stats(df, *samples[1])\n",
    "stats_full  = summary_stats(df, *samples[2])\n",
    "\n",
    "# Organise into table\n",
    "table = pd.concat([\n",
    "    block(stats_65_99, \"1965-1999\"),\n",
    "    block(stats_00_24, f\"2000-2024\"),\n",
    "    block(stats_full,  f\"1926-2024\")\n",
    "], axis=1)\n",
    "\n",
    "# Display results as percentages\n",
    "print(table)\n"
   ]
  },
  {
   "cell_type": "markdown",
   "metadata": {},
   "source": [
    "(b) Comment on how the full-sample return stats compare to the sub-sample stats."
   ]
  },
  {
   "cell_type": "markdown",
   "metadata": {},
   "source": [
    "The full-sample results from 1926–2024 show slightly lower average returns and somewhat higher volatility than the 1965–1999 subsample. \n",
    "\n",
    "The 1965–1999 period was unusually strong and stable for U.S. equities, with average annual market returns of about 13%. \n",
    "\n",
    "In contrast, the 2000–2024 period displays lower mean returns (around 8.8%) and similar or slightly higher volatility, reflecting major downturns such as the dot-com crash and the 2008 financial crisis. \n",
    "\n",
    "The long-run sample smooths out these extremes, indicating that equity returns have moderated over time while risk has remained substantial."
   ]
  },
  {
   "cell_type": "markdown",
   "metadata": {},
   "source": [
    "(c) Comment on how the level stats compare to the log stats."
   ]
  },
  {
   "cell_type": "markdown",
   "metadata": {},
   "source": [
    "Level (arithmetic) returns show higher mean values than log (geometric) returns because they do not account for the compounding effect of volatility. \n",
    "\n",
    "The difference becomes more pronounced when volatility is high, as arithmetic means are inflated by return variability. \n",
    "\n",
    "Log returns better represent the long-term growth rate of wealth. Volatility is nearly identical between level and log returns, since both measure the same underlying variation. \n",
    "\n",
    "Overall, log statistics give a more accurate picture of long-run performance, while level statistics tend to overstate expected growth."
   ]
  },
  {
   "cell_type": "markdown",
   "metadata": {},
   "source": [
    "-----"
   ]
  },
  {
   "cell_type": "markdown",
   "metadata": {},
   "source": [
    "### 2. Probability of Underperformance\n",
    "\n",
    "Recall the following:\n",
    "- If $x\\sim\\mathcal{N}\\left(\\mu_x,\\sigma_x^2\\right)$, then\n",
    "\n",
    "  $$\\Pr\\left[x<\\ell\\right] = \\Phi_\\mathcal{N}\\left(L\\right)$$\n",
    "\n",
    "  where $L = \\frac{\\ell-\\mu_x}{\\sigma_x}$ and $\\Phi_\\mathcal{N}$ denotes the standard normal cdf.\n",
    "\n",
    "- Remember that cumulative log returns are simply the sum of the single-period log returns:\n",
    "  \n",
    "  $$\\texttt{r}^m_{t,t+h} \\equiv \\sum_{i=1}^h \\texttt{r}^m_{t+i}$$\n",
    "\n",
    "- It will be convenient to use and denote sample averages. We use the following notation for an $h$-period average ending at time $t+h$:\n",
    "  \n",
    "  $$\\bar{\\texttt{r}}^m_{t,t+h} = \\frac{1}{h}\\sum_{i=1}^h \\texttt{r}^m_{t+i}$$\n",
    "\n",
    "Calculate the probability that the cumulative market return will fall short of the cumulative risk-free return:\n",
    "\n",
    "$$\\Pr\\left[R^m_{t,t+h} < R^f_{t,t+h}\\right]$$\n",
    "\n",
    "To analyze this analytically, convert the probability statement above to a probability statement about mean log returns."
   ]
  },
  {
   "cell_type": "markdown",
   "metadata": {},
   "source": [
    "#### 2.1\n",
    "Calculate the probability using the subsample 1965-1999.\n",
    "\n",
    "**Hint**: The probability can be expressed as:\n",
    "\n",
    "$$p(h) = \\Phi_{\\mathcal{N}}\\left(-\\sqrt{h}\\;\\text{SR}\\right)$$\n",
    "\n",
    "where $\\text{SR}$ denotes the sample Sharpe ratio of **log** market returns."
   ]
  },
  {
   "cell_type": "code",
   "execution_count": 22,
   "metadata": {},
   "outputs": [
    {
     "name": "stdout",
     "output_type": "stream",
     "text": [
      "Probability of underperformance:  0.3527031361411097\n"
     ]
    }
   ],
   "source": [
    "# Question 2.1 Code Here\n",
    "from scipy.stats import norm\n",
    "\n",
    "def normal_probability(h: float, sharpe_ratio: float) -> float:\n",
    "    return norm.cdf(-np.sqrt(h)*sharpe_ratio)\n",
    "\n",
    "sharpe_ratio = (stats_65_99[\"r̃_log_mean\"])/ stats_65_99[\"r̃_log_vol\"]\n",
    "p   =   normal_probability(1, sharpe_ratio)\n",
    "print(\"Probability of underperformance: \", p)"
   ]
  },
  {
   "cell_type": "markdown",
   "metadata": {},
   "source": [
    "#### 2.2\n",
    "Report the precise probability for $h=15$ and $h=30$ years."
   ]
  },
  {
   "cell_type": "code",
   "execution_count": 23,
   "metadata": {},
   "outputs": [
    {
     "name": "stdout",
     "output_type": "stream",
     "text": [
      "Probability of underperformance 15 years:  0.07158133198503584\n",
      "Probability of underperformance 30 years:  0.019199471302532578\n"
     ]
    }
   ],
   "source": [
    "# Question 2.2 Code Here\n",
    "p_15   =   normal_probability(15, sharpe_ratio)\n",
    "p_30   =   normal_probability(30, sharpe_ratio)\n",
    "print(\"Probability of underperformance 15 years: \", p_15)\n",
    "print(\"Probability of underperformance 30 years: \", p_30)\n"
   ]
  },
  {
   "cell_type": "markdown",
   "metadata": {},
   "source": [
    "#### 2.3\n",
    "Plot the probability as a function of the investment horizon, $h$, for $0<h\\le 30$ years."
   ]
  },
  {
   "cell_type": "code",
   "execution_count": 25,
   "metadata": {},
   "outputs": [
    {
     "data": {
      "image/png": "[encoded data removed]",
      "text/plain": [
       "<Figure size 640x480 with 1 Axes>"
      ]
     },
     "metadata": {},
     "output_type": "display_data"
    }
   ],
   "source": [
    "# Question 2.3 Code Here\n",
    "years=range(0,31)\n",
    "probability_list=[normal_probability(year, sharpe_ratio) for year in years]\n",
    "\n",
    "plt.plot(years, probability_list)\n",
    "plt.xlabel('Years')\n",
    "plt.ylabel('Probability of underperformance')\n",
    "\n",
    "plt.show()\n"
   ]
  },
  {
   "cell_type": "markdown",
   "metadata": {},
   "source": [
    "-----"
   ]
  },
  {
   "cell_type": "markdown",
   "metadata": {},
   "source": [
    "### 3. Full Sample Analysis\n",
    "\n",
    "Use the sample 1965-{END_YR} to reconsider the 30-year probability. \n",
    "\n",
    "As of the end of {END_YR}, calculate the probability of the stock return underperforming the risk-free rate over the next 30 years. \n",
    "\n",
    "That is, $R^m_{t,t+h}$ underperforming $R^f_{t,t+h}$ for $0<h\\le 30$."
   ]
  },
  {
   "cell_type": "code",
   "execution_count": 31,
   "metadata": {},
   "outputs": [
    {
     "data": {
      "application/vnd.microsoft.datawrangler.viewer.v0+json": {
       "columns": [
        {
         "name": "index",
         "rawType": "object",
         "type": "string"
        },
        {
         "name": "0",
         "rawType": "float64",
         "type": "float"
        }
       ],
       "ref": "24e381af-5aed-4288-a803-67f6772d7890",
       "rows": [
        [
         "r_m_mean",
         "0.1155289090909091"
        ],
        [
         "r_m_vol",
         "0.1866497511062058"
        ],
        [
         "r_f_mean",
         "0.0319279248856093"
        ],
        [
         "r_f_vol",
         "0.008506791846644917"
        ],
        [
         "r̃_mean",
         "0.08330835062459477"
        ],
        [
         "r̃_vol",
         "0.18732897995871903"
        ],
        [
         "r_m_log_mean",
         "0.09782140495992467"
        ],
        [
         "r_m_log_vol",
         "0.18593783357324956"
        ],
        [
         "r_f_log_mean",
         "0.031849628873755684"
        ],
        [
         "r_f_log_vol",
         "0.008472923705307545"
        ],
        [
         "r̃_log_mean",
         "0.06567326950148436"
        ],
        [
         "r̃_log_vol",
         "0.18691355690714268"
        ]
       ],
       "shape": {
        "columns": 1,
        "rows": 12
       }
      },
      "text/plain": [
       "r_m_mean        0.115529\n",
       "r_m_vol         0.186650\n",
       "r_f_mean        0.031928\n",
       "r_f_vol         0.008507\n",
       "r̃_mean         0.083308\n",
       "r̃_vol          0.187329\n",
       "r_m_log_mean    0.097821\n",
       "r_m_log_vol     0.185938\n",
       "r_f_log_mean    0.031850\n",
       "r_f_log_vol     0.008473\n",
       "r̃_log_mean     0.065673\n",
       "r̃_log_vol      0.186914\n",
       "dtype: float64"
      ]
     },
     "execution_count": 31,
     "metadata": {},
     "output_type": "execute_result"
    }
   ],
   "source": [
    "stats_full"
   ]
  },
  {
   "cell_type": "code",
   "execution_count": 32,
   "metadata": {},
   "outputs": [
    {
     "name": "stdout",
     "output_type": "stream",
     "text": [
      "Probability of underperformance 30 years with full sample:  0.027148593027962055\n"
     ]
    }
   ],
   "source": [
    "# Question 3 Code Here\n",
    "sharpe_ratio_full = (stats_full[\"r̃_log_mean\"])/ stats_full[\"r̃_log_vol\"]\n",
    "p_full   =   normal_probability(30, sharpe_ratio_full)\n",
    "print(\"Probability of underperformance 30 years with full sample: \", p_full)"
   ]
  },
  {
   "cell_type": "markdown",
   "metadata": {},
   "source": [
    "-----"
   ]
  },
  {
   "cell_type": "markdown",
   "metadata": {},
   "source": [
    "### 4. In-Sample Estimate of Out-of-Sample Likelihood\n",
    "\n",
    "Let's consider how things turned out relative to Barnstable's 1999 expectations.\n",
    "\n",
    "What was the probability (based on the 1999 estimate of $\\mu$) that the `h`-year market return, $R^m_{t,t+h}$, would be smaller than that realized in `2000-{END_YR}`? \n",
    "\n",
    "**Hint**: You can calculate this as:\n",
    "\n",
    "$$p = \\Phi_{\\mathcal{N}}\\left(\\sqrt{h}\\; \\frac{\\bar{\\texttt{r}}_{out-of-sample} - \\bar{\\texttt{r}}_{\\text{in-sample}}}{\\sigma_{\\text{in-sample}}}\\right)$$\n",
    "\n",
    "where \"in-sample\" denotes 1965-1999 and \"out-of-sample\" denotes 2000-{END_YR}."
   ]
  },
  {
   "cell_type": "code",
   "execution_count": 34,
   "metadata": {},
   "outputs": [
    {
     "data": {
      "image/png": "[encoded data removed]",
      "text/plain": [
       "<Figure size 640x480 with 1 Axes>"
      ]
     },
     "metadata": {},
     "output_type": "display_data"
    }
   ],
   "source": [
    "# Question 4 Code Here\n",
    "r_in_sample=stats_65_99[\"r̃_log_mean\"]\n",
    "r_out_of_sample=stats_00_24[\"r̃_log_mean\"]\n",
    "v_in_sample=stats_65_99['r̃_log_vol']\n",
    "\n",
    "sharpe_ratio_final=(r_out_of_sample-r_in_sample)/v_in_sample\n",
    "\n",
    "years=range(0,31)\n",
    "probability_list_final=[normal_probability(np.sqrt(year), sharpe_ratio_final) for year in years]\n",
    "\n",
    "plt.plot(years, probability_list_final)\n",
    "plt.xlabel('Years')\n",
    "plt.ylabel('Probability of underperformance')\n",
    "\n",
    "plt.show()"
   ]
  }
 ],
 "metadata": {
  "kernelspec": {
   "display_name": "Portfolio_and_risk_management",
   "language": "python",
   "name": "python3"
  },
  "language_info": {
   "codemirror_mode": {
    "name": "ipython",
    "version": 3
   },
   "file_extension": ".py",
   "mimetype": "text/x-python",
   "name": "python",
   "nbconvert_exporter": "python",
   "pygments_lexer": "ipython3",
   "version": "3.13.7"
  }
 },
 "nbformat": 4,
 "nbformat_minor": 2
}
