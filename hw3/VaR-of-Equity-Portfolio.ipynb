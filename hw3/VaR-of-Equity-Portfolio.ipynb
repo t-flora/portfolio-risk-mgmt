{
  "cells": [
    {
      "cell_type": "markdown",
      "id": "f7605588",
      "metadata": {},
      "source": [
        "# Exercise - VaR"
      ]
    },
    {
      "cell_type": "markdown",
      "id": "d1b6c886",
      "metadata": {},
      "source": [
        "## Data\n",
        "\n",
        "This problem uses `weekly` return data from `data/spx_returns_weekly.xlsx`.\n",
        "\n",
        "Choose any `4` stocks to evaluate below.\n",
        "\n",
        "For example, \n",
        "* `AAPL`\n",
        "* `META`\n",
        "* `NVDA`\n",
        "* `TSLA`"
      ]
    },
    {
      "cell_type": "markdown",
      "id": "c78c32f1",
      "metadata": {},
      "source": [
        "# Section 1: Diversification"
      ]
    },
    {
      "cell_type": "markdown",
      "id": "39781afd",
      "metadata": {},
      "source": [
        "## 1.1\n",
        "\n",
        "Using the full sample, calculate for each series the (unconditional) \n",
        "\n",
        "(a) volatility\n",
        "\n",
        "(b) empirical VaR (.05)\n",
        "\n",
        "(c) empirical CVaR (.05)\n",
        "\n",
        "Recall that by **empirical** we refer to the direct quantile estimation. (For example, using `.quantile()` in pandas."
      ]
    },
    {
      "cell_type": "code",
      "execution_count": 11,
      "id": "c6a4da90",
      "metadata": {},
      "outputs": [
        {
          "data": {
            "application/vnd.microsoft.datawrangler.viewer.v0+json": {
              "columns": [
                {
                  "name": "index",
                  "rawType": "object",
                  "type": "string"
                },
                {
                  "name": "vol",
                  "rawType": "float64",
                  "type": "float"
                },
                {
                  "name": "VaR",
                  "rawType": "float64",
                  "type": "float"
                },
                {
                  "name": "cVaR",
                  "rawType": "float64",
                  "type": "float"
                }
              ],
              "ref": "e0af96fb-a2b1-4008-a12e-2ba94c9e4161",
              "rows": [
                [
                  "AAPL",
                  "0.03836154575266245",
                  "-0.056366297517849974",
                  "-0.08312491891904249"
                ],
                [
                  "META",
                  "0.04872150757064244",
                  "-0.07001167040022517",
                  "-0.1031960640416827"
                ],
                [
                  "NVDA",
                  "0.06424578238254045",
                  "-0.08685282018109243",
                  "-0.11645514176034043"
                ],
                [
                  "TSLA",
                  "0.08132338497209643",
                  "-0.11739730351568925",
                  "-0.14781370062338312"
                ]
              ],
              "shape": {
                "columns": 3,
                "rows": 4
              }
            },
            "text/html": [
              "<div>\n",
              "<style scoped>\n",
              "    .dataframe tbody tr th:only-of-type {\n",
              "        vertical-align: middle;\n",
              "    }\n",
              "\n",
              "    .dataframe tbody tr th {\n",
              "        vertical-align: top;\n",
              "    }\n",
              "\n",
              "    .dataframe thead th {\n",
              "        text-align: right;\n",
              "    }\n",
              "</style>\n",
              "<table border=\"1\" class=\"dataframe\">\n",
              "  <thead>\n",
              "    <tr style=\"text-align: right;\">\n",
              "      <th></th>\n",
              "      <th>vol</th>\n",
              "      <th>VaR</th>\n",
              "      <th>cVaR</th>\n",
              "    </tr>\n",
              "  </thead>\n",
              "  <tbody>\n",
              "    <tr>\n",
              "      <th>AAPL</th>\n",
              "      <td>0.038362</td>\n",
              "      <td>-0.056366</td>\n",
              "      <td>-0.083125</td>\n",
              "    </tr>\n",
              "    <tr>\n",
              "      <th>META</th>\n",
              "      <td>0.048722</td>\n",
              "      <td>-0.070012</td>\n",
              "      <td>-0.103196</td>\n",
              "    </tr>\n",
              "    <tr>\n",
              "      <th>NVDA</th>\n",
              "      <td>0.064246</td>\n",
              "      <td>-0.086853</td>\n",
              "      <td>-0.116455</td>\n",
              "    </tr>\n",
              "    <tr>\n",
              "      <th>TSLA</th>\n",
              "      <td>0.081323</td>\n",
              "      <td>-0.117397</td>\n",
              "      <td>-0.147814</td>\n",
              "    </tr>\n",
              "  </tbody>\n",
              "</table>\n",
              "</div>"
            ],
            "text/plain": [
              "           vol       VaR      cVaR\n",
              "AAPL  0.038362 -0.056366 -0.083125\n",
              "META  0.048722 -0.070012 -0.103196\n",
              "NVDA  0.064246 -0.086853 -0.116455\n",
              "TSLA  0.081323 -0.117397 -0.147814"
            ]
          },
          "execution_count": 11,
          "metadata": {},
          "output_type": "execute_result"
        }
      ],
      "source": [
        "# Question 1.1 Code Here\n",
        "\n",
        "import pandas as pd\n",
        "import numpy as np\n",
        "\n",
        "# Load Data\n",
        "df = pd.read_excel(\"../data/spx_returns_weekly.xlsx\", sheet_name=\"s&p500 rets\", index_col=\"date\")\n",
        "\n",
        "#1.1\n",
        "#Freq = 52 # No need to annualized?\n",
        "Ticker = [\"AAPL\",\"META\", \"NVDA\",\"TSLA\"]\n",
        "data = df[Ticker].copy()\n",
        "\n",
        "vol = data.std() \n",
        "VaR = data.quantile(0.05)\n",
        "cVaR_dic = {}\n",
        "for tick in Ticker:\n",
        "    sub_df = data[tick].copy()\n",
        "    var = sub_df.quantile(0.05)\n",
        "    cVaR_dic[tick] = sub_df[sub_df.le(var)].mean()\n",
        "\n",
        "cVaR = pd.Series(cVaR_dic)\n",
        "\n",
        "Risk_Table = pd.concat([vol, VaR, cVaR], axis= 1, keys=['vol', 'VaR', 'cVaR'])\n",
        "Risk_Table\n"
      ]
    },
    {
      "cell_type": "markdown",
      "id": "fbedd5a9",
      "metadata": {},
      "source": [
        "-----"
      ]
    },
    {
      "cell_type": "markdown",
      "id": "5fcfdaac",
      "metadata": {},
      "source": [
        "## 1.2\n",
        "(a) Form an equally-weighted portfolio of the investments."
      ]
    },
    {
      "cell_type": "code",
      "execution_count": 12,
      "id": "689b7202",
      "metadata": {},
      "outputs": [
        {
          "data": {
            "application/vnd.microsoft.datawrangler.viewer.v0+json": {
              "columns": [
                {
                  "name": "index",
                  "rawType": "object",
                  "type": "string"
                },
                {
                  "name": "vol",
                  "rawType": "float64",
                  "type": "float"
                },
                {
                  "name": "VaR",
                  "rawType": "float64",
                  "type": "float"
                },
                {
                  "name": "cVaR",
                  "rawType": "float64",
                  "type": "float"
                }
              ],
              "ref": "409aa783-80b9-470d-949d-68beec2bb848",
              "rows": [
                [
                  "AAPL",
                  "0.03836154575266245",
                  "-0.056366297517849974",
                  "-0.08312491891904249"
                ],
                [
                  "META",
                  "0.04872150757064244",
                  "-0.07001167040022517",
                  "-0.1031960640416827"
                ],
                [
                  "NVDA",
                  "0.06424578238254045",
                  "-0.08685282018109243",
                  "-0.11645514176034043"
                ],
                [
                  "TSLA",
                  "0.08132338497209643",
                  "-0.11739730351568925",
                  "-0.14781370062338312"
                ],
                [
                  "eq",
                  "0.043757909875738916",
                  "-0.06194990495722183",
                  "-0.08499232001174674"
                ]
              ],
              "shape": {
                "columns": 3,
                "rows": 5
              }
            },
            "text/html": [
              "<div>\n",
              "<style scoped>\n",
              "    .dataframe tbody tr th:only-of-type {\n",
              "        vertical-align: middle;\n",
              "    }\n",
              "\n",
              "    .dataframe tbody tr th {\n",
              "        vertical-align: top;\n",
              "    }\n",
              "\n",
              "    .dataframe thead th {\n",
              "        text-align: right;\n",
              "    }\n",
              "</style>\n",
              "<table border=\"1\" class=\"dataframe\">\n",
              "  <thead>\n",
              "    <tr style=\"text-align: right;\">\n",
              "      <th></th>\n",
              "      <th>vol</th>\n",
              "      <th>VaR</th>\n",
              "      <th>cVaR</th>\n",
              "    </tr>\n",
              "  </thead>\n",
              "  <tbody>\n",
              "    <tr>\n",
              "      <th>AAPL</th>\n",
              "      <td>0.038362</td>\n",
              "      <td>-0.056366</td>\n",
              "      <td>-0.083125</td>\n",
              "    </tr>\n",
              "    <tr>\n",
              "      <th>META</th>\n",
              "      <td>0.048722</td>\n",
              "      <td>-0.070012</td>\n",
              "      <td>-0.103196</td>\n",
              "    </tr>\n",
              "    <tr>\n",
              "      <th>NVDA</th>\n",
              "      <td>0.064246</td>\n",
              "      <td>-0.086853</td>\n",
              "      <td>-0.116455</td>\n",
              "    </tr>\n",
              "    <tr>\n",
              "      <th>TSLA</th>\n",
              "      <td>0.081323</td>\n",
              "      <td>-0.117397</td>\n",
              "      <td>-0.147814</td>\n",
              "    </tr>\n",
              "    <tr>\n",
              "      <th>eq</th>\n",
              "      <td>0.043758</td>\n",
              "      <td>-0.061950</td>\n",
              "      <td>-0.084992</td>\n",
              "    </tr>\n",
              "  </tbody>\n",
              "</table>\n",
              "</div>"
            ],
            "text/plain": [
              "           vol       VaR      cVaR\n",
              "AAPL  0.038362 -0.056366 -0.083125\n",
              "META  0.048722 -0.070012 -0.103196\n",
              "NVDA  0.064246 -0.086853 -0.116455\n",
              "TSLA  0.081323 -0.117397 -0.147814\n",
              "eq    0.043758 -0.061950 -0.084992"
            ]
          },
          "execution_count": 12,
          "metadata": {},
          "output_type": "execute_result"
        }
      ],
      "source": [
        "# Question 1.2 Code Here\n",
        "data[\"eq\"] = (data[\"AAPL\"]+ data[\"META\"]+ data[\"NVDA\"]+ data[\"TSLA\"])/4\n",
        "\n",
        "vol = data.std()\n",
        "VaR = data.quantile(0.05)\n",
        "cVaR_dic = {}\n",
        "Ticker.append('eq')\n",
        "for tick in Ticker:\n",
        "    sub_df = data[tick].copy()\n",
        "    var = sub_df.quantile(0.05)\n",
        "    cVaR_dic[tick] = sub_df[sub_df.le(var)].mean()\n",
        "\n",
        "cVaR = pd.Series(cVaR_dic)\n",
        "\n",
        "Risk_Table_2 = pd.concat([vol, VaR, cVaR], axis= 1, keys=['vol', 'VaR', 'cVaR'])\n",
        "Risk_Table_2\n"
      ]
    },
    {
      "cell_type": "markdown",
      "id": "4af6908c",
      "metadata": {},
      "source": [
        "(b) Calculate the statistics of `1.1` for this portfolio, and compare the results to the individual return statistics. "
      ]
    },
    {
      "cell_type": "markdown",
      "id": "ee6e5d6d",
      "metadata": {},
      "source": [
        "(c) What do you find? What is driving this result?"
      ]
    },
    {
      "cell_type": "markdown",
      "id": "a1532983",
      "metadata": {},
      "source": [
        "The equal-weighted portfolio has vol, VaR, cVaR that is smaller than simply take average of the four stocks' matric. This is because there is correlation smaller than 1 amound these 4 stock."
      ]
    },
    {
      "cell_type": "markdown",
      "id": "e0e46401",
      "metadata": {},
      "source": [
        "-----"
      ]
    },
    {
      "cell_type": "markdown",
      "id": "a1128157",
      "metadata": {},
      "source": [
        "## 1.3\n",
        "(a) Re-calculate `1.2`, but this time drop your most volatile asset, and replace the portion it was getting with 0. \n",
        "\n",
        "You could imagine we're replacing the most volatile asset with a negligibly small risk-free rate.\n",
        "\n",
        "(b) In comparing the answer here to 1.2, how much risk is your most volatile asset adding to the portfolio? "
      ]
    },
    {
      "cell_type": "code",
      "execution_count": 13,
      "id": "4877d3ee",
      "metadata": {},
      "outputs": [
        {
          "data": {
            "application/vnd.microsoft.datawrangler.viewer.v0+json": {
              "columns": [
                {
                  "name": "index",
                  "rawType": "object",
                  "type": "string"
                },
                {
                  "name": "vol",
                  "rawType": "float64",
                  "type": "float"
                },
                {
                  "name": "VaR",
                  "rawType": "float64",
                  "type": "float"
                },
                {
                  "name": "cVaR",
                  "rawType": "float64",
                  "type": "float"
                }
              ],
              "ref": "07eb69bf-0dc2-4a5c-8e1c-597074eaee7f",
              "rows": [
                [
                  "AAPL",
                  "0.03836154575266245",
                  "-0.056366297517849974",
                  "-0.08312491891904249"
                ],
                [
                  "META",
                  "0.04872150757064244",
                  "-0.07001167040022517",
                  "-0.1031960640416827"
                ],
                [
                  "NVDA",
                  "0.06424578238254045",
                  "-0.08685282018109243",
                  "-0.11645514176034043"
                ],
                [
                  "TSLA",
                  "0.08132338497209643",
                  "-0.11739730351568925",
                  "-0.14781370062338312"
                ],
                [
                  "eq",
                  "0.043757909875738916",
                  "-0.06194990495722183",
                  "-0.08499232001174674"
                ],
                [
                  "new",
                  "0.030281752156857123",
                  "-0.042462511580251314",
                  "-0.060531130154127574"
                ]
              ],
              "shape": {
                "columns": 3,
                "rows": 6
              }
            },
            "text/html": [
              "<div>\n",
              "<style scoped>\n",
              "    .dataframe tbody tr th:only-of-type {\n",
              "        vertical-align: middle;\n",
              "    }\n",
              "\n",
              "    .dataframe tbody tr th {\n",
              "        vertical-align: top;\n",
              "    }\n",
              "\n",
              "    .dataframe thead th {\n",
              "        text-align: right;\n",
              "    }\n",
              "</style>\n",
              "<table border=\"1\" class=\"dataframe\">\n",
              "  <thead>\n",
              "    <tr style=\"text-align: right;\">\n",
              "      <th></th>\n",
              "      <th>vol</th>\n",
              "      <th>VaR</th>\n",
              "      <th>cVaR</th>\n",
              "    </tr>\n",
              "  </thead>\n",
              "  <tbody>\n",
              "    <tr>\n",
              "      <th>AAPL</th>\n",
              "      <td>0.038362</td>\n",
              "      <td>-0.056366</td>\n",
              "      <td>-0.083125</td>\n",
              "    </tr>\n",
              "    <tr>\n",
              "      <th>META</th>\n",
              "      <td>0.048722</td>\n",
              "      <td>-0.070012</td>\n",
              "      <td>-0.103196</td>\n",
              "    </tr>\n",
              "    <tr>\n",
              "      <th>NVDA</th>\n",
              "      <td>0.064246</td>\n",
              "      <td>-0.086853</td>\n",
              "      <td>-0.116455</td>\n",
              "    </tr>\n",
              "    <tr>\n",
              "      <th>TSLA</th>\n",
              "      <td>0.081323</td>\n",
              "      <td>-0.117397</td>\n",
              "      <td>-0.147814</td>\n",
              "    </tr>\n",
              "    <tr>\n",
              "      <th>eq</th>\n",
              "      <td>0.043758</td>\n",
              "      <td>-0.061950</td>\n",
              "      <td>-0.084992</td>\n",
              "    </tr>\n",
              "    <tr>\n",
              "      <th>new</th>\n",
              "      <td>0.030282</td>\n",
              "      <td>-0.042463</td>\n",
              "      <td>-0.060531</td>\n",
              "    </tr>\n",
              "  </tbody>\n",
              "</table>\n",
              "</div>"
            ],
            "text/plain": [
              "           vol       VaR      cVaR\n",
              "AAPL  0.038362 -0.056366 -0.083125\n",
              "META  0.048722 -0.070012 -0.103196\n",
              "NVDA  0.064246 -0.086853 -0.116455\n",
              "TSLA  0.081323 -0.117397 -0.147814\n",
              "eq    0.043758 -0.061950 -0.084992\n",
              "new   0.030282 -0.042463 -0.060531"
            ]
          },
          "execution_count": 13,
          "metadata": {},
          "output_type": "execute_result"
        }
      ],
      "source": [
        "# Question 1.3 Part (a) Code Here\n",
        "data[\"new\"] = (data[\"AAPL\"]+ data[\"META\"]+ data[\"NVDA\"]) /4\n",
        "\n",
        "vol = data.std()\n",
        "VaR = data.quantile(0.05)\n",
        "cVaR_dic = {}\n",
        "Ticker.append('new')\n",
        "for tick in Ticker:\n",
        "    sub_df = data[tick].copy()\n",
        "    var = sub_df.quantile(0.05)\n",
        "    cVaR_dic[tick] = sub_df[sub_df.le(var)].mean()\n",
        "\n",
        "cVaR = pd.Series(cVaR_dic)\n",
        "\n",
        "Risk_Table_3 = pd.concat([vol, VaR, cVaR], axis= 1, keys=['vol', 'VaR', 'cVaR'])\n",
        "Risk_Table_3"
      ]
    },
    {
      "cell_type": "markdown",
      "id": "e3f74057",
      "metadata": {},
      "source": [
        "(c) In comparing the answer here to 1.2, how much risk is your most volatile asset adding to the portfolio? Is this in line with the amount of risk we measured in the stand-alone risk-assessment of `1.1`?"
      ]
    },
    {
      "cell_type": "markdown",
      "id": "75cbdb52",
      "metadata": {},
      "source": [
        "The vol, VaR, and cVaR down 1/3 ~1/4, but less than 1/4 of the the stand-alone risk of the TSLA. This is because the risk TSLA add to the portfolio, is its correlation with the whole portfolio, which is smaller than its stand-alone risk."
      ]
    },
    {
      "cell_type": "markdown",
      "id": "bd3a221f",
      "metadata": {},
      "source": [
        "-----"
      ]
    },
    {
      "cell_type": "markdown",
      "id": "99dc32f0",
      "metadata": {},
      "source": [
        "# Section 2: Dynamic Measures"
      ]
    },
    {
      "cell_type": "markdown",
      "id": "2c676dfa",
      "metadata": {},
      "source": [
        "## 2.1 \n",
        "\n",
        "Let's measure the **conditional** statistics of the equally-weighted portfolio of `1.2`, as of the end of the sample.\n",
        "\n",
        "Note:\n",
        "- Suppose we can approximate that the daily mean return is zero.\n",
        "- In this setup, we are using a forecasted volatility, $\\sigma_t$ to estimate the VaR return we would have estimated at the end of $t-1$ in prediction of time $t$.\n",
        "\n",
        "(a) Volatility\n",
        "\n",
        "For each security, calculate the **rolling** volatility series, $\\sigma_t$, with a window of $m=26$.\n",
        "\n",
        "The value at $\\sigma_t$ in the notes denotes the estimate using data through time $t-1$, and thus (potentially) predicting the volatility at $\\sigma_{t}$. \n",
        "\n",
        "(b) VaR\n",
        "\n",
        "Calculate the **normal VaR** and **normal CVaR** for $q=.05$ and $\\tau=1$ as of the end of the sample.Use the approximation, $\\texttt{z}_{.05} = -1.65$.\n",
        "\n",
        "(c) Conclude and Compare\n",
        "Report\n",
        "* volatility (annualized).\n",
        "* normal VaR (.05)\n",
        "* normal CVaR (.05)\n",
        "\n",
        "How do these compare to the answers in `1.2`?"
      ]
    },
    {
      "cell_type": "code",
      "execution_count": 14,
      "id": "e49d7072",
      "metadata": {},
      "outputs": [
        {
          "data": {
            "text/plain": [
              "(         vol_c     VaR_c    cVaR_C   vol_ann\n",
              " AAPL  0.049628 -0.081886 -0.101504  0.357871\n",
              " META  0.057751 -0.095290 -0.118119  0.416450\n",
              " NVDA  0.082727 -0.136499 -0.169201  0.596552\n",
              " TSLA  0.084876 -0.140046 -0.173598  0.612053\n",
              " eq    0.053749 -0.088686 -0.109933  0.387590\n",
              " new   0.038313 -0.063217 -0.078362  0.276281,\n",
              "            vol       VaR      cVaR\n",
              " AAPL  0.038362 -0.056366 -0.083125\n",
              " META  0.048722 -0.070012 -0.103196\n",
              " NVDA  0.064246 -0.086853 -0.116455\n",
              " TSLA  0.081323 -0.117397 -0.147814\n",
              " eq    0.043758 -0.061950 -0.084992)"
            ]
          },
          "execution_count": 14,
          "metadata": {},
          "output_type": "execute_result"
        }
      ],
      "source": [
        "# Question 2.1 Code Here\n",
        "\n",
        "from scipy.stats import norm\n",
        "\n",
        "data_big = data.copy()\n",
        "data_big.reset_index(inplace= True)\n",
        "\n",
        "vol = {}\n",
        "Var = {}\n",
        "cVar = {}\n",
        "vol_annualized = {}\n",
        "for tick in Ticker:\n",
        "    data_big[tick+'_Sigma'] = np.nan\n",
        "    data_big[tick+'_VaR'] = np.nan\n",
        "    data_big[tick+'_cVaR'] = np.nan\n",
        "\n",
        "    for i in range(26, len(data)):\n",
        "        data_big.loc[i, tick+'_Sigma'] = data_big[tick][i-26: i].std() \n",
        "        data_big.loc[i, tick+'_VaR'] = -1.65 * data_big[tick+'_Sigma'][i]\n",
        "        data_big.loc[i, tick+'_cVaR'] = -1* data_big[tick+'_Sigma'][i] * norm.pdf(-1.65) / 0.05\n",
        "    \n",
        "    vol[tick] = data_big[tick+'_Sigma'].iloc[-1]\n",
        "    Var[tick] = data_big[tick+'_VaR'].iloc[-1]\n",
        "    cVar[tick] = data_big[tick+'_cVaR'].iloc[-1]\n",
        "    vol_annualized[tick] = data_big[tick+'_Sigma'].iloc[-1] * np.sqrt(52)\n",
        "\n",
        "\n",
        "\n",
        "vol = pd.Series(vol)\n",
        "Var = pd.Series(Var)\n",
        "cVar = pd.Series(cVar)\n",
        "vol_annualized = pd.Series(vol_annualized)\n",
        "\n",
        "Risk_Table_4 = pd.concat([vol, Var, cVar, vol_annualized], axis= 1, keys=['vol_c', 'VaR_c', 'cVaR_C', 'vol_ann'])\n",
        "\n",
        "Risk_Table_4, Risk_Table_2\n"
      ]
    },
    {
      "cell_type": "markdown",
      "id": "55599fa1",
      "metadata": {},
      "source": [
        "Q: How do these compare to the answers in 1.2?\n",
        "\n",
        "A: The conditional statistics and the empirical statistics shows significant different in their risk metrics."
      ]
    },
    {
      "cell_type": "markdown",
      "id": "59a22c54",
      "metadata": {},
      "source": [
        "-----"
      ]
    },
    {
      "cell_type": "markdown",
      "id": "63a0f096",
      "metadata": {},
      "source": [
        "## 2.2\n",
        "\n",
        "Backtest the VaR using the **hit test**. \n",
        "\n",
        "Namely, check how many times the realized return at $t$ was smaller than the VaR return calculated using $\\sigma_t$, (where again remember the notation in the notes uses $\\sigma_t$ as a vol based on data through $t-1$.)\n",
        "\n",
        "Report the percentage of \"hits\" using both the\n",
        "\n",
        "(a) expanding volatility\n",
        "\n",
        "(b) rolling volatility"
      ]
    },
    {
      "cell_type": "code",
      "execution_count": 15,
      "id": "e6300564",
      "metadata": {},
      "outputs": [
        {
          "data": {
            "image/png": "[encoded data removed]",
            "text/plain": [
              "<Figure size 640x480 with 1 Axes>"
            ]
          },
          "metadata": {},
          "output_type": "display_data"
        }
      ],
      "source": [
        "# Question 2.2 code here\n",
        "\n",
        "import matplotlib.pyplot as plt\n",
        "\n",
        "def hit_test_rolling(data, tick, term = 26):\n",
        "    new_df = data.copy()\n",
        "    new_df['Sigma'] = np.nan\n",
        "    new_df['VaR'] = np.nan\n",
        "\n",
        "    new_df.reset_index(inplace= True)\n",
        "\n",
        "    hit = 0\n",
        "    for i in range(term, len(new_df)):\n",
        "        new_df.loc[i, 'Sigma'] = new_df[tick][i-term: i].std()\n",
        "        new_df.loc[i, 'VaR'] = -1.65 * new_df['Sigma'][i]\n",
        "        if new_df[tick][i] < new_df['VaR'][i]:\n",
        "            hit += 1\n",
        "    \n",
        "    return hit/ (len(new_df)-term)\n",
        "\n",
        "def hit_test_expanding(data, tick, term = 26):\n",
        "    new_df = data.copy()\n",
        "    new_df['Sigma'] = np.nan\n",
        "    new_df['VaR'] = np.nan\n",
        "\n",
        "    new_df.reset_index(inplace= True)\n",
        "\n",
        "    hit = 0\n",
        "    for i in range(term, len(new_df)):\n",
        "        new_df.loc[i, 'Sigma'] = new_df[tick][0: i].std()\n",
        "        new_df.loc[i, 'VaR'] = -1.65 * new_df['Sigma'][i]\n",
        "        if new_df[tick][i] < new_df['VaR'][i]:\n",
        "            hit += 1\n",
        "    \n",
        "    return hit/ (len(new_df)-term)\n",
        "\n",
        "\n",
        "rolling_list = []\n",
        "expanding_list = []\n",
        "for tick in Ticker:\n",
        "    rolling_list.append(hit_test_rolling(data, tick))\n",
        "    expanding_list.append(hit_test_expanding(data, tick))\n",
        "\n",
        "x = np.arange(len(Ticker)) \n",
        "width = 0.35                  \n",
        "plt.bar(x + width/2, expanding_list, width, label='expanding volatility')     \n",
        "plt.bar(x - width/2, rolling_list, width, label='rolling volatility')\n",
        "\n",
        "\n",
        "# 標籤與標題\n",
        "plt.xticks(x, Ticker)\n",
        "plt.xlabel('Ticker/Portfolio')\n",
        "plt.ylabel('Probability of return lower than VaR')\n",
        "plt.title('Hit Rate')\n",
        "plt.legend()\n",
        "\n",
        "plt.axhline(y=0.05, color='black', linestyle='-')\n",
        "\n",
        "plt.show()\n"
      ]
    }
  ],
  "metadata": {
    "hide_input": false,
    "kernelspec": {
      "display_name": "Portfolio_and_risk_management",
      "language": "python",
      "name": "python3"
    },
    "language_info": {
      "codemirror_mode": {
        "name": "ipython",
        "version": 3
      },
      "file_extension": ".py",
      "mimetype": "text/x-python",
      "name": "python",
      "nbconvert_exporter": "python",
      "pygments_lexer": "ipython3",
      "version": "3.13.7"
    }
  },
  "nbformat": 4,
  "nbformat_minor": 5
}
