{
  "cells": [
    {
      "cell_type": "markdown",
      "id": "f7605588",
      "metadata": {},
      "source": [
        "# Exercise - VaR"
      ]
    },
    {
      "cell_type": "markdown",
      "id": "d1b6c886",
      "metadata": {},
      "source": [
        "## Data\n",
        "\n",
        "This problem uses `weekly` return data from `data/spx_returns_weekly.xlsx`.\n",
        "\n",
        "Choose any `4` stocks to evaluate below.\n",
        "\n",
        "For example, \n",
        "* `AAPL`\n",
        "* `META`\n",
        "* `NVDA`\n",
        "* `TSLA`"
      ]
    },
    {
      "cell_type": "markdown",
      "id": "c78c32f1",
      "metadata": {},
      "source": [
        "# 1 Diversification"
      ]
    },
    {
      "cell_type": "markdown",
      "id": "39781afd",
      "metadata": {},
      "source": [
        "## 1.1\n",
        "\n",
        "Using the full sample, calculate for each series the (unconditional) \n",
        "* volatility\n",
        "* empirical VaR (.05)\n",
        "* empirical CVaR (.05)\n",
        "\n",
        "Recall that by **empirical** we refer to the direct quantile estimation. (For example, using `.quantile()` in pandas.\n",
        "\n",
        "## 1.2\n",
        "Form an equally-weighted portfolio of the investments.\n",
        "\n",
        "Calculate the statistics of `1.1` for this portfolio, and compare the results to the individual return statistics. What do you find? What is driving this result?\n",
        "\n",
        "## 1.3\n",
        "Re-calculate `1.2`, but this time drop your most volatile asset, and replace the portion it was getting with 0. (You could imagine we're replacing the most volatile asset with a negligibly small risk-free rate.)\n",
        "\n",
        "In comparing the answer here to 1.2, how much risk is your most volatile asset adding to the portfolio? Is this in line with the amount of risk we measured in the stand-alone risk-assessment of `1.1`?"
      ]
    },
    {
      "cell_type": "markdown",
      "id": "a078dbaa",
      "metadata": {},
      "source": [
        "***"
      ]
    },
    {
      "cell_type": "markdown",
      "id": "99dc32f0",
      "metadata": {},
      "source": [
        "# 2. Dynamic Measures"
      ]
    },
    {
      "cell_type": "markdown",
      "id": "2c676dfa",
      "metadata": {},
      "source": [
        "## 2.1 \n",
        "\n",
        "Let's measure the **conditional** statistics of the equally-weighted portfolio of `1.2`, as of the end of the sample.\n",
        "\n",
        "#### Volatility\n",
        "For each security, calculate the **rolling** volatility series, $\\sigma_t$, with a window of $m=26$.\n",
        "\n",
        "The value at $\\sigma_t$ in the notes denotes the estimate using data through time $t-1$, and thus (potentially) predicting the volatility at $\\sigma_{t}$. \n",
        "\n",
        "#### Mean\n",
        "Suppose we can approximate that the daily mean return is zero.\n",
        "\n",
        "#### VaR\n",
        "Calculate the **normal VaR** and **normal CVaR** for $q=.05$ and $\\tau=1$ as of the end of the sample.Use the approximation, $\\texttt{z}_{.05} = -1.65$.\n",
        "\n",
        "#### Notation Note\n",
        "In this setup, we are using a forecasted volatility, $\\sigma_t$ to estimate the VaR return we would have estimated at the end of $t-1$ in prediction of time $t$.\n",
        "\n",
        "#### Conclude and Compare\n",
        "Report\n",
        "* volatility (annualized).\n",
        "* normal VaR (.05)\n",
        "* normal CVaR (.05)\n",
        "\n",
        "How do these compare to the answers in `1.2`?"
      ]
    },
    {
      "cell_type": "markdown",
      "id": "63a0f096",
      "metadata": {},
      "source": [
        "## 2.2\n",
        "\n",
        "Backtest the VaR using the **hit test**. Namely, check how many times the realized return at $t$ was smaller than the VaR return calculated using $\\sigma_t$, (where again remember the notation in the notes uses $\\sigma_t$ as a vol based on data through $t-1$.)\n",
        "\n",
        "Report the percentage of \"hits\" using both the \n",
        "* expanding volatility\n",
        "* rolling volatility"
      ]
    },
    {
      "cell_type": "markdown",
      "id": "823bd018",
      "metadata": {},
      "source": [
        "***"
      ]
    }
  ],
  "metadata": {
    "hide_input": false,
    "kernelspec": {
      "display_name": "env-drw-2025",
      "language": "python",
      "name": "python3"
    },
    "language_info": {
      "codemirror_mode": {
        "name": "ipython",
        "version": 3
      },
      "file_extension": ".py",
      "mimetype": "text/x-python",
      "name": "python",
      "nbconvert_exporter": "python",
      "pygments_lexer": "ipython3",
      "version": "3.10.18"
    }
  },
  "nbformat": 4,
  "nbformat_minor": 5
}