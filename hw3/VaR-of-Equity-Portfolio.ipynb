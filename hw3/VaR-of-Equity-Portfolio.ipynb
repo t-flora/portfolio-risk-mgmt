{
  "cells": [
    {
      "cell_type": "markdown",
      "id": "f7605588",
      "metadata": {},
      "source": [
        "# Exercise - VaR"
      ]
    },
    {
      "cell_type": "markdown",
      "id": "d1b6c886",
      "metadata": {},
      "source": [
        "## Data\n",
        "\n",
        "This problem uses `weekly` return data from `data/spx_returns_weekly.xlsx`.\n",
        "\n",
        "Choose any `4` stocks to evaluate below.\n",
        "\n",
        "For example, \n",
        "* `AAPL`\n",
        "* `META`\n",
        "* `NVDA`\n",
        "* `TSLA`"
      ]
    },
    {
      "cell_type": "code",
      "execution_count": 1,
      "id": "506d72ec",
      "metadata": {},
      "outputs": [
        {
          "data": {
            "text/html": [
              "<div>\n",
              "<style scoped>\n",
              "    .dataframe tbody tr th:only-of-type {\n",
              "        vertical-align: middle;\n",
              "    }\n",
              "\n",
              "    .dataframe tbody tr th {\n",
              "        vertical-align: top;\n",
              "    }\n",
              "\n",
              "    .dataframe thead th {\n",
              "        text-align: right;\n",
              "    }\n",
              "</style>\n",
              "<table border=\"1\" class=\"dataframe\">\n",
              "  <thead>\n",
              "    <tr style=\"text-align: right;\">\n",
              "      <th></th>\n",
              "      <th>AAPL</th>\n",
              "      <th>META</th>\n",
              "      <th>NVDA</th>\n",
              "      <th>TSLA</th>\n",
              "    </tr>\n",
              "    <tr>\n",
              "      <th>date</th>\n",
              "      <th></th>\n",
              "      <th></th>\n",
              "      <th></th>\n",
              "      <th></th>\n",
              "    </tr>\n",
              "  </thead>\n",
              "  <tbody>\n",
              "    <tr>\n",
              "      <th>2015-01-09</th>\n",
              "      <td>0.024514</td>\n",
              "      <td>-0.009055</td>\n",
              "      <td>-0.009315</td>\n",
              "      <td>-0.057685</td>\n",
              "    </tr>\n",
              "    <tr>\n",
              "      <th>2015-01-16</th>\n",
              "      <td>-0.053745</td>\n",
              "      <td>-0.032931</td>\n",
              "      <td>0.000836</td>\n",
              "      <td>-0.065760</td>\n",
              "    </tr>\n",
              "    <tr>\n",
              "      <th>2015-01-23</th>\n",
              "      <td>0.065950</td>\n",
              "      <td>0.035255</td>\n",
              "      <td>0.037578</td>\n",
              "      <td>0.042575</td>\n",
              "    </tr>\n",
              "    <tr>\n",
              "      <th>2015-01-30</th>\n",
              "      <td>0.036997</td>\n",
              "      <td>-0.024669</td>\n",
              "      <td>-0.072636</td>\n",
              "      <td>0.011476</td>\n",
              "    </tr>\n",
              "    <tr>\n",
              "      <th>2015-02-06</th>\n",
              "      <td>0.019114</td>\n",
              "      <td>-0.018967</td>\n",
              "      <td>0.062269</td>\n",
              "      <td>0.067589</td>\n",
              "    </tr>\n",
              "  </tbody>\n",
              "</table>\n",
              "</div>"
            ],
            "text/plain": [
              "                AAPL      META      NVDA      TSLA\n",
              "date                                              \n",
              "2015-01-09  0.024514 -0.009055 -0.009315 -0.057685\n",
              "2015-01-16 -0.053745 -0.032931  0.000836 -0.065760\n",
              "2015-01-23  0.065950  0.035255  0.037578  0.042575\n",
              "2015-01-30  0.036997 -0.024669 -0.072636  0.011476\n",
              "2015-02-06  0.019114 -0.018967  0.062269  0.067589"
            ]
          },
          "execution_count": 1,
          "metadata": {},
          "output_type": "execute_result"
        }
      ],
      "source": [
        "import pandas as pd\n",
        "import numpy as np\n",
        "import matplotlib.pyplot as plt\n",
        "from scipy.stats import norm\n",
        "\n",
        "# TICKS = [\"AMD\", \"ADBE\", \"ORCL\", \"BKNG\"]\n",
        "TICKS = [\"AAPL\", \"META\", \"NVDA\", \"TSLA\"]\n",
        "\n",
        "stock_rets = pd.read_excel(\"../data/spx_returns_weekly.xlsx\", sheet_name=\"s&p500 rets\").set_index(\"date\")[TICKS]\n",
        "bench_rets = pd.read_excel(\"../data/spx_returns_weekly.xlsx\", sheet_name=\"benchmark rets\").set_index(\"date\")\n",
        "\n",
        "stock_rets.head()"
      ]
    },
    {
      "cell_type": "code",
      "execution_count": 2,
      "id": "d317ca30",
      "metadata": {},
      "outputs": [
        {
          "data": {
            "text/html": [
              "<div>\n",
              "<style scoped>\n",
              "    .dataframe tbody tr th:only-of-type {\n",
              "        vertical-align: middle;\n",
              "    }\n",
              "\n",
              "    .dataframe tbody tr th {\n",
              "        vertical-align: top;\n",
              "    }\n",
              "\n",
              "    .dataframe thead th {\n",
              "        text-align: right;\n",
              "    }\n",
              "</style>\n",
              "<table border=\"1\" class=\"dataframe\">\n",
              "  <thead>\n",
              "    <tr style=\"text-align: right;\">\n",
              "      <th></th>\n",
              "      <th>SPY</th>\n",
              "      <th>BTC</th>\n",
              "      <th>USO</th>\n",
              "      <th>TLT</th>\n",
              "      <th>IEF</th>\n",
              "      <th>IYR</th>\n",
              "      <th>GLD</th>\n",
              "    </tr>\n",
              "    <tr>\n",
              "      <th>date</th>\n",
              "      <th></th>\n",
              "      <th></th>\n",
              "      <th></th>\n",
              "      <th></th>\n",
              "      <th></th>\n",
              "      <th></th>\n",
              "      <th></th>\n",
              "    </tr>\n",
              "  </thead>\n",
              "  <tbody>\n",
              "    <tr>\n",
              "      <th>2015-01-09</th>\n",
              "      <td>-0.005744</td>\n",
              "      <td>-0.079179</td>\n",
              "      <td>-0.080945</td>\n",
              "      <td>0.029453</td>\n",
              "      <td>0.013517</td>\n",
              "      <td>0.029953</td>\n",
              "      <td>0.027875</td>\n",
              "    </tr>\n",
              "    <tr>\n",
              "      <th>2015-01-16</th>\n",
              "      <td>-0.012827</td>\n",
              "      <td>-0.281115</td>\n",
              "      <td>0.002735</td>\n",
              "      <td>0.016175</td>\n",
              "      <td>0.010188</td>\n",
              "      <td>0.019471</td>\n",
              "      <td>0.044858</td>\n",
              "    </tr>\n",
              "    <tr>\n",
              "      <th>2015-01-23</th>\n",
              "      <td>0.016565</td>\n",
              "      <td>0.137612</td>\n",
              "      <td>-0.072559</td>\n",
              "      <td>0.011863</td>\n",
              "      <td>0.001558</td>\n",
              "      <td>0.007958</td>\n",
              "      <td>0.013957</td>\n",
              "    </tr>\n",
              "    <tr>\n",
              "      <th>2015-01-30</th>\n",
              "      <td>-0.026931</td>\n",
              "      <td>-0.030969</td>\n",
              "      <td>0.048235</td>\n",
              "      <td>0.026044</td>\n",
              "      <td>0.011992</td>\n",
              "      <td>-0.013361</td>\n",
              "      <td>-0.006279</td>\n",
              "    </tr>\n",
              "    <tr>\n",
              "      <th>2015-02-06</th>\n",
              "      <td>0.030584</td>\n",
              "      <td>-0.027431</td>\n",
              "      <td>0.092593</td>\n",
              "      <td>-0.051020</td>\n",
              "      <td>-0.022724</td>\n",
              "      <td>-0.013173</td>\n",
              "      <td>-0.038963</td>\n",
              "    </tr>\n",
              "  </tbody>\n",
              "</table>\n",
              "</div>"
            ],
            "text/plain": [
              "                 SPY       BTC       USO       TLT       IEF       IYR  \\\n",
              "date                                                                     \n",
              "2015-01-09 -0.005744 -0.079179 -0.080945  0.029453  0.013517  0.029953   \n",
              "2015-01-16 -0.012827 -0.281115  0.002735  0.016175  0.010188  0.019471   \n",
              "2015-01-23  0.016565  0.137612 -0.072559  0.011863  0.001558  0.007958   \n",
              "2015-01-30 -0.026931 -0.030969  0.048235  0.026044  0.011992 -0.013361   \n",
              "2015-02-06  0.030584 -0.027431  0.092593 -0.051020 -0.022724 -0.013173   \n",
              "\n",
              "                 GLD  \n",
              "date                  \n",
              "2015-01-09  0.027875  \n",
              "2015-01-16  0.044858  \n",
              "2015-01-23  0.013957  \n",
              "2015-01-30 -0.006279  \n",
              "2015-02-06 -0.038963  "
            ]
          },
          "execution_count": 2,
          "metadata": {},
          "output_type": "execute_result"
        }
      ],
      "source": [
        "bench_rets.head()"
      ]
    },
    {
      "cell_type": "markdown",
      "id": "c78c32f1",
      "metadata": {},
      "source": [
        "# 1 Diversification"
      ]
    },
    {
      "cell_type": "markdown",
      "id": "39781afd",
      "metadata": {},
      "source": [
        "## 1.1\n",
        "\n",
        "Using the full sample, calculate for each series the (unconditional) \n",
        "* volatility\n",
        "* empirical VaR (.05)\n",
        "* empirical CVaR (.05)\n",
        "\n",
        "Recall that by **empirical** we refer to the direct quantile estimation. (For example, using `.quantile()` in pandas.\n",
        "\n",
        "## 1.2\n",
        "Form an equally-weighted portfolio of the investments.\n",
        "\n",
        "Calculate the statistics of `1.1` for this portfolio, and compare the results to the individual return statistics. What do you find? What is driving this result?\n",
        "\n",
        "## 1.3\n",
        "Re-calculate `1.2`, but this time drop your most volatile asset, and replace the portion it was getting with 0. (You could imagine we're replacing the most volatile asset with a negligibly small risk-free rate.)\n",
        "\n",
        "In comparing the answer here to 1.2, how much risk is your most volatile asset adding to the portfolio? Is this in line with the amount of risk we measured in the stand-alone risk-assessment of `1.1`?"
      ]
    },
    {
      "cell_type": "code",
      "execution_count": 3,
      "id": "4f2ca168",
      "metadata": {},
      "outputs": [
        {
          "data": {
            "text/html": [
              "<div>\n",
              "<style scoped>\n",
              "    .dataframe tbody tr th:only-of-type {\n",
              "        vertical-align: middle;\n",
              "    }\n",
              "\n",
              "    .dataframe tbody tr th {\n",
              "        vertical-align: top;\n",
              "    }\n",
              "\n",
              "    .dataframe thead th {\n",
              "        text-align: right;\n",
              "    }\n",
              "</style>\n",
              "<table border=\"1\" class=\"dataframe\">\n",
              "  <thead>\n",
              "    <tr style=\"text-align: right;\">\n",
              "      <th></th>\n",
              "      <th>vol</th>\n",
              "      <th>5% VaR</th>\n",
              "      <th>5% CVaR</th>\n",
              "    </tr>\n",
              "  </thead>\n",
              "  <tbody>\n",
              "    <tr>\n",
              "      <th>AAPL</th>\n",
              "      <td>0.038362</td>\n",
              "      <td>-0.056366</td>\n",
              "      <td>-0.083125</td>\n",
              "    </tr>\n",
              "    <tr>\n",
              "      <th>META</th>\n",
              "      <td>0.048722</td>\n",
              "      <td>-0.070012</td>\n",
              "      <td>-0.103196</td>\n",
              "    </tr>\n",
              "    <tr>\n",
              "      <th>NVDA</th>\n",
              "      <td>0.064246</td>\n",
              "      <td>-0.086853</td>\n",
              "      <td>-0.116455</td>\n",
              "    </tr>\n",
              "    <tr>\n",
              "      <th>TSLA</th>\n",
              "      <td>0.081323</td>\n",
              "      <td>-0.117397</td>\n",
              "      <td>-0.147814</td>\n",
              "    </tr>\n",
              "  </tbody>\n",
              "</table>\n",
              "</div>"
            ],
            "text/plain": [
              "           vol    5% VaR   5% CVaR\n",
              "AAPL  0.038362 -0.056366 -0.083125\n",
              "META  0.048722 -0.070012 -0.103196\n",
              "NVDA  0.064246 -0.086853 -0.116455\n",
              "TSLA  0.081323 -0.117397 -0.147814"
            ]
          },
          "execution_count": 3,
          "metadata": {},
          "output_type": "execute_result"
        }
      ],
      "source": [
        "# 1.1\n",
        "def compute_stock_stats(rets: pd.DataFrame) -> pd.DataFrame:\n",
        "    vol = rets.std()\n",
        "    eVaR = rets.quantile(0.05)\n",
        "    eCVaR = rets[rets <= rets.quantile(0.05)].mean()\n",
        "\n",
        "    return pd.DataFrame(data = {\n",
        "        \"vol\": vol,\n",
        "        \"5% VaR\": eVaR,\n",
        "        \"5% CVaR\": eCVaR,\n",
        "    })\n",
        "\n",
        "stats = compute_stock_stats(stock_rets)\n",
        "stats.head()"
      ]
    },
    {
      "cell_type": "code",
      "execution_count": 4,
      "id": "f561c701",
      "metadata": {},
      "outputs": [
        {
          "data": {
            "text/plain": [
              "vol        0.043758\n",
              "5% VaR    -0.061950\n",
              "5% CVaR   -0.084992\n",
              "Name: portfolio, dtype: float64"
            ]
          },
          "execution_count": 4,
          "metadata": {},
          "output_type": "execute_result"
        }
      ],
      "source": [
        "# 1.2\n",
        "n = len(TICKS)\n",
        "stock_rets['portfolio'] = stock_rets[TICKS].sum(axis=1) / n\n",
        "\n",
        "pf_stats = compute_stock_stats(stock_rets).loc[\"portfolio\"]\n",
        "pf_stats.head()"
      ]
    },
    {
      "cell_type": "code",
      "execution_count": 5,
      "id": "9c3ac538",
      "metadata": {},
      "outputs": [
        {
          "name": "stdout",
          "output_type": "stream",
          "text": [
            "vol        0.081323\n",
            "5% VaR    -0.117397\n",
            "5% CVaR   -0.147814\n",
            "Name: TSLA, dtype: float64\n"
          ]
        },
        {
          "name": "stderr",
          "output_type": "stream",
          "text": [
            "/var/folders/7x/mk6b_27178v6y3m4bk5dnbkc0000gn/T/ipykernel_57661/3275957941.py:8: SettingWithCopyWarning: \n",
            "A value is trying to be set on a copy of a slice from a DataFrame.\n",
            "Try using .loc[row_indexer,col_indexer] = value instead\n",
            "\n",
            "See the caveats in the documentation: https://pandas.pydata.org/pandas-docs/stable/user_guide/indexing.html#returning-a-view-versus-a-copy\n",
            "  np_rets['portfolio'] = stock_rets[ticks_minus_most_vol].sum(axis=1) / n\n"
          ]
        },
        {
          "data": {
            "text/plain": [
              "vol        0.030282\n",
              "5% VaR    -0.042463\n",
              "5% CVaR   -0.060531\n",
              "Name: portfolio, dtype: float64"
            ]
          },
          "execution_count": 5,
          "metadata": {},
          "output_type": "execute_result"
        }
      ],
      "source": [
        "# 1.3\n",
        "most_volatile = stats.sort_values(by=\"vol\").iloc[-1]\n",
        "print(most_volatile)\n",
        "\n",
        "ticks_minus_most_vol = TICKS[:]\n",
        "ticks_minus_most_vol.remove(most_volatile.name)\n",
        "np_rets = stock_rets[ticks_minus_most_vol]\n",
        "np_rets['portfolio'] = stock_rets[ticks_minus_most_vol].sum(axis=1) / n\n",
        "\n",
        "np_stats = compute_stock_stats(np_rets).loc[\"portfolio\"]\n",
        "np_stats.head()"
      ]
    },
    {
      "cell_type": "markdown",
      "id": "c62e0ca7",
      "metadata": {},
      "source": [
        "The asset is adding approximately 0.1 in annualized volatility to the portfolio, which is approximately the difference between the asset-free portfolio's volatility and the asset's vol divided by 4. In any case, the portfolio volatility is still lower than all but 1 of the assets."
      ]
    },
    {
      "cell_type": "markdown",
      "id": "a078dbaa",
      "metadata": {},
      "source": [
        "***"
      ]
    },
    {
      "cell_type": "markdown",
      "id": "99dc32f0",
      "metadata": {},
      "source": [
        "# 2. Dynamic Measures"
      ]
    },
    {
      "cell_type": "markdown",
      "id": "2c676dfa",
      "metadata": {},
      "source": [
        "## 2.1 \n",
        "\n",
        "Let's measure the **conditional** statistics of the equally-weighted portfolio of `1.2`, as of the end of the sample.\n",
        "\n",
        "#### Volatility\n",
        "For each security, calculate the **rolling** volatility series, $\\sigma_t$, with a window of $m=26$.\n",
        "\n",
        "The value at $\\sigma_t$ in the notes denotes the estimate using data through time $t-1$, and thus (potentially) predicting the volatility at $\\sigma_{t}$. \n",
        "\n",
        "#### Mean\n",
        "Suppose we can approximate that the daily mean return is zero.\n",
        "\n",
        "#### VaR\n",
        "Calculate the **normal VaR** and **normal CVaR** for $q=.05$ and $\\tau=1$ as of the end of the sample. Use the approximation, $\\texttt{z}_{.05} = -1.65$.\n",
        "\n",
        "#### Notation Note\n",
        "In this setup, we are using a forecasted volatility, $\\sigma_t$ to estimate the VaR return we would have estimated at the end of $t-1$ in prediction of time $t$.\n",
        "\n",
        "#### Conclude and Compare\n",
        "Report\n",
        "* volatility (annualized).\n",
        "* normal VaR (.05)\n",
        "* normal CVaR (.05)\n",
        "\n",
        "How do these compare to the answers in `1.2`?"
      ]
    },
    {
      "cell_type": "code",
      "execution_count": 6,
      "id": "eabf815a",
      "metadata": {},
      "outputs": [
        {
          "data": {
            "text/html": [
              "<div>\n",
              "<style scoped>\n",
              "    .dataframe tbody tr th:only-of-type {\n",
              "        vertical-align: middle;\n",
              "    }\n",
              "\n",
              "    .dataframe tbody tr th {\n",
              "        vertical-align: top;\n",
              "    }\n",
              "\n",
              "    .dataframe thead th {\n",
              "        text-align: right;\n",
              "    }\n",
              "</style>\n",
              "<table border=\"1\" class=\"dataframe\">\n",
              "  <thead>\n",
              "    <tr style=\"text-align: right;\">\n",
              "      <th></th>\n",
              "      <th>AAPL</th>\n",
              "      <th>META</th>\n",
              "      <th>NVDA</th>\n",
              "      <th>TSLA</th>\n",
              "      <th>portfolio</th>\n",
              "    </tr>\n",
              "    <tr>\n",
              "      <th>date</th>\n",
              "      <th></th>\n",
              "      <th></th>\n",
              "      <th></th>\n",
              "      <th></th>\n",
              "      <th></th>\n",
              "    </tr>\n",
              "  </thead>\n",
              "  <tbody>\n",
              "    <tr>\n",
              "      <th>2025-04-25</th>\n",
              "      <td>0.047947</td>\n",
              "      <td>0.054819</td>\n",
              "      <td>0.078598</td>\n",
              "      <td>0.097651</td>\n",
              "      <td>0.053597</td>\n",
              "    </tr>\n",
              "    <tr>\n",
              "      <th>2025-05-02</th>\n",
              "      <td>0.047564</td>\n",
              "      <td>0.057596</td>\n",
              "      <td>0.078556</td>\n",
              "      <td>0.096224</td>\n",
              "      <td>0.053211</td>\n",
              "    </tr>\n",
              "    <tr>\n",
              "      <th>2025-05-09</th>\n",
              "      <td>0.047741</td>\n",
              "      <td>0.057173</td>\n",
              "      <td>0.076363</td>\n",
              "      <td>0.077772</td>\n",
              "      <td>0.048479</td>\n",
              "    </tr>\n",
              "    <tr>\n",
              "      <th>2025-05-16</th>\n",
              "      <td>0.049628</td>\n",
              "      <td>0.057751</td>\n",
              "      <td>0.082727</td>\n",
              "      <td>0.084876</td>\n",
              "      <td>0.053749</td>\n",
              "    </tr>\n",
              "    <tr>\n",
              "      <th>2025-05-23</th>\n",
              "      <td>0.051479</td>\n",
              "      <td>0.058009</td>\n",
              "      <td>0.082962</td>\n",
              "      <td>0.083011</td>\n",
              "      <td>0.054049</td>\n",
              "    </tr>\n",
              "  </tbody>\n",
              "</table>\n",
              "</div>"
            ],
            "text/plain": [
              "                AAPL      META      NVDA      TSLA  portfolio\n",
              "date                                                         \n",
              "2025-04-25  0.047947  0.054819  0.078598  0.097651   0.053597\n",
              "2025-05-02  0.047564  0.057596  0.078556  0.096224   0.053211\n",
              "2025-05-09  0.047741  0.057173  0.076363  0.077772   0.048479\n",
              "2025-05-16  0.049628  0.057751  0.082727  0.084876   0.053749\n",
              "2025-05-23  0.051479  0.058009  0.082962  0.083011   0.054049"
            ]
          },
          "execution_count": 6,
          "metadata": {},
          "output_type": "execute_result"
        }
      ],
      "source": [
        "def compute_rolling_volatility(series: pd.Series, window=26):\n",
        "    \"\"\"\n",
        "    Compute rolling volatility (annualized standard deviation) for a series.\n",
        "    \n",
        "    Args:\n",
        "        series: pandas Series with datetime index\n",
        "        window: number of periods for rolling window\n",
        "    \n",
        "    Returns:\n",
        "        pandas Series with rolling volatility\n",
        "    \"\"\"\n",
        "    # Calculate rolling standard deviation\n",
        "    rolling_std = series.rolling(window=window).std(ddof=1)\n",
        "    \n",
        "    # Annualize (assuming daily data, multiply by sqrt(252))\n",
        "    # Adjust multiplier based on your data frequency:\n",
        "    # Daily: sqrt(252), Weekly: sqrt(52), Monthly: sqrt(12)\n",
        "    # periods_per_year = 52  # adjust as needed\n",
        "    rolling_vol = rolling_std # * np.sqrt(periods_per_year)\n",
        "    \n",
        "    return rolling_vol\n",
        "\n",
        "rolling_vol = compute_rolling_volatility(stock_rets)\n",
        "rolling_vol.tail()"
      ]
    },
    {
      "cell_type": "code",
      "execution_count": 7,
      "id": "1b42f190",
      "metadata": {},
      "outputs": [
        {
          "name": "stdout",
          "output_type": "stream",
          "text": [
            "Normal distribution with rolling standard deviation 5% VaR: -0.0892\n"
          ]
        }
      ],
      "source": [
        "# compute normal VaR\n",
        "Z_05 = -1.65\n",
        "mean = 0\n",
        "sigma = rolling_vol['portfolio'].iloc[-1]\n",
        "normal_VaR = sigma*Z_05\n",
        "print(f\"Normal distribution with rolling standard deviation 5% VaR: {normal_VaR:.4f}\")"
      ]
    },
    {
      "cell_type": "code",
      "execution_count": 8,
      "id": "f19741af",
      "metadata": {},
      "outputs": [
        {
          "name": "stdout",
          "output_type": "stream",
          "text": [
            "Normal distribution with rolling standard deviation 5% CVaR: -0.1117\n"
          ]
        }
      ],
      "source": [
        "normal_cvar = -(norm.pdf(Z_05)/norm.cdf(Z_05))*sigma\n",
        "print(f\"Normal distribution with rolling standard deviation 5% CVaR: {normal_cvar:.4f}\")"
      ]
    },
    {
      "cell_type": "markdown",
      "id": "63a0f096",
      "metadata": {},
      "source": [
        "## 2.2\n",
        "\n",
        "Backtest the VaR using the **hit test**. Namely, check how many times the realized return at $t$ was smaller than the VaR return calculated using $\\sigma_t$, (where again remember the notation in the notes uses $\\sigma_t$ as a vol based on data through $t-1$.)\n",
        "\n",
        "Report the percentage of \"hits\" using both the \n",
        "* expanding volatility\n",
        "* rolling volatility"
      ]
    },
    {
      "cell_type": "code",
      "execution_count": 9,
      "id": "af260b5f",
      "metadata": {},
      "outputs": [
        {
          "name": "stdout",
          "output_type": "stream",
          "text": [
            "% of hits using expanding vol: 4.9815%\n"
          ]
        }
      ],
      "source": [
        "# expanding variance = 1/(t-1) * sum(r^2_i) to t-1 for each t\n",
        "# exp_var = stock_rets.expanding().var()\n",
        "exp_vol = stock_rets['portfolio'].expanding().std()\n",
        "exp_VaRs = exp_vol * Z_05\n",
        "\n",
        "# compute the percentage of returns that hit the predicted VaR boundaries\n",
        "# estimated from expanding volatilities\n",
        "perc_expanding = (stock_rets['portfolio'] <= exp_VaRs).astype(int).mean() * 100\n",
        "\n",
        "print(f\"% of hits using expanding vol: {perc_expanding:.4f}%\")"
      ]
    },
    {
      "cell_type": "code",
      "execution_count": 10,
      "id": "84636597",
      "metadata": {},
      "outputs": [
        {
          "name": "stdout",
          "output_type": "stream",
          "text": [
            "% of hits using rolling vol: 3.6900%\n"
          ]
        }
      ],
      "source": [
        "# rolling variance = 1/window_size * sum^window_size (r^2_{t-i})\n",
        "rol_vol = compute_rolling_volatility(stock_rets['portfolio'])\n",
        "rol_VaRs = rol_vol * Z_05\n",
        "\n",
        "perc_rolling = (stock_rets['portfolio'] <= rol_VaRs).astype(int).mean() * 100\n",
        "\n",
        "print(f\"% of hits using rolling vol: {perc_rolling:.4f}%\")"
      ]
    },
    {
      "cell_type": "markdown",
      "id": "823bd018",
      "metadata": {},
      "source": [
        "***"
      ]
    }
  ],
  "metadata": {
    "hide_input": false,
    "kernelspec": {
      "display_name": ".venv",
      "language": "python",
      "name": "python3"
    },
    "language_info": {
      "codemirror_mode": {
        "name": "ipython",
        "version": 3
      },
      "file_extension": ".py",
      "mimetype": "text/x-python",
      "name": "python",
      "nbconvert_exporter": "python",
      "pygments_lexer": "ipython3",
      "version": "3.11.7"
    }
  },
  "nbformat": 4,
  "nbformat_minor": 5
}
