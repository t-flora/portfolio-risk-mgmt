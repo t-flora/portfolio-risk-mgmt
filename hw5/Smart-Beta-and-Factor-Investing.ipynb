{
 "cells": [
  {
   "cell_type": "markdown",
   "metadata": {},
   "source": [
    "# Smart Beta and Factor Investing\n",
    "\n",
    "This assignment refers to the HBS case: **Smart Beta Exchange-Traded-Funds and Factor Investing**.\n",
    "\n",
    "* The case is a good introduction to important pricing factors.\n",
    "* It also gives useful introduction and context to ETFs, passive vs active investing, and so-called “smart beta” funds."
   ]
  },
  {
   "cell_type": "markdown",
   "metadata": {},
   "source": [
    "# 1. READING"
   ]
  },
  {
   "cell_type": "markdown",
   "metadata": {},
   "source": [
    "1. Describe how each of the factors (other than MKT) is measured.1That is, each factor is a portfolio of stocks–which stocks are included in the factor portfolio?\n",
    "\n",
    "1. Is the factor portfolio...\n",
    "    * long-only\n",
    "    * long-short\n",
    "    * value-weighted\n",
    "    * equally-weighted\n",
    "\n",
    "1. What steps are taken in the factor construction to try to reduce the correlation between the factors?\n",
    "5. What is the point of figures 1-6?\n",
    "6. How is a “smart beta” ETF different from a traditional ETF?\n",
    "7. Is it possible for all investors to have exposure to the “value” factor?\n",
    "8. How does factor investing differ from traditional diversification?\n",
    "\n",
    "#### Footnote:\n",
    "\n",
    "If you need more info in how these factor portfolios are created, see Ken French’s website, and the follow- details: \n",
    "\n",
    "https://mba.tuck.dartmouth.edu/pages/faculty/ken.french/Data_Library/f-f_5_factors_2x3.html\n",
    "\n",
    "https://mba.tuck.dartmouth.edu/pages/faculty/ken.french/Data_Library/det_mom_factor.html"
   ]
  },
  {
   "cell_type": "markdown",
   "metadata": {},
   "source": [
    "***"
   ]
  },
  {
   "cell_type": "markdown",
   "metadata": {},
   "source": [
    "# 2. The Factors\n",
    "\n",
    "### Data\n",
    "Use the data found in `data/factor_pricing_data.xlsx`.\n",
    "\n",
    "Factors: Monthly excess return data for the overall equity market, $\\tilde{r}^{\\text{MKT}}$.\n",
    "\n",
    "* The column header to the market factor is `MKT` rather than `MKT-RF`, but it is indeed already in excess return form.\n",
    "\n",
    "* The sheet also contains data on five additional factors.\n",
    "\n",
    "* All factor data is already provided as excess returns"
   ]
  },
  {
   "cell_type": "code",
   "execution_count": 1,
   "metadata": {},
   "outputs": [
    {
     "data": {
      "text/html": [
       "<div><style>\n",
       ".dataframe > thead > tr,\n",
       ".dataframe > tbody > tr {\n",
       "  text-align: right;\n",
       "  white-space: pre-wrap;\n",
       "}\n",
       "</style>\n",
       "<small>shape: (5, 7)</small><table border=\"1\" class=\"dataframe\"><thead><tr><th>Date</th><th>MKT</th><th>SMB</th><th>HML</th><th>RMW</th><th>CMA</th><th>UMD</th></tr><tr><td>date</td><td>f64</td><td>f64</td><td>f64</td><td>f64</td><td>f64</td><td>f64</td></tr></thead><tbody><tr><td>1980-01-31</td><td>0.055</td><td>0.0188</td><td>0.0185</td><td>-0.0184</td><td>0.0189</td><td>0.0745</td></tr><tr><td>1980-02-29</td><td>-0.0123</td><td>-0.0162</td><td>0.0059</td><td>-0.0095</td><td>0.0292</td><td>0.0789</td></tr><tr><td>1980-03-31</td><td>-0.1289</td><td>-0.0697</td><td>-0.0096</td><td>0.0182</td><td>-0.0105</td><td>-0.0958</td></tr><tr><td>1980-04-30</td><td>0.0396</td><td>0.0105</td><td>0.0103</td><td>-0.0218</td><td>0.0034</td><td>-0.0048</td></tr><tr><td>1980-05-31</td><td>0.0526</td><td>0.02</td><td>0.0038</td><td>0.0043</td><td>-0.0063</td><td>-0.0118</td></tr></tbody></table></div>"
      ],
      "text/plain": [
       "shape: (5, 7)\n",
       "┌────────────┬─────────┬─────────┬─────────┬─────────┬─────────┬─────────┐\n",
       "│ Date       ┆ MKT     ┆ SMB     ┆ HML     ┆ RMW     ┆ CMA     ┆ UMD     │\n",
       "│ ---        ┆ ---     ┆ ---     ┆ ---     ┆ ---     ┆ ---     ┆ ---     │\n",
       "│ date       ┆ f64     ┆ f64     ┆ f64     ┆ f64     ┆ f64     ┆ f64     │\n",
       "╞════════════╪═════════╪═════════╪═════════╪═════════╪═════════╪═════════╡\n",
       "│ 1980-01-31 ┆ 0.055   ┆ 0.0188  ┆ 0.0185  ┆ -0.0184 ┆ 0.0189  ┆ 0.0745  │\n",
       "│ 1980-02-29 ┆ -0.0123 ┆ -0.0162 ┆ 0.0059  ┆ -0.0095 ┆ 0.0292  ┆ 0.0789  │\n",
       "│ 1980-03-31 ┆ -0.1289 ┆ -0.0697 ┆ -0.0096 ┆ 0.0182  ┆ -0.0105 ┆ -0.0958 │\n",
       "│ 1980-04-30 ┆ 0.0396  ┆ 0.0105  ┆ 0.0103  ┆ -0.0218 ┆ 0.0034  ┆ -0.0048 │\n",
       "│ 1980-05-31 ┆ 0.0526  ┆ 0.02    ┆ 0.0038  ┆ 0.0043  ┆ -0.0063 ┆ -0.0118 │\n",
       "└────────────┴─────────┴─────────┴─────────┴─────────┴─────────┴─────────┘"
      ]
     },
     "execution_count": 1,
     "metadata": {},
     "output_type": "execute_result"
    }
   ],
   "source": [
    "import polars as pl\n",
    "import pandas as pd\n",
    "import numpy as np\n",
    "\n",
    "# sheet names: \n",
    "# 'factors (excess returns)'\n",
    "# 'portfolios (excess returns)'\n",
    "# 'risk-free rate'\n",
    "\n",
    "# factors\n",
    "# Name\n",
    "# MKT\tMarket\n",
    "# SMB\tSize\n",
    "# HML\tValue\n",
    "# RMW\tProfitability\n",
    "# CMA\tInvestment\n",
    "# UMD\tMomentum\n",
    "# RF\tRisk-free rate\n",
    "\n",
    "rets = pl.read_excel(\n",
    "    '../data/factor_pricing_data_monthly.xlsx',\n",
    "    sheet_name='factors (excess returns)',\n",
    ")\n",
    "rets_pd = rets.to_pandas()\n",
    "\n",
    "rets.head()"
   ]
  },
  {
   "cell_type": "markdown",
   "metadata": {},
   "source": [
    "### 1. \n",
    "Analyze the factors, similar to how you analyzed the three Fama-French factors in `Homework 4`.\n",
    "\n",
    "You now have three additional factors, so let’s compare there univariate statistics. \n",
    "\n",
    "* mean\n",
    "* volatility    \n",
    "* Sharpe"
   ]
  },
  {
   "cell_type": "code",
   "execution_count": 2,
   "metadata": {},
   "outputs": [
    {
     "data": {
      "text/html": [
       "<div><style>\n",
       ".dataframe > thead > tr,\n",
       ".dataframe > tbody > tr {\n",
       "  text-align: right;\n",
       "  white-space: pre-wrap;\n",
       "}\n",
       "</style>\n",
       "<small>shape: (6, 4)</small><table border=\"1\" class=\"dataframe\"><thead><tr><th>Factor</th><th>Mean</th><th>Vol</th><th>Sharpe</th></tr><tr><td>str</td><td>f64</td><td>f64</td><td>f64</td></tr></thead><tbody><tr><td>&quot;MKT&quot;</td><td>0.117872</td><td>0.157356</td><td>0.749078</td></tr><tr><td>&quot;SMB&quot;</td><td>-0.023775</td><td>0.103166</td><td>-0.230455</td></tr><tr><td>&quot;HML&quot;</td><td>-0.016303</td><td>0.129885</td><td>-0.12552</td></tr><tr><td>&quot;RMW&quot;</td><td>0.0400125</td><td>0.072632</td><td>0.550896</td></tr><tr><td>&quot;CMA&quot;</td><td>-0.009141</td><td>0.082072</td><td>-0.111373</td></tr><tr><td>&quot;UMD&quot;</td><td>0.020119</td><td>0.137387</td><td>0.146438</td></tr></tbody></table></div>"
      ],
      "text/plain": [
       "shape: (6, 4)\n",
       "┌────────┬───────────┬──────────┬───────────┐\n",
       "│ Factor ┆ Mean      ┆ Vol      ┆ Sharpe    │\n",
       "│ ---    ┆ ---       ┆ ---      ┆ ---       │\n",
       "│ str    ┆ f64       ┆ f64      ┆ f64       │\n",
       "╞════════╪═══════════╪══════════╪═══════════╡\n",
       "│ MKT    ┆ 0.117872  ┆ 0.157356 ┆ 0.749078  │\n",
       "│ SMB    ┆ -0.023775 ┆ 0.103166 ┆ -0.230455 │\n",
       "│ HML    ┆ -0.016303 ┆ 0.129885 ┆ -0.12552  │\n",
       "│ RMW    ┆ 0.0400125 ┆ 0.072632 ┆ 0.550896  │\n",
       "│ CMA    ┆ -0.009141 ┆ 0.082072 ┆ -0.111373 │\n",
       "│ UMD    ┆ 0.020119  ┆ 0.137387 ┆ 0.146438  │\n",
       "└────────┴───────────┴──────────┴───────────┘"
      ]
     },
     "execution_count": 2,
     "metadata": {},
     "output_type": "execute_result"
    }
   ],
   "source": [
    "def performance_metrics(returns, annualization=1, start_date=None, end_date=None): # , quantile=.05):\n",
    "    # only calculate for columns containing numerical (factor) data, not \"Date\"\n",
    "    # Filter the data by date if start_date or end_date are provided\n",
    "    filtered_returns = returns\n",
    "    import datetime\n",
    "\n",
    "    if start_date is not None:\n",
    "        if isinstance(start_date, str):\n",
    "            start_date_dt = datetime.date.fromisoformat(start_date)\n",
    "        else:\n",
    "            start_date_dt = start_date\n",
    "        filtered_returns = filtered_returns.filter(pl.col(\"Date\") >= pl.lit(start_date_dt))\n",
    "\n",
    "    if end_date is not None:\n",
    "        if isinstance(end_date, str):\n",
    "            end_date_dt = datetime.date.fromisoformat(end_date)\n",
    "        else:\n",
    "            end_date_dt = end_date\n",
    "        filtered_returns = filtered_returns.filter(pl.col(\"Date\") <= pl.lit(end_date_dt))\n",
    "\n",
    "    factor_cols = [col for col in filtered_returns.columns if filtered_returns.schema[col] in [pl.Float64, pl.Float32, pl.Int64, pl.Int32]]\n",
    "    means = filtered_returns.select([pl.col(factor_cols).mean() * annualization]).to_dict(as_series=False)\n",
    "    vols = filtered_returns.select([pl.col(factor_cols).std() * np.sqrt(annualization)]).to_dict(as_series=False)\n",
    "    sharpes = filtered_returns.select([\n",
    "        (pl.col(col).mean() / pl.col(col).std() * np.sqrt(annualization)).alias(col) for col in factor_cols\n",
    "    ]).to_dict(as_series=False)\n",
    "\n",
    "    metrics = pl.DataFrame({\n",
    "        \"Factor\": factor_cols,\n",
    "        \"Mean\": [means[col][0] for col in factor_cols],\n",
    "        \"Vol\": [vols[col][0] for col in factor_cols],\n",
    "        \"Sharpe\": [sharpes[col][0] for col in factor_cols],\n",
    "    })\n",
    "    return metrics\n",
    "\n",
    "metrics = performance_metrics(rets, annualization=12, start_date=\"2015-01-01\")\n",
    "metrics.head(10)"
   ]
  },
  {
   "cell_type": "markdown",
   "metadata": {},
   "source": [
    "### 2. \n",
    "\n",
    "Based on the factor statistics above, answer the following.\n",
    "* Does each factor have a positive risk premium (positive expected excess return)? \n",
    "* How have the factors performed since the time of the case, (2015-present)?"
   ]
  },
  {
   "cell_type": "markdown",
   "metadata": {},
   "source": [
    "For the 2015-present subsample, there are 3 factors with negative premia: size, value, and investment.\n",
    "\n",
    "Profitability and momentum have fared better, especially the former with a Sharpe of 0.55."
   ]
  },
  {
   "cell_type": "markdown",
   "metadata": {},
   "source": [
    "### 3. \n",
    "\n",
    "Report the correlation matrix across the six factors.\n",
    "* Does the construction method succeed in keeping correlations small?\n",
    "* Fama and French say that HML is somewhat redundant in their 5-factor model. Does this seem to be the case?"
   ]
  },
  {
   "cell_type": "code",
   "execution_count": 3,
   "metadata": {},
   "outputs": [
    {
     "data": {
      "text/html": [
       "<div><style>\n",
       ".dataframe > thead > tr,\n",
       ".dataframe > tbody > tr {\n",
       "  text-align: right;\n",
       "  white-space: pre-wrap;\n",
       "}\n",
       "</style>\n",
       "<small>shape: (6, 6)</small><table border=\"1\" class=\"dataframe\"><thead><tr><th>MKT</th><th>SMB</th><th>HML</th><th>RMW</th><th>CMA</th><th>UMD</th></tr><tr><td>f64</td><td>f64</td><td>f64</td><td>f64</td><td>f64</td><td>f64</td></tr></thead><tbody><tr><td>1.0</td><td>0.226997</td><td>-0.207918</td><td>-0.250639</td><td>-0.346542</td><td>-0.179352</td></tr><tr><td>0.226997</td><td>1.0</td><td>-0.021819</td><td>-0.411946</td><td>-0.051099</td><td>-0.06094</td></tr><tr><td>-0.207918</td><td>-0.021819</td><td>1.0</td><td>0.219401</td><td>0.676727</td><td>-0.215523</td></tr><tr><td>-0.250639</td><td>-0.411946</td><td>0.219401</td><td>1.0</td><td>0.138566</td><td>0.076694</td></tr><tr><td>-0.346542</td><td>-0.051099</td><td>0.676727</td><td>0.138566</td><td>1.0</td><td>0.000094</td></tr><tr><td>-0.179352</td><td>-0.06094</td><td>-0.215523</td><td>0.076694</td><td>0.000094</td><td>1.0</td></tr></tbody></table></div>"
      ],
      "text/plain": [
       "shape: (6, 6)\n",
       "┌───────────┬───────────┬───────────┬───────────┬───────────┬───────────┐\n",
       "│ MKT       ┆ SMB       ┆ HML       ┆ RMW       ┆ CMA       ┆ UMD       │\n",
       "│ ---       ┆ ---       ┆ ---       ┆ ---       ┆ ---       ┆ ---       │\n",
       "│ f64       ┆ f64       ┆ f64       ┆ f64       ┆ f64       ┆ f64       │\n",
       "╞═══════════╪═══════════╪═══════════╪═══════════╪═══════════╪═══════════╡\n",
       "│ 1.0       ┆ 0.226997  ┆ -0.207918 ┆ -0.250639 ┆ -0.346542 ┆ -0.179352 │\n",
       "│ 0.226997  ┆ 1.0       ┆ -0.021819 ┆ -0.411946 ┆ -0.051099 ┆ -0.06094  │\n",
       "│ -0.207918 ┆ -0.021819 ┆ 1.0       ┆ 0.219401  ┆ 0.676727  ┆ -0.215523 │\n",
       "│ -0.250639 ┆ -0.411946 ┆ 0.219401  ┆ 1.0       ┆ 0.138566  ┆ 0.076694  │\n",
       "│ -0.346542 ┆ -0.051099 ┆ 0.676727  ┆ 0.138566  ┆ 1.0       ┆ 0.000094  │\n",
       "│ -0.179352 ┆ -0.06094  ┆ -0.215523 ┆ 0.076694  ┆ 0.000094  ┆ 1.0       │\n",
       "└───────────┴───────────┴───────────┴───────────┴───────────┴───────────┘"
      ]
     },
     "execution_count": 3,
     "metadata": {},
     "output_type": "execute_result"
    }
   ],
   "source": [
    "# get the correlation matrix\n",
    "corr_matrix = rets[[\"MKT\", \"SMB\", \"HML\", \"RMW\", \"CMA\", \"UMD\"]].corr()\n",
    "corr_matrix"
   ]
  },
  {
   "cell_type": "markdown",
   "metadata": {},
   "source": [
    "Correlations are generally small across the board. The largest one being HML and CMA.\n",
    "\n",
    "HML does not seem to be that redundant, considering its highest correlation is with CMA - the investment factor. And only then at 0.68."
   ]
  },
  {
   "cell_type": "markdown",
   "metadata": {},
   "source": [
    "### 4. \n",
    "\n",
    "Report the tangency weights for a portfolio of these 6 factors.\n",
    "* Which factors seem most important? And Least?\n",
    "* Are the factors with low mean returns still useful?\n",
    "* Re-do the tangency portfolio, but this time only include MKT, SMB, HML, and UMD. Which factors get high/low tangency weights now?\n",
    "\n",
    "What do you conclude about the importance or unimportance of these styles?"
   ]
  },
  {
   "cell_type": "code",
   "execution_count": 4,
   "metadata": {},
   "outputs": [
    {
     "data": {
      "text/plain": [
       "array([ 6.55018707,  2.00262168, -0.63544901,  9.04204062,  9.62925191,\n",
       "        3.36880503])"
      ]
     },
     "execution_count": 4,
     "metadata": {},
     "output_type": "execute_result"
    }
   ],
   "source": [
    "def tangency_weights_from_df(returns: pd.DataFrame, periods: int = 12, rf: float = 0.0) -> np.ndarray:\n",
    "    mu = returns.mean() * periods\n",
    "    cov_matrix = returns.cov() * periods\n",
    "    inv_cov_matrix = np.linalg.inv(cov_matrix)\n",
    "    ones = np.ones(len(mu))\n",
    "\n",
    "    z = inv_cov_matrix @ (mu - rf*ones)\n",
    "    return z\n",
    "\n",
    "weights = tangency_weights_from_df(rets_pd[[\"MKT\", \"SMB\", \"HML\", \"RMW\", \"CMA\", \"UMD\"]])\n",
    "weights"
   ]
  },
  {
   "cell_type": "markdown",
   "metadata": {},
   "source": [
    "Most important factors are investment and momentum by magnitude, while value (HML) has the lowest magnitude. Market beta is also very significant. These conclusions are not surprising considering the correlation matrix above.\n",
    "\n",
    "Considering investment had a negative mean return, it shows low mean returns can still be quite useful."
   ]
  },
  {
   "cell_type": "code",
   "execution_count": 5,
   "metadata": {},
   "outputs": [
    {
     "data": {
      "text/plain": [
       "array([ 5.16973145, -0.70297433,  5.01604229,  4.24772173])"
      ]
     },
     "execution_count": 5,
     "metadata": {},
     "output_type": "execute_result"
    }
   ],
   "source": [
    "w_new = tangency_weights_from_df(rets_pd[[\"MKT\", \"SMB\", \"HML\", \"UMD\"]])\n",
    "w_new"
   ]
  },
  {
   "cell_type": "markdown",
   "metadata": {},
   "source": [
    "If we restrict the portfolio to MKT, SMB, HML, and UMD, we can see HML now has similar weight to market beta, and SMB has lower absolute weight."
   ]
  },
  {
   "cell_type": "markdown",
   "metadata": {},
   "source": [
    "***"
   ]
  },
  {
   "cell_type": "markdown",
   "metadata": {},
   "source": [
    "# 3. Testing Modern LPMs\n",
    "\n",
    "Consider the following factor models:\n",
    "* CAPM: MKT\n",
    "* Fama-French 3F: MKT, SMB, HML\n",
    "* Fama-French 5F: MKT, SMB, HML, RMW, CMA\n",
    "* AQR: MKT, HML, RMW, UMD\n",
    "\n",
    "Our labeling of the last model as the **AQR** is just for concreteness. The firm is well-known for these factors and an unused case study discusses that further.\n",
    "\n",
    "For instance, for the AQR model is..."
   ]
  },
  {
   "cell_type": "markdown",
   "metadata": {
    "vscode": {
     "languageId": "plaintext"
    }
   },
   "source": [
    "$$\n",
    "\\mathbb{E}[\\tilde{r}^i] \n",
    "= \\beta^{i,\\mathrm{MKT}} \\, \\mathbb{E}[\\tilde{f}^{\\mathrm{MKT}}] \n",
    "+ \\beta^{i,\\mathrm{HML}} \\, \\mathbb{E}[\\tilde{f}^{\\mathrm{HML}}] \n",
    "+ \\beta^{i,\\mathrm{RMW}} \\, \\mathbb{E}[\\tilde{f}^{\\mathrm{RMW}}] \n",
    "+ \\beta^{i,\\mathrm{UMD}} \\, \\mathbb{E}[\\tilde{f}^{\\mathrm{UMD}}]\n",
    "$$"
   ]
  },
  {
   "cell_type": "markdown",
   "metadata": {},
   "source": [
    "We will test these models with the time-series regressions. Namely, for each asset i, estimate the following regression to test the AQR model:"
   ]
  },
  {
   "cell_type": "markdown",
   "metadata": {},
   "source": [
    "$$\n",
    "\\tilde{r}^i_t \n",
    "= \\alpha^i \n",
    "+ \\beta^{i,\\mathrm{MKT}} \\tilde{f}^{\\mathrm{MKT}}_t \n",
    "+ \\beta^{i,\\mathrm{HML}} \\tilde{f}^{\\mathrm{HML}}_t \n",
    "+ \\beta^{i,\\mathrm{RMW}} \\tilde{f}^{\\mathrm{RMW}}_t \n",
    "+ \\beta^{i,\\mathrm{UMD}} \\tilde{f}^{\\mathrm{UMD}}_t \n",
    "+ \\varepsilon_t\n",
    "$$"
   ]
  },
  {
   "cell_type": "markdown",
   "metadata": {},
   "source": [
    "### Data\n",
    "\n",
    "* Monthly excess return data on `n=49` equity portfolios sorted by their industry. Denote these as $\\tilde{r}^i$ , for $n = 1, . . . .$\n",
    "\n",
    "* You do NOT need the risk-free rate data. It is provided only for completeness. The other two tabs are already in terms of excess returns."
   ]
  },
  {
   "cell_type": "markdown",
   "metadata": {},
   "source": [
    "### 1. \n",
    "\n",
    "Test the AQR 4-Factor Model using the time-series test. (We are not doing the cross-sectional regression tests.)\n",
    "\n",
    "For each regression, report the estimated α and r-squared.\n"
   ]
  },
  {
   "cell_type": "code",
   "execution_count": 6,
   "metadata": {},
   "outputs": [
    {
     "data": {
      "text/html": [
       "<div>\n",
       "<style scoped>\n",
       "    .dataframe tbody tr th:only-of-type {\n",
       "        vertical-align: middle;\n",
       "    }\n",
       "\n",
       "    .dataframe tbody tr th {\n",
       "        vertical-align: top;\n",
       "    }\n",
       "\n",
       "    .dataframe thead th {\n",
       "        text-align: right;\n",
       "    }\n",
       "</style>\n",
       "<table border=\"1\" class=\"dataframe\">\n",
       "  <thead>\n",
       "    <tr style=\"text-align: right;\">\n",
       "      <th></th>\n",
       "      <th>Date</th>\n",
       "      <th>Agric</th>\n",
       "      <th>Food</th>\n",
       "      <th>Soda</th>\n",
       "      <th>Beer</th>\n",
       "      <th>Smoke</th>\n",
       "      <th>Toys</th>\n",
       "      <th>Fun</th>\n",
       "      <th>Books</th>\n",
       "      <th>Hshld</th>\n",
       "      <th>...</th>\n",
       "      <th>Boxes</th>\n",
       "      <th>Trans</th>\n",
       "      <th>Whlsl</th>\n",
       "      <th>Rtail</th>\n",
       "      <th>Meals</th>\n",
       "      <th>Banks</th>\n",
       "      <th>Insur</th>\n",
       "      <th>RlEst</th>\n",
       "      <th>Fin</th>\n",
       "      <th>Other</th>\n",
       "    </tr>\n",
       "  </thead>\n",
       "  <tbody>\n",
       "    <tr>\n",
       "      <th>0</th>\n",
       "      <td>1980-01-31</td>\n",
       "      <td>-0.0073</td>\n",
       "      <td>0.0285</td>\n",
       "      <td>0.0084</td>\n",
       "      <td>0.1009</td>\n",
       "      <td>-0.0143</td>\n",
       "      <td>0.0995</td>\n",
       "      <td>0.0348</td>\n",
       "      <td>0.0323</td>\n",
       "      <td>0.0048</td>\n",
       "      <td>...</td>\n",
       "      <td>0.0158</td>\n",
       "      <td>0.0851</td>\n",
       "      <td>0.0466</td>\n",
       "      <td>-0.0125</td>\n",
       "      <td>0.0430</td>\n",
       "      <td>-0.0284</td>\n",
       "      <td>0.0254</td>\n",
       "      <td>0.0770</td>\n",
       "      <td>0.0306</td>\n",
       "      <td>0.0666</td>\n",
       "    </tr>\n",
       "    <tr>\n",
       "      <th>1</th>\n",
       "      <td>1980-02-29</td>\n",
       "      <td>0.0125</td>\n",
       "      <td>-0.0609</td>\n",
       "      <td>-0.0967</td>\n",
       "      <td>-0.0323</td>\n",
       "      <td>-0.0575</td>\n",
       "      <td>-0.0316</td>\n",
       "      <td>-0.0492</td>\n",
       "      <td>-0.0803</td>\n",
       "      <td>-0.0556</td>\n",
       "      <td>...</td>\n",
       "      <td>-0.0083</td>\n",
       "      <td>-0.0543</td>\n",
       "      <td>-0.0345</td>\n",
       "      <td>-0.0641</td>\n",
       "      <td>-0.0653</td>\n",
       "      <td>-0.0824</td>\n",
       "      <td>-0.0960</td>\n",
       "      <td>-0.0352</td>\n",
       "      <td>-0.0283</td>\n",
       "      <td>-0.0273</td>\n",
       "    </tr>\n",
       "    <tr>\n",
       "      <th>2</th>\n",
       "      <td>1980-03-31</td>\n",
       "      <td>-0.2220</td>\n",
       "      <td>-0.1119</td>\n",
       "      <td>-0.0158</td>\n",
       "      <td>-0.1535</td>\n",
       "      <td>-0.0188</td>\n",
       "      <td>-0.1272</td>\n",
       "      <td>-0.0827</td>\n",
       "      <td>-0.1238</td>\n",
       "      <td>-0.0567</td>\n",
       "      <td>...</td>\n",
       "      <td>-0.0819</td>\n",
       "      <td>-0.1512</td>\n",
       "      <td>-0.1602</td>\n",
       "      <td>-0.0905</td>\n",
       "      <td>-0.1450</td>\n",
       "      <td>-0.0559</td>\n",
       "      <td>-0.0877</td>\n",
       "      <td>-0.2449</td>\n",
       "      <td>-0.1261</td>\n",
       "      <td>-0.1737</td>\n",
       "    </tr>\n",
       "    <tr>\n",
       "      <th>3</th>\n",
       "      <td>1980-04-30</td>\n",
       "      <td>0.0449</td>\n",
       "      <td>0.0767</td>\n",
       "      <td>0.0232</td>\n",
       "      <td>0.0289</td>\n",
       "      <td>0.0830</td>\n",
       "      <td>-0.0529</td>\n",
       "      <td>0.0785</td>\n",
       "      <td>0.0154</td>\n",
       "      <td>0.0305</td>\n",
       "      <td>...</td>\n",
       "      <td>0.0422</td>\n",
       "      <td>-0.0102</td>\n",
       "      <td>0.0268</td>\n",
       "      <td>0.0355</td>\n",
       "      <td>0.0539</td>\n",
       "      <td>0.0736</td>\n",
       "      <td>0.0528</td>\n",
       "      <td>0.0964</td>\n",
       "      <td>0.0458</td>\n",
       "      <td>0.0784</td>\n",
       "    </tr>\n",
       "    <tr>\n",
       "      <th>4</th>\n",
       "      <td>1980-05-31</td>\n",
       "      <td>0.0635</td>\n",
       "      <td>0.0797</td>\n",
       "      <td>0.0458</td>\n",
       "      <td>0.0866</td>\n",
       "      <td>0.0822</td>\n",
       "      <td>0.0510</td>\n",
       "      <td>0.0325</td>\n",
       "      <td>0.0888</td>\n",
       "      <td>0.0560</td>\n",
       "      <td>...</td>\n",
       "      <td>0.0564</td>\n",
       "      <td>0.1065</td>\n",
       "      <td>0.1142</td>\n",
       "      <td>0.0877</td>\n",
       "      <td>0.1104</td>\n",
       "      <td>0.0570</td>\n",
       "      <td>0.0560</td>\n",
       "      <td>0.0889</td>\n",
       "      <td>0.0846</td>\n",
       "      <td>0.0663</td>\n",
       "    </tr>\n",
       "  </tbody>\n",
       "</table>\n",
       "<p>5 rows × 50 columns</p>\n",
       "</div>"
      ],
      "text/plain": [
       "        Date   Agric   Food    Soda    Beer    Smoke   Toys    Fun     Books  \\\n",
       "0 1980-01-31 -0.0073  0.0285  0.0084  0.1009 -0.0143  0.0995  0.0348  0.0323   \n",
       "1 1980-02-29  0.0125 -0.0609 -0.0967 -0.0323 -0.0575 -0.0316 -0.0492 -0.0803   \n",
       "2 1980-03-31 -0.2220 -0.1119 -0.0158 -0.1535 -0.0188 -0.1272 -0.0827 -0.1238   \n",
       "3 1980-04-30  0.0449  0.0767  0.0232  0.0289  0.0830 -0.0529  0.0785  0.0154   \n",
       "4 1980-05-31  0.0635  0.0797  0.0458  0.0866  0.0822  0.0510  0.0325  0.0888   \n",
       "\n",
       "    Hshld  ...   Boxes   Trans   Whlsl   Rtail   Meals   Banks   Insur  \\\n",
       "0  0.0048  ...  0.0158  0.0851  0.0466 -0.0125  0.0430 -0.0284  0.0254   \n",
       "1 -0.0556  ... -0.0083 -0.0543 -0.0345 -0.0641 -0.0653 -0.0824 -0.0960   \n",
       "2 -0.0567  ... -0.0819 -0.1512 -0.1602 -0.0905 -0.1450 -0.0559 -0.0877   \n",
       "3  0.0305  ...  0.0422 -0.0102  0.0268  0.0355  0.0539  0.0736  0.0528   \n",
       "4  0.0560  ...  0.0564  0.1065  0.1142  0.0877  0.1104  0.0570  0.0560   \n",
       "\n",
       "    RlEst   Fin     Other  \n",
       "0  0.0770  0.0306  0.0666  \n",
       "1 -0.0352 -0.0283 -0.0273  \n",
       "2 -0.2449 -0.1261 -0.1737  \n",
       "3  0.0964  0.0458  0.0784  \n",
       "4  0.0889  0.0846  0.0663  \n",
       "\n",
       "[5 rows x 50 columns]"
      ]
     },
     "execution_count": 6,
     "metadata": {},
     "output_type": "execute_result"
    }
   ],
   "source": [
    "portfolios = pd.read_excel(\n",
    "    '../data/factor_pricing_data_monthly.xlsx',\n",
    "    sheet_name='portfolios (excess returns)',\n",
    "    parse_dates=True,\n",
    ")\n",
    "portfolios.head()"
   ]
  },
  {
   "cell_type": "code",
   "execution_count": 7,
   "metadata": {},
   "outputs": [
    {
     "name": "stdout",
     "output_type": "stream",
     "text": [
      "Portfolio Agric results:\n",
      "Alpha: 0.000971, R-squared: 0.3421\n",
      "Portfolio Food  results:\n",
      "Alpha: 0.000125, R-squared: 0.4551\n",
      "Portfolio Soda  results:\n",
      "Alpha: 0.001282, R-squared: 0.3025\n",
      "Portfolio Beer  results:\n",
      "Alpha: 0.000821, R-squared: 0.4148\n",
      "Portfolio Smoke results:\n",
      "Alpha: 0.003426, R-squared: 0.2654\n"
     ]
    }
   ],
   "source": [
    "# Test the AQR 4-Factor Model using the time-series test\n",
    "import statsmodels.api as sm\n",
    "\n",
    "alphas = {}\n",
    "rsquareds = {}\n",
    "\n",
    "# Remove non-portfolio columns (like 'Date') if present\n",
    "portfolio_columns = [col for col in portfolios.columns if col not in ['Date', 'date', 'DATE']]\n",
    "\n",
    "# Align factors and portfolios on the date column\n",
    "# Make sure both DataFrames use the same date as index or merge on 'Date'\n",
    "# Assume 'rets_pd' has the same time frame/order as 'portfolios'\n",
    "for col in portfolio_columns:\n",
    "    y = portfolios[col]\n",
    "    if 'Date' in portfolios.columns:\n",
    "        # If 'Date' is a column, align on 'Date'\n",
    "        merged = pd.merge(\n",
    "            portfolios[['Date', col]],\n",
    "            rets_pd[['Date', 'MKT', 'HML', 'RMW', 'UMD']],\n",
    "            on='Date',\n",
    "            how='inner'\n",
    "        )\n",
    "        y_aligned = merged[col]\n",
    "        X_aligned = merged[['MKT', 'HML', 'RMW', 'UMD']]\n",
    "    else:\n",
    "        # Assume already aligned on index\n",
    "        y_aligned = y\n",
    "        X_aligned = rets_pd[['MKT', 'HML', 'RMW', 'UMD']]\n",
    "        if len(y_aligned) != len(X_aligned):\n",
    "            minlen = min(len(y_aligned), len(X_aligned))\n",
    "            y_aligned = y_aligned.iloc[:minlen]\n",
    "            X_aligned = X_aligned.iloc[:minlen]\n",
    "\n",
    "    X_aligned = sm.add_constant(X_aligned)\n",
    "    model = sm.OLS(y_aligned, X_aligned)\n",
    "    results = model.fit()\n",
    "    alphas[col] = results.params['const']\n",
    "    rsquareds[col] = results.rsquared\n",
    "\n",
    "# Print the results\n",
    "for col in portfolio_columns[:5]:\n",
    "    print(f\"Portfolio {col} results:\")\n",
    "    print(f\"Alpha: {alphas[col]:.6f}, R-squared: {rsquareds[col]:.4f}\")"
   ]
  },
  {
   "cell_type": "markdown",
   "metadata": {},
   "source": [
    "### 2. \n",
    "\n",
    "Calculate the mean-absolute-error of the estimated alphas.\n",
    "\n",
    "$$\\text{MAE} = \\frac{1}{n}\\sum_{i=1}^n|\\tilde{\\alpha}^i|$$\n",
    "\n",
    "* If the pricing model worked, should these alpha estimates be large or small? Why?\n",
    "\n",
    "* Based on your MAE stat, does this seem to support the pricing model or not?"
   ]
  },
  {
   "cell_type": "code",
   "execution_count": 8,
   "metadata": {},
   "outputs": [
    {
     "name": "stdout",
     "output_type": "stream",
     "text": [
      "MAE: 0.002051\n"
     ]
    }
   ],
   "source": [
    "mae = sum(abs(alpha) for alpha in alphas.values()) / len(alphas)\n",
    "print(f\"MAE: {mae:.6f}\")"
   ]
  },
  {
   "cell_type": "markdown",
   "metadata": {},
   "source": [
    "If the model worked, the alphas should be small - almost all of the excess returns should be explained by the factors in the model.\n",
    "\n",
    "The MAE stat seems not to support the pricing model - mean absolute alpha comes in at 20 bps. That's a considerable portion of absolute mean returns across the portfolio."
   ]
  },
  {
   "cell_type": "markdown",
   "metadata": {},
   "source": [
    "### 3. \n",
    "\n",
    "Test the CAPM, FF 3-Factor Model and the the FF 5-Factor Model.\n",
    "   * Report the MAE statistic for each of these models and compare it with the AQR Model MAE.\n",
    "   * Which model fits best?"
   ]
  },
  {
   "cell_type": "code",
   "execution_count": 9,
   "metadata": {},
   "outputs": [],
   "source": [
    "# Remove non-portfolio columns (like 'Date') if present\n",
    "portfolio_columns = [col for col in portfolios.columns if col not in ['Date', 'date', 'DATE']]\n",
    "model_factors = {\n",
    "    'CAPM': ['MKT'],\n",
    "    'FF3': ['MKT', 'SMB', 'HML'],\n",
    "    'FF5': ['MKT', 'SMB', 'HML', 'RMW', 'CMA']\n",
    "}\n",
    "model_alphas = {\n",
    "    'CAPM': {},\n",
    "    'FF3': {},\n",
    "    'FF5': {}\n",
    "}\n",
    "# Align factors and portfolios on the date column\n",
    "# Make sure both DataFrames use the same date as index or merge on 'Date'\n",
    "# Assume 'rets_pd' has the same time frame/order as 'portfolios'\n",
    "for model_name in model_factors.keys():\n",
    "    for col in portfolio_columns:\n",
    "        y = portfolios[col]\n",
    "        merged = pd.merge(\n",
    "            portfolios[['Date', col]],\n",
    "            rets_pd[['Date', *model_factors[model_name]]],\n",
    "            on='Date',\n",
    "            how='inner'\n",
    "        )\n",
    "        y_aligned = merged[col]\n",
    "        X_aligned = merged[model_factors[model_name]]\n",
    "\n",
    "        X_aligned = sm.add_constant(X_aligned)\n",
    "        model = sm.OLS(y_aligned, X_aligned)\n",
    "        results = model.fit()\n",
    "        model_alphas[model_name][col] = results.params['const']"
   ]
  },
  {
   "cell_type": "code",
   "execution_count": 10,
   "metadata": {},
   "outputs": [
    {
     "name": "stdout",
     "output_type": "stream",
     "text": [
      "FF5 MAE: 0.002614\n",
      "FF3 MAE: 0.002030\n",
      "CAPM MAE: 0.001748\n"
     ]
    }
   ],
   "source": [
    "mae = sum(abs(alpha) for alpha in model_alphas['FF5'].values()) / len(model_alphas['FF5'])\n",
    "print(f\"FF5 MAE: {mae:.6f}\")\n",
    "mae = sum(abs(alpha) for alpha in model_alphas['FF3'].values()) / len(model_alphas['FF3'])\n",
    "print(f\"FF3 MAE: {mae:.6f}\")\n",
    "mae = sum(abs(alpha) for alpha in model_alphas['CAPM'].values()) / len(model_alphas['CAPM'])\n",
    "print(f\"CAPM MAE: {mae:.6f}\")"
   ]
  },
  {
   "cell_type": "markdown",
   "metadata": {},
   "source": [
    "We can see CAPM has the lowest MAE of all models. The Fama-French 3-factor model performs very slightly better than AQR, but not significantly so. The Fama-French 5-factor model underperforms.\n",
    "An ode to simplicity."
   ]
  },
  {
   "cell_type": "markdown",
   "metadata": {},
   "source": [
    "### 4. \n",
    "\n",
    "Does any particular factor seem especially important or unimportant for pricing? Do you think Fama and French should use the Momentum Factor?"
   ]
  },
  {
   "cell_type": "markdown",
   "metadata": {},
   "source": [
    "Size doesn't seem that important. The Fama-French models included it and didn't outperform AQR, which removed it. Its tangency weights were low. Its mean returns were negative in the sample.\n",
    "\n",
    "As for momentum, it seems a better factor than size. It has a higher tangency weight in a portfolio of the factors, a positive mean return over the sample, and AQR outperformed the 5-factor model. It does not seem like including it is worth the cost incurred in parsimony - but if we're replacing factors, there's a better argument."
   ]
  },
  {
   "cell_type": "markdown",
   "metadata": {},
   "source": [
    "### 5. \n",
    "\n",
    "This does not matter for pricing, but report the average (across $n$ estimations) of the time-series regression r-squared statistics.\n",
    "   * Do this for each of the three models you tested.\n",
    "   * Do these models lead to high time-series r-squared stats? That is, would these factors be good in a Linear Factor Decomposition of the assets?\n"
   ]
  },
  {
   "cell_type": "code",
   "execution_count": null,
   "metadata": {},
   "outputs": [],
   "source": []
  },
  {
   "cell_type": "markdown",
   "metadata": {},
   "source": [
    "### 6. \n",
    "\n",
    "We tested three models using the time-series tests (focusing on the time-series alphas.) Re-test these models, but this time use the cross-sectional test.\n",
    "\n",
    "* Report the time-series premia of the factors (just their sample averages,) and compare to the cross-sectionally estimated premia of the factors. Do they differ substantially?4\n",
    "* Report the MAE of the cross-sectional regression residuals for each of the four models. How do they compare to the MAE of the time-series alphas?\n",
    "\n",
    "#### Footnote:\n",
    "\n",
    "Recall that we found in `Homework 4` that the market premium went from being strongly positive to strongly negative when estimated in the cross-section."
   ]
  },
  {
   "cell_type": "code",
   "execution_count": null,
   "metadata": {},
   "outputs": [],
   "source": []
  },
  {
   "cell_type": "markdown",
   "metadata": {},
   "source": [
    "***"
   ]
  }
 ],
 "metadata": {
  "kernelspec": {
   "display_name": ".venv",
   "language": "python",
   "name": "python3"
  },
  "language_info": {
   "codemirror_mode": {
    "name": "ipython",
    "version": 3
   },
   "file_extension": ".py",
   "mimetype": "text/x-python",
   "name": "python",
   "nbconvert_exporter": "python",
   "pygments_lexer": "ipython3",
   "version": "3.11.7"
  }
 },
 "nbformat": 4,
 "nbformat_minor": 4
}
