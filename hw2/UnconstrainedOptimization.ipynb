{
  "cells": [
    {
      "cell_type": "markdown",
      "id": "a97c4251",
      "metadata": {},
      "source": [
        "# Exercise - Unconstrained Optimization"
      ]
    },
    {
      "cell_type": "markdown",
      "id": "5a5f8f1b",
      "metadata": {},
      "source": [
        "## Data"
      ]
    },
    {
      "cell_type": "markdown",
      "id": "88e17896",
      "metadata": {},
      "source": [
        "All the analysis below applies to the data set,\n",
        "* `data/spx_weekly_returns.xlsx`\n",
        "* The file has **weekly** returns.\n",
        "* For annualization, use 52 periods per year.\n",
        "\n",
        "Consider only the following 10 stocks..."
      ]
    },
    {
      "cell_type": "code",
      "execution_count": 1,
      "id": "68508973",
      "metadata": {},
      "outputs": [],
      "source": [
        "TICKS =  ['AAPL','NVDA','MSFT','GOOGL','AMZN','META','TSLA','AVGO','BRK/B','LLY']"
      ]
    },
    {
      "cell_type": "markdown",
      "id": "cf43807d",
      "metadata": {},
      "source": [
        "As well as the ETF,"
      ]
    },
    {
      "cell_type": "code",
      "execution_count": 2,
      "id": "f554749d",
      "metadata": {},
      "outputs": [],
      "source": [
        "TICK_ETF = 'SPY'"
      ]
    },
    {
      "cell_type": "markdown",
      "id": "97eb2c95",
      "metadata": {},
      "source": [
        "### Data Processing"
      ]
    },
    {
      "cell_type": "code",
      "execution_count": 3,
      "id": "6f70cf9b",
      "metadata": {},
      "outputs": [],
      "source": [
        "import pandas as pd"
      ]
    },
    {
      "cell_type": "code",
      "execution_count": 4,
      "id": "20c1857b",
      "metadata": {},
      "outputs": [],
      "source": [
        "INFILE = '../data/spx_returns_weekly.xlsx'\n",
        "SHEET_INFO = 's&p500 names'\n",
        "SHEET_RETURNS = 's&p500 rets'\n",
        "SHEET_BENCH = 'benchmark rets'\n",
        "\n",
        "FREQ = 52"
      ]
    },
    {
      "cell_type": "code",
      "execution_count": 5,
      "id": "294e0bbb",
      "metadata": {},
      "outputs": [
        {
          "data": {
            "text/html": [
              "<div>\n",
              "<style scoped>\n",
              "    .dataframe tbody tr th:only-of-type {\n",
              "        vertical-align: middle;\n",
              "    }\n",
              "\n",
              "    .dataframe tbody tr th {\n",
              "        vertical-align: top;\n",
              "    }\n",
              "\n",
              "    .dataframe thead th {\n",
              "        text-align: right;\n",
              "    }\n",
              "</style>\n",
              "<table border=\"1\" class=\"dataframe\">\n",
              "  <thead>\n",
              "    <tr style=\"text-align: right;\">\n",
              "      <th></th>\n",
              "      <th>name</th>\n",
              "      <th>mkt cap</th>\n",
              "    </tr>\n",
              "    <tr>\n",
              "      <th>ticker</th>\n",
              "      <th></th>\n",
              "      <th></th>\n",
              "    </tr>\n",
              "  </thead>\n",
              "  <tbody>\n",
              "    <tr>\n",
              "      <th>AAPL</th>\n",
              "      <td>Apple Inc</td>\n",
              "      <td>3.008822e+12</td>\n",
              "    </tr>\n",
              "    <tr>\n",
              "      <th>NVDA</th>\n",
              "      <td>NVIDIA Corp</td>\n",
              "      <td>3.480172e+12</td>\n",
              "    </tr>\n",
              "    <tr>\n",
              "      <th>MSFT</th>\n",
              "      <td>Microsoft Corp</td>\n",
              "      <td>3.513735e+12</td>\n",
              "    </tr>\n",
              "    <tr>\n",
              "      <th>GOOGL</th>\n",
              "      <td>Alphabet Inc</td>\n",
              "      <td>2.145918e+12</td>\n",
              "    </tr>\n",
              "    <tr>\n",
              "      <th>AMZN</th>\n",
              "      <td>Amazon.com Inc</td>\n",
              "      <td>2.303536e+12</td>\n",
              "    </tr>\n",
              "    <tr>\n",
              "      <th>META</th>\n",
              "      <td>Meta Platforms Inc</td>\n",
              "      <td>1.745094e+12</td>\n",
              "    </tr>\n",
              "    <tr>\n",
              "      <th>TSLA</th>\n",
              "      <td>Tesla Inc</td>\n",
              "      <td>9.939227e+11</td>\n",
              "    </tr>\n",
              "    <tr>\n",
              "      <th>AVGO</th>\n",
              "      <td>Broadcom Inc</td>\n",
              "      <td>1.148592e+12</td>\n",
              "    </tr>\n",
              "    <tr>\n",
              "      <th>BRK/B</th>\n",
              "      <td>Berkshire Hathaway Inc</td>\n",
              "      <td>1.064240e+12</td>\n",
              "    </tr>\n",
              "    <tr>\n",
              "      <th>LLY</th>\n",
              "      <td>Eli Lilly &amp; Co</td>\n",
              "      <td>7.332726e+11</td>\n",
              "    </tr>\n",
              "  </tbody>\n",
              "</table>\n",
              "</div>"
            ],
            "text/plain": [
              "                          name       mkt cap\n",
              "ticker                                      \n",
              "AAPL                 Apple Inc  3.008822e+12\n",
              "NVDA               NVIDIA Corp  3.480172e+12\n",
              "MSFT            Microsoft Corp  3.513735e+12\n",
              "GOOGL             Alphabet Inc  2.145918e+12\n",
              "AMZN            Amazon.com Inc  2.303536e+12\n",
              "META        Meta Platforms Inc  1.745094e+12\n",
              "TSLA                 Tesla Inc  9.939227e+11\n",
              "AVGO              Broadcom Inc  1.148592e+12\n",
              "BRK/B   Berkshire Hathaway Inc  1.064240e+12\n",
              "LLY             Eli Lilly & Co  7.332726e+11"
            ]
          },
          "execution_count": 5,
          "metadata": {},
          "output_type": "execute_result"
        }
      ],
      "source": [
        "info = pd.read_excel(INFILE,sheet_name=SHEET_INFO)\n",
        "info.set_index('ticker',inplace=True)\n",
        "info.loc[TICKS]"
      ]
    },
    {
      "cell_type": "code",
      "execution_count": 6,
      "id": "de28175f",
      "metadata": {},
      "outputs": [],
      "source": [
        "rets = pd.read_excel(INFILE,sheet_name=SHEET_RETURNS)\n",
        "rets.set_index('date',inplace=True)\n",
        "rets = rets[TICKS]"
      ]
    },
    {
      "cell_type": "code",
      "execution_count": 7,
      "id": "ed1c38c5",
      "metadata": {},
      "outputs": [],
      "source": [
        "bench = pd.read_excel(INFILE,sheet_name=SHEET_BENCH)\n",
        "bench.set_index('date',inplace=True)\n",
        "rets[TICK_ETF] = bench[TICK_ETF]"
      ]
    },
    {
      "cell_type": "markdown",
      "id": "98f8af63",
      "metadata": {},
      "source": [
        "***"
      ]
    },
    {
      "cell_type": "markdown",
      "id": "d1614003",
      "metadata": {},
      "source": [
        "# 1. Risk Statistics"
      ]
    },
    {
      "cell_type": "markdown",
      "id": "463982b4",
      "metadata": {},
      "source": [
        "### 1.1."
      ]
    },
    {
      "cell_type": "markdown",
      "id": "92ac5247",
      "metadata": {},
      "source": [
        "Display a table with the following metrics for each of the return series.\n",
        "\n",
        "* mean (annualized)\n",
        "* volatility (annualized)\n",
        "* Sharpe ratio (annualized)\n",
        "* skewness\n",
        "* kurtosis\n",
        "* maximum drawdown\n",
        "\n",
        "#### Note\n",
        "We  have total returns, and Sharpe ratio is technically defined for excess returns. Don't worry about the difference. (Or subtract `SHV` if you prefer.)"
      ]
    },
    {
      "cell_type": "code",
      "execution_count": 8,
      "id": "76a576de",
      "metadata": {},
      "outputs": [
        {
          "data": {
            "text/html": [
              "<div>\n",
              "<style scoped>\n",
              "    .dataframe tbody tr th:only-of-type {\n",
              "        vertical-align: middle;\n",
              "    }\n",
              "\n",
              "    .dataframe tbody tr th {\n",
              "        vertical-align: top;\n",
              "    }\n",
              "\n",
              "    .dataframe thead th {\n",
              "        text-align: right;\n",
              "    }\n",
              "</style>\n",
              "<table border=\"1\" class=\"dataframe\">\n",
              "  <thead>\n",
              "    <tr style=\"text-align: right;\">\n",
              "      <th></th>\n",
              "      <th>mean</th>\n",
              "      <th>vol</th>\n",
              "      <th>sharpe</th>\n",
              "      <th>skewness</th>\n",
              "      <th>kurtosis</th>\n",
              "      <th>MDD</th>\n",
              "    </tr>\n",
              "  </thead>\n",
              "  <tbody>\n",
              "    <tr>\n",
              "      <th>AAPL</th>\n",
              "      <td>0.004591</td>\n",
              "      <td>0.038362</td>\n",
              "      <td>0.053865</td>\n",
              "      <td>-0.218583</td>\n",
              "      <td>1.825875</td>\n",
              "      <td>-0.346408</td>\n",
              "    </tr>\n",
              "    <tr>\n",
              "      <th>NVDA</th>\n",
              "      <td>0.012415</td>\n",
              "      <td>0.064246</td>\n",
              "      <td>0.153951</td>\n",
              "      <td>0.344741</td>\n",
              "      <td>1.389069</td>\n",
              "      <td>-0.659362</td>\n",
              "    </tr>\n",
              "    <tr>\n",
              "      <th>MSFT</th>\n",
              "      <td>0.005027</td>\n",
              "      <td>0.033279</td>\n",
              "      <td>0.075201</td>\n",
              "      <td>0.072148</td>\n",
              "      <td>2.341547</td>\n",
              "      <td>-0.350539</td>\n",
              "    </tr>\n",
              "    <tr>\n",
              "      <th>GOOGL</th>\n",
              "      <td>0.004169</td>\n",
              "      <td>0.038808</td>\n",
              "      <td>0.042386</td>\n",
              "      <td>0.582916</td>\n",
              "      <td>3.720739</td>\n",
              "      <td>-0.418640</td>\n",
              "    </tr>\n",
              "    <tr>\n",
              "      <th>AMZN</th>\n",
              "      <td>0.005643</td>\n",
              "      <td>0.042435</td>\n",
              "      <td>0.073499</td>\n",
              "      <td>0.063289</td>\n",
              "      <td>1.781508</td>\n",
              "      <td>-0.548307</td>\n",
              "    </tr>\n",
              "    <tr>\n",
              "      <th>META</th>\n",
              "      <td>0.005037</td>\n",
              "      <td>0.048722</td>\n",
              "      <td>0.051572</td>\n",
              "      <td>0.052425</td>\n",
              "      <td>4.023529</td>\n",
              "      <td>-0.760252</td>\n",
              "    </tr>\n",
              "    <tr>\n",
              "      <th>TSLA</th>\n",
              "      <td>0.009034</td>\n",
              "      <td>0.081323</td>\n",
              "      <td>0.080044</td>\n",
              "      <td>0.547533</td>\n",
              "      <td>1.594181</td>\n",
              "      <td>-0.722459</td>\n",
              "    </tr>\n",
              "    <tr>\n",
              "      <th>AVGO</th>\n",
              "      <td>0.007593</td>\n",
              "      <td>0.052021</td>\n",
              "      <td>0.097441</td>\n",
              "      <td>0.662112</td>\n",
              "      <td>3.503558</td>\n",
              "      <td>-0.400357</td>\n",
              "    </tr>\n",
              "    <tr>\n",
              "      <th>BRK/B</th>\n",
              "      <td>0.002597</td>\n",
              "      <td>0.026439</td>\n",
              "      <td>0.002736</td>\n",
              "      <td>-0.200855</td>\n",
              "      <td>2.513168</td>\n",
              "      <td>-0.264770</td>\n",
              "    </tr>\n",
              "    <tr>\n",
              "      <th>LLY</th>\n",
              "      <td>0.005414</td>\n",
              "      <td>0.039242</td>\n",
              "      <td>0.073644</td>\n",
              "      <td>0.216020</td>\n",
              "      <td>1.683187</td>\n",
              "      <td>-0.252524</td>\n",
              "    </tr>\n",
              "  </tbody>\n",
              "</table>\n",
              "</div>"
            ],
            "text/plain": [
              "           mean       vol    sharpe  skewness  kurtosis       MDD\n",
              "AAPL   0.004591  0.038362  0.053865 -0.218583  1.825875 -0.346408\n",
              "NVDA   0.012415  0.064246  0.153951  0.344741  1.389069 -0.659362\n",
              "MSFT   0.005027  0.033279  0.075201  0.072148  2.341547 -0.350539\n",
              "GOOGL  0.004169  0.038808  0.042386  0.582916  3.720739 -0.418640\n",
              "AMZN   0.005643  0.042435  0.073499  0.063289  1.781508 -0.548307\n",
              "META   0.005037  0.048722  0.051572  0.052425  4.023529 -0.760252\n",
              "TSLA   0.009034  0.081323  0.080044  0.547533  1.594181 -0.722459\n",
              "AVGO   0.007593  0.052021  0.097441  0.662112  3.503558 -0.400357\n",
              "BRK/B  0.002597  0.026439  0.002736 -0.200855  2.513168 -0.264770\n",
              "LLY    0.005414  0.039242  0.073644  0.216020  1.683187 -0.252524"
            ]
          },
          "execution_count": 8,
          "metadata": {},
          "output_type": "execute_result"
        }
      ],
      "source": [
        "rets.describe()\n",
        "\n",
        "metrics = pd.DataFrame({\n",
        "    'mean': rets.mean(),\n",
        "    'vol': rets.std(),\n",
        "    'sharpe': (rets.mean() - rets[TICK_ETF].mean())/(rets.std()),\n",
        "    'skewness': rets.skew(),\n",
        "    'kurtosis': rets.kurtosis(),\n",
        "})\n",
        "\n",
        "def compute_mdd(series):\n",
        "    cumulative = (1+series).cumprod() # cumulative product\n",
        "    \n",
        "    running_max = cumulative.cummax()\n",
        "    drawdown = (cumulative - running_max) / running_max\n",
        "    return drawdown.min()\n",
        "\n",
        "metrics['MDD'] = compute_mdd(rets)\n",
        "\n",
        "metrics.head(10)"
      ]
    },
    {
      "cell_type": "markdown",
      "id": "36d2edc7",
      "metadata": {},
      "source": [
        "### 1.2."
      ]
    },
    {
      "cell_type": "markdown",
      "id": "f6d20835",
      "metadata": {},
      "source": [
        "As a standalone investment, which is most attractive? And least? Justify your answer."
      ]
    },
    {
      "cell_type": "markdown",
      "id": "e2bc2155",
      "metadata": {},
      "source": [
        "NVDA has the highest Sharpe, 2nd highest vol, and a high drawdown, but that was before structural changes in its market."
      ]
    },
    {
      "cell_type": "markdown",
      "id": "2caffeb4",
      "metadata": {},
      "source": [
        "### 1.3.\n",
        "\n",
        "For each investment, estimate a regression against `SPY`. Report the \n",
        "* alpha (annualized as a mean)\n",
        "* beta\n",
        "* info ratio\n",
        "* r-squared\n",
        "\n",
        "Based on this table, which investment seems most attractive relative to holding `SPY`?"
      ]
    },
    {
      "cell_type": "code",
      "execution_count": null,
      "id": "1fd61753",
      "metadata": {},
      "outputs": [],
      "source": [
        "import numpy as np\n",
        "import pandas as pd\n",
        "\n",
        "spy = bench['SPY']\n",
        "\n",
        "for stock in rets.columns:\n",
        "    hfri_factors = pd.concat([hfri, factors], axis=1)\n",
        "\n",
        "    # Drop rows where either this fund OR SPY has NAs\n",
        "    clean_hfri_factors = hfri_factors.dropna()\n",
        "    # Prepare the independent variables (factors with constant)\n",
        "    X = sm.add_constant(clean_hfri_factors[factors.columns])\n",
        "\n",
        "    # Run OLS regression: fund returns = alpha + beta * SPY returns\n",
        "    model = sm.OLS(clean_hfri_factors[hfri_col], X).fit()\n",
        "    print(f\"\\nRegression Results:\")\n",
        "    print(f\"Alpha/intercept: {model.params['const']:.6f}\")\n",
        "    print(f\"Number of observations: {model.nobs}\")\n",
        "    for factor in factors.columns:\n",
        "        print(f\"{factor} beta: {model.params[factor]:.6f}\")\n",
        "        print(\"-\" * 50)"
      ]
    },
    {
      "cell_type": "markdown",
      "id": "db9c263f",
      "metadata": {},
      "source": [
        "***"
      ]
    },
    {
      "cell_type": "markdown",
      "id": "20993764",
      "metadata": {},
      "source": [
        "# 2. Portfolio Allocation"
      ]
    },
    {
      "cell_type": "markdown",
      "id": "3b9f44d6",
      "metadata": {},
      "source": [
        "### 2.1.\n",
        "\n",
        "Display the correlation matrix of the returns.\n",
        "\n",
        "* Based on this information, which investment do you anticipate will get extra weight in the portfolio, beyond what it would merit for its mean return?\n",
        "\n",
        "* Report the maximally correlated assets and the minimally correlated assets."
      ]
    },
    {
      "cell_type": "code",
      "execution_count": null,
      "id": "246910b3",
      "metadata": {},
      "outputs": [
        {
          "data": {
            "image/png": "[encoded data removed]",
            "text/plain": [
              "<Figure size 1000x800 with 2 Axes>"
            ]
          },
          "metadata": {},
          "output_type": "display_data"
        }
      ],
      "source": [
        "import seaborn as sns\n",
        "import matplotlib.pyplot as plt\n",
        "\n",
        "# Calculate correlation matrix\n",
        "corr_matrix = rets.corr()\n",
        "\n",
        "# Create heatmap\n",
        "plt.figure(figsize=(10, 8))\n",
        "sns.heatmap(corr_matrix, \n",
        "            annot=True,  # Show correlation values\n",
        "            cmap='coolwarm',  # Blue to red color scheme\n",
        "            center=0,  # Center colormap at 0\n",
        "            vmin=-1, vmax=1)  # Set range from -1 to 1\n",
        "plt.title('Correlation Matrix')\n",
        "plt.tight_layout()\n",
        "plt.show()"
      ]
    },
    {
      "cell_type": "markdown",
      "id": "0ce7c3cc",
      "metadata": {},
      "source": [
        "Most correlated assets: MSFT & SPY, BRK/B & SPY\n",
        "\n",
        "Least correlated assets: LLY & AVGO"
      ]
    },
    {
      "cell_type": "markdown",
      "id": "a10c91c6",
      "metadata": {},
      "source": [
        "### 2.2.\n",
        "\n",
        "Calculate the weights of the mean-variance optimized portfolio, also called the tangency portfolio.\n",
        "\n",
        "* Display a table indexed by each investment, with the optimal weights in one column and the Sharpe ratios in another column.\n",
        "\n",
        "* Do the investments with the best Sharpe ratios tend to get the biggest weights?\n",
        "\n",
        "#### Note:\n",
        "To estimate the optimal weights, consider using the provided function below."
      ]
    },
    {
      "cell_type": "code",
      "execution_count": null,
      "id": "b9136a81",
      "metadata": {},
      "outputs": [
        {
          "data": {
            "text/html": [
              "<div>\n",
              "<style scoped>\n",
              "    .dataframe tbody tr th:only-of-type {\n",
              "        vertical-align: middle;\n",
              "    }\n",
              "\n",
              "    .dataframe tbody tr th {\n",
              "        vertical-align: top;\n",
              "    }\n",
              "\n",
              "    .dataframe thead th {\n",
              "        text-align: right;\n",
              "    }\n",
              "</style>\n",
              "<table border=\"1\" class=\"dataframe\">\n",
              "  <thead>\n",
              "    <tr style=\"text-align: right;\">\n",
              "      <th></th>\n",
              "      <th>optimal weights</th>\n",
              "      <th>mean</th>\n",
              "      <th>vol</th>\n",
              "      <th>sharpe</th>\n",
              "      <th>skewness</th>\n",
              "      <th>kurtosis</th>\n",
              "      <th>MDD</th>\n",
              "    </tr>\n",
              "  </thead>\n",
              "  <tbody>\n",
              "    <tr>\n",
              "      <th>NVDA</th>\n",
              "      <td>0.882896</td>\n",
              "      <td>0.012415</td>\n",
              "      <td>0.064246</td>\n",
              "      <td>0.153951</td>\n",
              "      <td>0.344741</td>\n",
              "      <td>1.389069</td>\n",
              "      <td>-0.659362</td>\n",
              "    </tr>\n",
              "    <tr>\n",
              "      <th>AVGO</th>\n",
              "      <td>0.601896</td>\n",
              "      <td>0.007593</td>\n",
              "      <td>0.052021</td>\n",
              "      <td>0.097441</td>\n",
              "      <td>0.662112</td>\n",
              "      <td>3.503558</td>\n",
              "      <td>-0.400357</td>\n",
              "    </tr>\n",
              "    <tr>\n",
              "      <th>TSLA</th>\n",
              "      <td>0.310150</td>\n",
              "      <td>0.009034</td>\n",
              "      <td>0.081323</td>\n",
              "      <td>0.080044</td>\n",
              "      <td>0.547533</td>\n",
              "      <td>1.594181</td>\n",
              "      <td>-0.722459</td>\n",
              "    </tr>\n",
              "    <tr>\n",
              "      <th>MSFT</th>\n",
              "      <td>0.848584</td>\n",
              "      <td>0.005027</td>\n",
              "      <td>0.033279</td>\n",
              "      <td>0.075201</td>\n",
              "      <td>0.072148</td>\n",
              "      <td>2.341547</td>\n",
              "      <td>-0.350539</td>\n",
              "    </tr>\n",
              "    <tr>\n",
              "      <th>LLY</th>\n",
              "      <td>1.112630</td>\n",
              "      <td>0.005414</td>\n",
              "      <td>0.039242</td>\n",
              "      <td>0.073644</td>\n",
              "      <td>0.216020</td>\n",
              "      <td>1.683187</td>\n",
              "      <td>-0.252524</td>\n",
              "    </tr>\n",
              "    <tr>\n",
              "      <th>AMZN</th>\n",
              "      <td>0.426356</td>\n",
              "      <td>0.005643</td>\n",
              "      <td>0.042435</td>\n",
              "      <td>0.073499</td>\n",
              "      <td>0.063289</td>\n",
              "      <td>1.781508</td>\n",
              "      <td>-0.548307</td>\n",
              "    </tr>\n",
              "    <tr>\n",
              "      <th>AAPL</th>\n",
              "      <td>0.409367</td>\n",
              "      <td>0.004591</td>\n",
              "      <td>0.038362</td>\n",
              "      <td>0.053865</td>\n",
              "      <td>-0.218583</td>\n",
              "      <td>1.825875</td>\n",
              "      <td>-0.346408</td>\n",
              "    </tr>\n",
              "    <tr>\n",
              "      <th>META</th>\n",
              "      <td>0.277408</td>\n",
              "      <td>0.005037</td>\n",
              "      <td>0.048722</td>\n",
              "      <td>0.051572</td>\n",
              "      <td>0.052425</td>\n",
              "      <td>4.023529</td>\n",
              "      <td>-0.760252</td>\n",
              "    </tr>\n",
              "    <tr>\n",
              "      <th>GOOGL</th>\n",
              "      <td>0.193126</td>\n",
              "      <td>0.004169</td>\n",
              "      <td>0.038808</td>\n",
              "      <td>0.042386</td>\n",
              "      <td>0.582916</td>\n",
              "      <td>3.720739</td>\n",
              "      <td>-0.418640</td>\n",
              "    </tr>\n",
              "    <tr>\n",
              "      <th>BRK/B</th>\n",
              "      <td>2.580474</td>\n",
              "      <td>0.002597</td>\n",
              "      <td>0.026439</td>\n",
              "      <td>0.002736</td>\n",
              "      <td>-0.200855</td>\n",
              "      <td>2.513168</td>\n",
              "      <td>-0.264770</td>\n",
              "    </tr>\n",
              "    <tr>\n",
              "      <th>SPY</th>\n",
              "      <td>-6.642887</td>\n",
              "      <td>0.002524</td>\n",
              "      <td>0.023696</td>\n",
              "      <td>0.000000</td>\n",
              "      <td>-0.578812</td>\n",
              "      <td>5.996190</td>\n",
              "      <td>-0.318291</td>\n",
              "    </tr>\n",
              "  </tbody>\n",
              "</table>\n",
              "</div>"
            ],
            "text/plain": [
              "       optimal weights      mean       vol    sharpe  skewness  kurtosis  \\\n",
              "NVDA          0.882896  0.012415  0.064246  0.153951  0.344741  1.389069   \n",
              "AVGO          0.601896  0.007593  0.052021  0.097441  0.662112  3.503558   \n",
              "TSLA          0.310150  0.009034  0.081323  0.080044  0.547533  1.594181   \n",
              "MSFT          0.848584  0.005027  0.033279  0.075201  0.072148  2.341547   \n",
              "LLY           1.112630  0.005414  0.039242  0.073644  0.216020  1.683187   \n",
              "AMZN          0.426356  0.005643  0.042435  0.073499  0.063289  1.781508   \n",
              "AAPL          0.409367  0.004591  0.038362  0.053865 -0.218583  1.825875   \n",
              "META          0.277408  0.005037  0.048722  0.051572  0.052425  4.023529   \n",
              "GOOGL         0.193126  0.004169  0.038808  0.042386  0.582916  3.720739   \n",
              "BRK/B         2.580474  0.002597  0.026439  0.002736 -0.200855  2.513168   \n",
              "SPY          -6.642887  0.002524  0.023696  0.000000 -0.578812  5.996190   \n",
              "\n",
              "            MDD  \n",
              "NVDA  -0.659362  \n",
              "AVGO  -0.400357  \n",
              "TSLA  -0.722459  \n",
              "MSFT  -0.350539  \n",
              "LLY   -0.252524  \n",
              "AMZN  -0.548307  \n",
              "AAPL  -0.346408  \n",
              "META  -0.760252  \n",
              "GOOGL -0.418640  \n",
              "BRK/B -0.264770  \n",
              "SPY   -0.318291  "
            ]
          },
          "execution_count": 39,
          "metadata": {},
          "output_type": "execute_result"
        }
      ],
      "source": [
        "def optimized_weights(returns,dropna=True,scale_cov=1):\n",
        "    if dropna:\n",
        "        returns = returns.dropna()\n",
        "\n",
        "    covmat_full = returns.cov()\n",
        "    covmat_diag = np.diag(np.diag(covmat_full))\n",
        "    covmat = scale_cov * covmat_full + (1-scale_cov) * covmat_diag\n",
        "\n",
        "    weights = np.linalg.solve(covmat,returns.mean())\n",
        "    weights = weights / weights.sum()\n",
        "\n",
        "    if returns.mean() @ weights < 0:\n",
        "        weights = -weights\n",
        "\n",
        "    return pd.DataFrame(weights, index=returns.columns, columns=[\"optimal weights\"])\n",
        "\n",
        "optim_w = optimized_weights(rets)\n",
        "w_metrics = optim_w.merge(metrics, how=\"outer\", left_index=True, right_index=True)\n",
        "w_metrics.sort_values(by=\"sharpe\", ascending=False)"
      ]
    },
    {
      "cell_type": "markdown",
      "id": "c25d9c7d",
      "metadata": {},
      "source": [
        "### 2.3.\n",
        "\n",
        "Report the following performance statistics of the portfolio achieved with the optimized weights calculated above.\n",
        "* mean\n",
        "* volatility\n",
        "* Sharpe\n",
        "\n",
        "(Annualize all three statistics.)"
      ]
    },
    {
      "cell_type": "code",
      "execution_count": null,
      "id": "0d46b0eb",
      "metadata": {},
      "outputs": [
        {
          "name": "stdout",
          "output_type": "stream",
          "text": [
            "Mean: 0.02504283913410339\n",
            "Vol: 0.02504283913410339\n",
            "Sharpe: 0.02504283913410339\n"
          ]
        }
      ],
      "source": [
        "mean = w_metrics[\"mean\"].dot(w_metrics[\"optimal weights\"])\n",
        "\n",
        "cov_matrix = w_metrics[\"mean\"].cov\n",
        "vol = w_metrics[\"optimal weights\"] @ cov_matrix @ w_metrics[\"optimal weights\"]\n",
        "\n",
        "sharpe = w_metrics[\"mean\"].dot(w_metrics[\"optimal weights\"])\n",
        "print(f\"Mean: {mean}\\nVol: {vol}\\nSharpe: {sharpe}\")"
      ]
    },
    {
      "cell_type": "markdown",
      "id": "96d3dddf",
      "metadata": {},
      "source": [
        "### 2.4.\n",
        "\n",
        "Try dropping the asset which had the biggest short position from the investment set. Re-run the optimization. What do you think of these new weights compared to the original optimized weights?\n",
        "\n",
        "What is going on?"
      ]
    },
    {
      "cell_type": "markdown",
      "id": "ee708089",
      "metadata": {},
      "source": [
        "****"
      ]
    }
  ],
  "metadata": {
    "hide_input": false,
    "kernelspec": {
      "display_name": ".venv",
      "language": "python",
      "name": "python3"
    },
    "language_info": {
      "codemirror_mode": {
        "name": "ipython",
        "version": 3
      },
      "file_extension": ".py",
      "mimetype": "text/x-python",
      "name": "python",
      "nbconvert_exporter": "python",
      "pygments_lexer": "ipython3",
      "version": "3.11.7"
    }
  },
  "nbformat": 4,
  "nbformat_minor": 5
}
