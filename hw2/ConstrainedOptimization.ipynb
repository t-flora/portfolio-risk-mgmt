{
  "cells": [
    {
      "cell_type": "markdown",
      "id": "f7605588",
      "metadata": {},
      "source": [
        "# Exercises - Constrained Optimization"
      ]
    },
    {
      "cell_type": "markdown",
      "id": "6f6f0297",
      "metadata": {},
      "source": [
        "## Data"
      ]
    },
    {
      "cell_type": "markdown",
      "id": "facc2c32",
      "metadata": {},
      "source": [
        "All the analysis below applies to the data set,\n",
        "* `data/spx_weekly_returns.xlsx`\n",
        "* The file has **weekly** returns.\n",
        "* For annualization, use 52 periods per year.\n",
        "\n",
        "Consider only the following 10 stocks..."
      ]
    },
    {
      "cell_type": "code",
      "execution_count": 1,
      "id": "283e5caa",
      "metadata": {},
      "outputs": [],
      "source": [
        "TICKS =  ['AAPL','NVDA','MSFT','GOOGL','AMZN','META','TSLA','AVGO','BRK/B','LLY']"
      ]
    },
    {
      "cell_type": "markdown",
      "id": "3ae61cf6",
      "metadata": {},
      "source": [
        "As well as the ETF,"
      ]
    },
    {
      "cell_type": "code",
      "execution_count": 2,
      "id": "833c88ce",
      "metadata": {},
      "outputs": [],
      "source": [
        "TICK_ETF = 'SPY'"
      ]
    },
    {
      "cell_type": "markdown",
      "id": "31814e25",
      "metadata": {},
      "source": [
        "### Data Processing"
      ]
    },
    {
      "cell_type": "code",
      "execution_count": 3,
      "id": "a0df2704",
      "metadata": {},
      "outputs": [],
      "source": [
        "import pandas as pd"
      ]
    },
    {
      "cell_type": "code",
      "execution_count": 4,
      "id": "a0483409",
      "metadata": {},
      "outputs": [],
      "source": [
        "INFILE = '../data/spx_returns_weekly.xlsx'\n",
        "SHEET_INFO = 's&p500 names'\n",
        "SHEET_RETURNS = 's&p500 rets'\n",
        "SHEET_BENCH = 'benchmark rets'\n",
        "\n",
        "FREQ = 52"
      ]
    },
    {
      "cell_type": "code",
      "execution_count": 5,
      "id": "7b457ca8",
      "metadata": {},
      "outputs": [
        {
          "data": {
            "text/html": [
              "<div>\n",
              "<style scoped>\n",
              "    .dataframe tbody tr th:only-of-type {\n",
              "        vertical-align: middle;\n",
              "    }\n",
              "\n",
              "    .dataframe tbody tr th {\n",
              "        vertical-align: top;\n",
              "    }\n",
              "\n",
              "    .dataframe thead th {\n",
              "        text-align: right;\n",
              "    }\n",
              "</style>\n",
              "<table border=\"1\" class=\"dataframe\">\n",
              "  <thead>\n",
              "    <tr style=\"text-align: right;\">\n",
              "      <th></th>\n",
              "      <th>name</th>\n",
              "      <th>mkt cap</th>\n",
              "    </tr>\n",
              "    <tr>\n",
              "      <th>ticker</th>\n",
              "      <th></th>\n",
              "      <th></th>\n",
              "    </tr>\n",
              "  </thead>\n",
              "  <tbody>\n",
              "    <tr>\n",
              "      <th>AAPL</th>\n",
              "      <td>Apple Inc</td>\n",
              "      <td>3.008822e+12</td>\n",
              "    </tr>\n",
              "    <tr>\n",
              "      <th>NVDA</th>\n",
              "      <td>NVIDIA Corp</td>\n",
              "      <td>3.480172e+12</td>\n",
              "    </tr>\n",
              "    <tr>\n",
              "      <th>MSFT</th>\n",
              "      <td>Microsoft Corp</td>\n",
              "      <td>3.513735e+12</td>\n",
              "    </tr>\n",
              "    <tr>\n",
              "      <th>GOOGL</th>\n",
              "      <td>Alphabet Inc</td>\n",
              "      <td>2.145918e+12</td>\n",
              "    </tr>\n",
              "    <tr>\n",
              "      <th>AMZN</th>\n",
              "      <td>Amazon.com Inc</td>\n",
              "      <td>2.303536e+12</td>\n",
              "    </tr>\n",
              "    <tr>\n",
              "      <th>META</th>\n",
              "      <td>Meta Platforms Inc</td>\n",
              "      <td>1.745094e+12</td>\n",
              "    </tr>\n",
              "    <tr>\n",
              "      <th>TSLA</th>\n",
              "      <td>Tesla Inc</td>\n",
              "      <td>9.939227e+11</td>\n",
              "    </tr>\n",
              "    <tr>\n",
              "      <th>AVGO</th>\n",
              "      <td>Broadcom Inc</td>\n",
              "      <td>1.148592e+12</td>\n",
              "    </tr>\n",
              "    <tr>\n",
              "      <th>BRK/B</th>\n",
              "      <td>Berkshire Hathaway Inc</td>\n",
              "      <td>1.064240e+12</td>\n",
              "    </tr>\n",
              "    <tr>\n",
              "      <th>LLY</th>\n",
              "      <td>Eli Lilly &amp; Co</td>\n",
              "      <td>7.332726e+11</td>\n",
              "    </tr>\n",
              "  </tbody>\n",
              "</table>\n",
              "</div>"
            ],
            "text/plain": [
              "                          name       mkt cap\n",
              "ticker                                      \n",
              "AAPL                 Apple Inc  3.008822e+12\n",
              "NVDA               NVIDIA Corp  3.480172e+12\n",
              "MSFT            Microsoft Corp  3.513735e+12\n",
              "GOOGL             Alphabet Inc  2.145918e+12\n",
              "AMZN            Amazon.com Inc  2.303536e+12\n",
              "META        Meta Platforms Inc  1.745094e+12\n",
              "TSLA                 Tesla Inc  9.939227e+11\n",
              "AVGO              Broadcom Inc  1.148592e+12\n",
              "BRK/B   Berkshire Hathaway Inc  1.064240e+12\n",
              "LLY             Eli Lilly & Co  7.332726e+11"
            ]
          },
          "execution_count": 5,
          "metadata": {},
          "output_type": "execute_result"
        }
      ],
      "source": [
        "info = pd.read_excel(INFILE,sheet_name=SHEET_INFO)\n",
        "info.set_index('ticker',inplace=True)\n",
        "info.loc[TICKS]"
      ]
    },
    {
      "cell_type": "code",
      "execution_count": 6,
      "id": "4cd97c22",
      "metadata": {},
      "outputs": [],
      "source": [
        "rets = pd.read_excel(INFILE,sheet_name=SHEET_RETURNS)\n",
        "rets.set_index('date',inplace=True)\n",
        "rets = rets[TICKS]"
      ]
    },
    {
      "cell_type": "code",
      "execution_count": 7,
      "id": "8663d152",
      "metadata": {},
      "outputs": [],
      "source": [
        "bench = pd.read_excel(INFILE,sheet_name=SHEET_BENCH)\n",
        "bench.set_index('date',inplace=True)\n",
        "rets[TICK_ETF] = bench[TICK_ETF]"
      ]
    },
    {
      "cell_type": "markdown",
      "id": "83b2f2bf",
      "metadata": {},
      "source": [
        "# 1 Constrained Optimization for Mean-Variance"
      ]
    },
    {
      "cell_type": "markdown",
      "id": "2893587c",
      "metadata": {},
      "source": [
        "Continue working with the data above. Suppose we want to constrain the weights such that \n",
        "* there are no short positions beyond negative `20%`,\n",
        "  $w_i\\ge -.20$ for all $i$\n",
        "* none of the positions may have weight over `35%`,\n",
        "  $w_i \\le .35$ for all $i$.\n",
        "* all the asset weights must sum to 1\n",
        "\n",
        "Furthermore, \n",
        "* The targeted mean return is `20%` per year.\n",
        "* Be careful; the target is an annualized mean.\n",
        "\n",
        "Consider using the code below as a starting point."
      ]
    },
    {
      "cell_type": "markdown",
      "id": "e8b69207-01d4-4612-bd9b-76ef51dda1d2",
      "metadata": {},
      "source": [
        "## 1.1. \n",
        "\n",
        "Report the weights of the constrained portfolio.\n",
        "\n",
        "Report the mean, volatility, and Sharpe ratio of the resulting portfolio."
      ]
    },
    {
      "cell_type": "code",
      "execution_count": null,
      "id": "37d02985",
      "metadata": {},
      "outputs": [],
      "source": []
    },
    {
      "cell_type": "markdown",
      "id": "4df46def-6709-4f2a-9786-c2fa0d8ff076",
      "metadata": {},
      "source": [
        "### 1.2.\n",
        "\n",
        "Compare these weights to the assets' Sharpe ratios and means.\n",
        "\n",
        "Do the most extreme positions also have the most extreme Sharpe ratios and means?\n",
        "\n",
        "Why?"
      ]
    },
    {
      "cell_type": "code",
      "execution_count": null,
      "id": "6c9e06bb",
      "metadata": {},
      "outputs": [],
      "source": []
    },
    {
      "cell_type": "markdown",
      "id": "0e8dcc85-b927-43f4-9045-3745f94a45fe",
      "metadata": {},
      "source": [
        "### 1.3.\n",
        "\n",
        "Compare the bounded portfolio weights to the unbounded portfolio weights (obtained from optimizing without the inequality constraints, keeping the equality constraints.)\n",
        "\n",
        "Report the mean, volatility, and Sharpe ratio of both."
      ]
    },
    {
      "cell_type": "code",
      "execution_count": null,
      "id": "fc172bb5",
      "metadata": {},
      "outputs": [],
      "source": []
    },
    {
      "cell_type": "markdown",
      "id": "33fbbde4-7eca-424e-b201-d09e2ece7d05",
      "metadata": {},
      "source": [
        "***"
      ]
    },
    {
      "cell_type": "markdown",
      "id": "73931c2c",
      "metadata": {},
      "source": [
        "## Code Help"
      ]
    },
    {
      "cell_type": "markdown",
      "id": "ba2df76b",
      "metadata": {},
      "source": [
        "The `minimize` function will be how we optimize."
      ]
    },
    {
      "cell_type": "code",
      "execution_count": 8,
      "id": "c5dd2804",
      "metadata": {},
      "outputs": [],
      "source": [
        "from scipy.optimize import minimize"
      ]
    },
    {
      "cell_type": "markdown",
      "id": "4f652c33",
      "metadata": {},
      "source": [
        "Build the objective functions.\n",
        "\n",
        "Before doing this, you will need to define \n",
        "* `TARGET_MEAN`\n",
        "* `FREQ`\n",
        "* `cov`\n",
        "* `mean`"
      ]
    },
    {
      "cell_type": "code",
      "execution_count": 9,
      "id": "13485185",
      "metadata": {},
      "outputs": [],
      "source": [
        "# def objective(w):        \n",
        "#     return (w.T @ cov @ w)\n",
        "\n",
        "# def fun_constraint_capital(w):\n",
        "#     return np.sum(w) - 1\n",
        "\n",
        "# def fun_constraint_mean(w):\n",
        "#     return (mean @ w) - TARGET_MEAN"
      ]
    },
    {
      "cell_type": "markdown",
      "id": "334db9b7",
      "metadata": {},
      "source": [
        "Build the constraints\n",
        "* sum of weights add to one\n",
        "* weighted average of means is the target mean"
      ]
    },
    {
      "cell_type": "code",
      "execution_count": 10,
      "id": "e55760ed",
      "metadata": {},
      "outputs": [],
      "source": [
        "# constraint_capital = {'type': 'eq', 'fun': fun_constraint_capital}\n",
        "# constraint_mean = {'type': 'eq', 'fun': fun_constraint_mean}\n",
        "\n",
        "# constraints = ([constraint_capital, constraint_mean])"
      ]
    },
    {
      "cell_type": "markdown",
      "id": "7d9be730",
      "metadata": {},
      "source": [
        "Build the upper and lower bounds on each asset.\n",
        "\n",
        "You will need to use the `minimize` function along with these contraints, bounds, and an initial guess."
      ]
    },
    {
      "cell_type": "markdown",
      "id": "30b4004f",
      "metadata": {},
      "source": [
        "***"
      ]
    }
  ],
  "metadata": {
    "hide_input": false,
    "kernelspec": {
      "display_name": ".venv",
      "language": "python",
      "name": "python3"
    },
    "language_info": {
      "codemirror_mode": {
        "name": "ipython",
        "version": 3
      },
      "file_extension": ".py",
      "mimetype": "text/x-python",
      "name": "python",
      "nbconvert_exporter": "python",
      "pygments_lexer": "ipython3",
      "version": "3.11.7"
    }
  },
  "nbformat": 4,
  "nbformat_minor": 5
}
