{
 "cells": [
  {
   "cell_type": "markdown",
   "id": "e3eee68c",
   "metadata": {},
   "source": [
    "# ProShares Replication\n",
    "\n",
    "## HBS Case\n",
    "\n",
    "### *ProShares Hedge Replication ETF*"
   ]
  },
  {
   "cell_type": "markdown",
   "id": "ecd7e292",
   "metadata": {},
   "source": [
    "***"
   ]
  },
  {
   "cell_type": "markdown",
   "id": "fbbf79a1",
   "metadata": {},
   "source": [
    "# Section 2:  Analyzing the Data\n",
    "\n",
    "Use the data found on Canvas, in <b>'proshares analysis data.xlsx'</b>. \n",
    "\n",
    "It has monthly data on financial indexes and ETFs from `Aug 2011` through `May 2025`."
   ]
  },
  {
   "cell_type": "markdown",
   "id": "bd1ca31e",
   "metadata": {},
   "source": [
    "-----"
   ]
  },
  {
   "cell_type": "markdown",
   "id": "22b7389c",
   "metadata": {},
   "source": [
    "## Question 2.1 \n",
    "\n",
    "For the series in the \"hedge fund series\" tab, report the following summary statistics:\n",
    "\n",
    "(a) mean\n",
    "\n",
    "(b) volatility\n",
    "\n",
    "(c) Sharpe ratio\n",
    "\n",
    "Annualize these statistics."
   ]
  },
  {
   "cell_type": "code",
   "execution_count": 5,
   "id": "d27fa170",
   "metadata": {},
   "outputs": [],
   "source": [
    "# Question 2.1 (a) Code Here"
   ]
  },
  {
   "cell_type": "code",
   "execution_count": null,
   "id": "762b3d90",
   "metadata": {},
   "outputs": [],
   "source": [
    "# Question 2.1 (b) Code Here"
   ]
  },
  {
   "cell_type": "code",
   "execution_count": null,
   "id": "9c881cc4",
   "metadata": {},
   "outputs": [],
   "source": [
    "# Question 2.1 (c) Code Here"
   ]
  },
  {
   "cell_type": "markdown",
   "id": "46ae10ba",
   "metadata": {},
   "source": [
    "-----"
   ]
  },
  {
   "cell_type": "markdown",
   "id": "ec8d7c08",
   "metadata": {},
   "source": [
    "## Question 2.2\n",
    "\n",
    "For the series in the \"hedge fund series\" tab, calculate the following statistics related to tail-risk:\n",
    "\n",
    "(a) Skewness\n",
    "\n",
    "(b) Excess Kurtosis (in excess of 3)\n",
    "\n",
    "(c) VaR (.05) - the fifth quantile of historic returns\n",
    "\n",
    "(d) CVaR (.05) - the mean of the returns at or below the fifth quantile\n",
    "\n",
    "(e) Maximum drawdown - include the dates of the max/min/recovery within the max drawdown period.\n",
    "\n",
    "There is no need to annualize any of these statistics."
   ]
  },
  {
   "cell_type": "code",
   "execution_count": 6,
   "id": "be897b32",
   "metadata": {},
   "outputs": [],
   "source": [
    "# Question 2.2 (a) Code Here"
   ]
  },
  {
   "cell_type": "code",
   "execution_count": null,
   "id": "c3126a9e",
   "metadata": {},
   "outputs": [],
   "source": [
    "# Question 2.2 (b) Code Here"
   ]
  },
  {
   "cell_type": "code",
   "execution_count": null,
   "id": "9f08a7c7",
   "metadata": {},
   "outputs": [],
   "source": [
    "# Question 2.2 (c) Code Here"
   ]
  },
  {
   "cell_type": "code",
   "execution_count": null,
   "id": "6e2d78f5",
   "metadata": {},
   "outputs": [],
   "source": [
    "# Question 2.2 (d) Code Here"
   ]
  },
  {
   "cell_type": "code",
   "execution_count": 7,
   "id": "93094285",
   "metadata": {},
   "outputs": [],
   "source": [
    "# Question 2.2 (e) Code Here"
   ]
  },
  {
   "cell_type": "markdown",
   "id": "0164c58c",
   "metadata": {},
   "source": [
    "-----"
   ]
  },
  {
   "cell_type": "markdown",
   "id": "9deb5072",
   "metadata": {},
   "source": [
    "## Question 2.3\n",
    "\n",
    "For the series in the \"hedge fund series\" tab, run a regression of each against SPY (found in the \"merrill factors\" tab.) Include an intercept. Report the following regression-based statistics:\n",
    "\n",
    "(a) Market Beta\n",
    "\n",
    "(b) Treynor Ratio\n",
    "\n",
    "(c) Information ratio\n",
    "\n",
    "Annualize these three statistics as appropriate."
   ]
  },
  {
   "cell_type": "code",
   "execution_count": 8,
   "id": "30e899ad",
   "metadata": {},
   "outputs": [],
   "source": [
    "# Question 2.3 (a) Code Here"
   ]
  },
  {
   "cell_type": "code",
   "execution_count": null,
   "id": "45950b73",
   "metadata": {},
   "outputs": [],
   "source": [
    "# Question 2.3 (b) Code Here"
   ]
  },
  {
   "cell_type": "code",
   "execution_count": 9,
   "id": "06e960e4",
   "metadata": {},
   "outputs": [],
   "source": [
    "# Question 2.3 (c) Code Here"
   ]
  },
  {
   "cell_type": "markdown",
   "id": "ee11f4d9",
   "metadata": {},
   "source": [
    "-----"
   ]
  },
  {
   "cell_type": "markdown",
   "id": "9dd139ed",
   "metadata": {},
   "source": [
    "## Question 2.4\n",
    "\n",
    "Discuss the previous statistics, and what they tell us about...\n",
    "\n",
    "(a) the differences between SPY and the hedge-fund series?\n",
    "\n",
    "(b) which performs better between HDG and QAI.\n",
    "\n",
    "(c) whether HDG and the ML series capture the most notable properties of HFRI."
   ]
  },
  {
   "cell_type": "markdown",
   "id": "9c4a7106",
   "metadata": {},
   "source": [
    "### Question 2.4 (a) Answer"
   ]
  },
  {
   "cell_type": "markdown",
   "id": "388d02c3",
   "metadata": {},
   "source": [
    "Write Answer Here"
   ]
  },
  {
   "cell_type": "markdown",
   "id": "e14e4208",
   "metadata": {},
   "source": [
    "### Question 2.4 (b) Answer"
   ]
  },
  {
   "cell_type": "markdown",
   "id": "537b8a7e",
   "metadata": {},
   "source": [
    "Write Answer Here"
   ]
  },
  {
   "cell_type": "markdown",
   "id": "f8af46c8",
   "metadata": {},
   "source": [
    "### Question 2.4 (c) Answer"
   ]
  },
  {
   "cell_type": "markdown",
   "id": "17e6114a",
   "metadata": {},
   "source": [
    "Write Answer Here"
   ]
  },
  {
   "cell_type": "markdown",
   "id": "99fe14e2",
   "metadata": {},
   "source": [
    "-----"
   ]
  },
  {
   "cell_type": "markdown",
   "id": "efc199e0",
   "metadata": {},
   "source": [
    "## Question 2.5 \n",
    "\n",
    "Report the correlation matrix for these assets.\n",
    "\n",
    "(a) Show the correlations as a heat map.\n",
    "\n",
    "(b) Which series have the highest and lowest correlations?"
   ]
  },
  {
   "cell_type": "code",
   "execution_count": 10,
   "id": "c03a3819",
   "metadata": {},
   "outputs": [],
   "source": [
    "# Question 2.5 (a) Code Here"
   ]
  },
  {
   "cell_type": "code",
   "execution_count": 11,
   "id": "5a9cc518",
   "metadata": {},
   "outputs": [],
   "source": [
    "# Qustion 2.5 (b) Code Here"
   ]
  },
  {
   "cell_type": "markdown",
   "id": "e7d4fc18",
   "metadata": {},
   "source": [
    "-----"
   ]
  },
  {
   "cell_type": "markdown",
   "id": "f79554a0",
   "metadata": {},
   "source": [
    "## Question 2.6  \n",
    "\n",
    "Replicate HFRI with the six factors listed on the \"merrill factors\" tab. Include a constant, and run the unrestricted regression,  \n",
    "\n",
    "$$\n",
    "\\begin{aligned}\n",
    "r_t^{\\mathrm{HFRI}} &= \\alpha^{\\mathrm{merr}} + x_t^{\\mathrm{merr}}\\beta^{\\mathrm{merr}} + \\epsilon_t^{\\mathrm{merr}} \\\\[6pt]\n",
    "\\hat r_t^{\\mathrm{HFRI}} &= \\hat\\alpha^{\\mathrm{merr}} + x_t^{\\mathrm{merr}}\\hat\\beta^{\\mathrm{merr}}\n",
    "\\end{aligned}\n",
    "$$  \n",
    "\n",
    "Note that the second equation is just our notation for the fitted replication.  \n",
    "\n",
    "(a) Report the intercept and betas.  \n",
    "\n",
    "(b) Are the betas realistic position sizes, or do they require huge long-short positions?  \n",
    "\n",
    "(c) Report the R-squared.  \n",
    "\n",
    "(d) Report the volatility of $\\epsilon^{\\mathrm{merr}}$, the tracking error.  \n"
   ]
  },
  {
   "cell_type": "code",
   "execution_count": 12,
   "id": "ef161966",
   "metadata": {},
   "outputs": [],
   "source": [
    "# Question 2.6 (a) Code Here"
   ]
  },
  {
   "cell_type": "code",
   "execution_count": null,
   "id": "b5af2477",
   "metadata": {},
   "outputs": [],
   "source": [
    "# Question 2.6 (b) Code Here"
   ]
  },
  {
   "cell_type": "code",
   "execution_count": null,
   "id": "756b80a2",
   "metadata": {},
   "outputs": [],
   "source": [
    "# Question 2.6 (c) Code Here"
   ]
  },
  {
   "cell_type": "code",
   "execution_count": null,
   "id": "a07c4808",
   "metadata": {},
   "outputs": [],
   "source": [
    "# Question 2.6 (d) Code Here"
   ]
  },
  {
   "cell_type": "markdown",
   "id": "226542f4",
   "metadata": {},
   "source": [
    "-----"
   ]
  },
  {
   "cell_type": "markdown",
   "id": "9760f909",
   "metadata": {},
   "source": [
    "## Question 2.7  \n",
    "\n",
    "Let's examine the replication out-of-sample (OOS).  \n",
    "\n",
    "Starting with $t = 61$ month of the sample, do the following:  \n",
    "\n",
    "(a) Use the previous 60 months of data to estimate the regression equation.  \n",
    "This gives time-t estimates of the regression parameters, $\\tilde{\\alpha}^{\\mathrm{merr}}_{t}$ and $\\tilde{\\beta}^{\\mathrm{merr}}_{t}$.  \n",
    "\n",
    "(b) Use the estimated regression parameters, along with the time-t regressor values, $x^{\\mathrm{merr}}_{t}$, calculate the time-t replication value that is, with respect to the regression estimate, built \"out-of-sample\" (OOS).  \n",
    "\n",
    "$$\n",
    "\\hat r_t^{\\mathrm{HFRI}} \\equiv \\tilde{\\alpha}^{\\mathrm{merr}} + (x_t^{\\mathrm{merr}})^\\prime \\tilde{\\beta}^{\\mathrm{merr}}\n",
    "$$  \n",
    "\n",
    "(c) Step forward to $t = 62$, and now use $t = 2$ through $t = 61$ for the estimation. Re-run the steps above, and continue this process throughout the data series. Thus, we are running a rolling, 60-month regression for each point-in-time.  \n",
    "\n",
    "(d) How well does the out-of-sample replication perform with respect to the target?  \n"
   ]
  },
  {
   "cell_type": "code",
   "execution_count": 14,
   "id": "75a69385",
   "metadata": {},
   "outputs": [],
   "source": [
    "# Question 2.7 (a) Code Here"
   ]
  },
  {
   "cell_type": "code",
   "execution_count": null,
   "id": "58a97487",
   "metadata": {},
   "outputs": [],
   "source": [
    "# Question 2.7 (b) Code Here"
   ]
  },
  {
   "cell_type": "code",
   "execution_count": null,
   "id": "d2bba5b6",
   "metadata": {},
   "outputs": [],
   "source": [
    "# Question 2.7 (c) Code Here"
   ]
  },
  {
   "cell_type": "code",
   "execution_count": null,
   "id": "9912451e",
   "metadata": {},
   "outputs": [],
   "source": [
    "# Question 2.7 (d) Code Here"
   ]
  }
 ],
 "metadata": {
  "hide_input": false,
  "kernelspec": {
   "display_name": "Python 3",
   "language": "python",
   "name": "python3"
  },
  "language_info": {
   "codemirror_mode": {
    "name": "ipython",
    "version": 3
   },
   "file_extension": ".py",
   "mimetype": "text/x-python",
   "name": "python",
   "nbconvert_exporter": "python",
   "pygments_lexer": "ipython3",
   "version": "3.13.7"
  }
 },
 "nbformat": 4,
 "nbformat_minor": 5
}
