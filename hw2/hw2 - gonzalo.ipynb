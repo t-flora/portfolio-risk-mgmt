{
 "cells": [
  {
   "cell_type": "markdown",
   "id": "e3eee68c",
   "metadata": {},
   "source": [
    "# ProShares Replication\n",
    "\n",
    "## HBS Case\n",
    "\n",
    "### *ProShares Hedge Replication ETF*"
   ]
  },
  {
   "cell_type": "markdown",
   "id": "ecd7e292",
   "metadata": {},
   "source": [
    "***"
   ]
  },
  {
   "cell_type": "markdown",
   "id": "fbbf79a1",
   "metadata": {},
   "source": [
    "# Section 2:  Analyzing the Data\n",
    "\n",
    "Use the data found on Canvas, in <b>'proshares analysis data.xlsx'</b>. \n",
    "\n",
    "It has monthly data on financial indexes and ETFs from `Aug 2011` through `May 2025`."
   ]
  },
  {
   "cell_type": "markdown",
   "id": "bd1ca31e",
   "metadata": {},
   "source": [
    "-----"
   ]
  },
  {
   "cell_type": "markdown",
   "id": "22b7389c",
   "metadata": {},
   "source": [
    "## Question 2.1 \n",
    "\n",
    "For the series in the \"hedge fund series\" tab, report the following summary statistics:\n",
    "\n",
    "(a) mean\n",
    "\n",
    "(b) volatility\n",
    "\n",
    "(c) Sharpe ratio\n",
    "\n",
    "Annualize these statistics."
   ]
  },
  {
   "cell_type": "code",
   "execution_count": 2,
   "id": "d27fa170",
   "metadata": {},
   "outputs": [
    {
     "name": "stdout",
     "output_type": "stream",
     "text": [
      "                Mean (annualised)  Volatility (annualised)  Sharpe ratio\n",
      "HFRIFWI Index              0.0513                   0.0588        0.8722\n",
      "MLEIFCTR Index             0.0385                   0.0552        0.6976\n",
      "MLEIFCTX Index             0.0365                   0.0551        0.6629\n",
      "HDG US Equity              0.0269                   0.0574        0.4684\n",
      "QAI US Equity              0.0288                   0.0498        0.5783\n"
     ]
    }
   ],
   "source": [
    "# Question 2.1 (a) Code Here\n",
    "import pandas as pd\n",
    "import numpy as np\n",
    "\n",
    "FILE_PATH = \"../data/proshares_analysis_data.xlsx\"\n",
    "\n",
    "frequency=12\n",
    "\n",
    "# Load the Excel sheet\n",
    "df = pd.read_excel(FILE_PATH, sheet_name=\"hedge_fund_series\", index_col=0)\n",
    "\n",
    "#drop empty rows\n",
    "df = df.dropna(how=\"all\", axis=0).dropna(how=\"all\", axis=1)\n",
    "\n",
    "#computing stats\n",
    "mean_monthly    =   df.mean(numeric_only=True)\n",
    "vol_monthly     =   df.std(numeric_only=True)\n",
    "\n",
    "#annualizing\n",
    "mean_annual     =   mean_monthly*frequency\n",
    "vol_annual      =   vol_monthly*(np.sqrt(frequency))\n",
    "Sharpe_annual   =   mean_monthly/vol_monthly*(np.sqrt(frequency))\n",
    "\n",
    "#new dataframe\n",
    "results = pd.DataFrame({\n",
    "    \"Mean (annualised)\":        mean_annual,\n",
    "    \"Volatility (annualised)\":  vol_annual,\n",
    "    \"Sharpe ratio\":             Sharpe_annual\n",
    "}).round(4)\n",
    "print(results)\n"
   ]
  },
  {
   "cell_type": "code",
   "execution_count": 3,
   "id": "762b3d90",
   "metadata": {},
   "outputs": [],
   "source": [
    "# Question 2.1 (b) Code Here"
   ]
  },
  {
   "cell_type": "code",
   "execution_count": 4,
   "id": "9c881cc4",
   "metadata": {},
   "outputs": [],
   "source": [
    "# Question 2.1 (c) Code Here"
   ]
  },
  {
   "cell_type": "markdown",
   "id": "46ae10ba",
   "metadata": {},
   "source": [
    "-----"
   ]
  },
  {
   "cell_type": "markdown",
   "id": "ec8d7c08",
   "metadata": {},
   "source": [
    "## Question 2.2\n",
    "\n",
    "For the series in the \"hedge fund series\" tab, calculate the following statistics related to tail-risk:\n",
    "\n",
    "(a) Skewness\n",
    "\n",
    "(b) Excess Kurtosis (in excess of 3)\n",
    "\n",
    "(c) VaR (.05) - the fifth quantile of historic returns\n",
    "\n",
    "(d) CVaR (.05) - the mean of the returns at or below the fifth quantile\n",
    "\n",
    "(e) Maximum drawdown - include the dates of the max/min/recovery within the max drawdown period.\n",
    "\n",
    "There is no need to annualize any of these statistics."
   ]
  },
  {
   "cell_type": "code",
   "execution_count": 5,
   "id": "be897b32",
   "metadata": {},
   "outputs": [],
   "source": [
    "# Question 2.2 (a) Code Here\n",
    "skewness                    =   df.skew(numeric_only=True)\n",
    "kurtosis                    =   df.kurtosis(numeric_only=True)-3\n",
    "value_at_risk               =   df.quantile(q=0.2, numeric_only=True)\n",
    "conditional_value_at_risk   =   df.apply(lambda s: s[s <= s.quantile(q=0.2)].mean(), axis=0)"
   ]
  },
  {
   "cell_type": "code",
   "execution_count": 6,
   "id": "c3126a9e",
   "metadata": {},
   "outputs": [],
   "source": [
    "# Question 2.2 (b) Code Here\n",
    "#drawdown\n",
    "acumulated_returns = (1 + df).cumprod()\n",
    "current_peak = acumulated_returns.cummax()\n",
    "drawdown = acumulated_returns / current_peak - 1.0      # same shape as df\n",
    "\n",
    "rows = {}\n",
    "for col in df.columns:\n",
    "    dd = drawdown[col]\n",
    "    w  = acumulated_returns[col]\n",
    "    rp = current_peak[col]\n",
    "\n",
    "    if dd.isna().all():\n",
    "        rows[col] = [pd.NaT, pd.NaT, pd.NaT, np.nan]\n",
    "        continue\n",
    "\n",
    "    trough_date = dd.idxmin()                     # date of max drawdown (most negative)\n",
    "    peak_val    = rp.loc[trough_date]             # level of the prior peak\n",
    "    peak_date   = rp.loc[:trough_date].idxmax()   # first time that peak was set\n",
    "\n",
    "    # first date on/after trough when wealth >= prior peak (may be never)\n",
    "    rec_mask = w.loc[trough_date:].ge(peak_val)\n",
    "    recovery_date = rec_mask.idxmax() if rec_mask.any() else pd.NaT\n",
    "\n",
    "    rows[col] = [peak_date, trough_date, recovery_date, dd.min()]\n",
    "\n",
    "summary = pd.DataFrame.from_dict(\n",
    "    rows, orient=\"index\",\n",
    "    columns=[\"peak_date\", \"trough_date\", \"recovery_date\", \"max_drawdown\"]\n",
    ")\n"
   ]
  },
  {
   "cell_type": "code",
   "execution_count": 7,
   "id": "9f08a7c7",
   "metadata": {},
   "outputs": [
    {
     "name": "stdout",
     "output_type": "stream",
     "text": [
      "                Skewness  Kurtosis     VaR    CVaR\n",
      "HFRIFWI Index    -0.9483    2.6574 -0.0061 -0.0188\n",
      "MLEIFCTR Index   -0.2900   -1.3691 -0.0061 -0.0198\n",
      "MLEIFCTX Index   -0.2735   -1.4102 -0.0062 -0.0200\n",
      "HDG US Equity    -0.2749   -1.2235 -0.0084 -0.0215\n",
      "QAI US Equity    -0.4335   -1.5508 -0.0082 -0.0176\n",
      "                peak_date trough_date recovery_date  max_drawdown\n",
      "HFRIFWI Index  2019-12-31  2020-03-31    2020-08-31     -0.115473\n",
      "MLEIFCTR Index 2021-06-30  2022-09-30    2024-02-29     -0.124302\n",
      "MLEIFCTX Index 2021-06-30  2022-09-30    2024-02-29     -0.124388\n",
      "HDG US Equity  2021-06-30  2022-09-30    2024-07-31     -0.140720\n",
      "QAI US Equity  2021-06-30  2022-09-30    2024-02-29     -0.137716\n"
     ]
    }
   ],
   "source": [
    "# Question 2.2 (c) Code Here\n",
    "results = pd.DataFrame({\n",
    "    \"Skewness\":        skewness,\n",
    "    \"Kurtosis\":        kurtosis,\n",
    "    \"VaR\":             value_at_risk, \n",
    "    \"CVaR\":            conditional_value_at_risk\n",
    "}).round(4)\n",
    "print(results)\n",
    "print(summary)"
   ]
  },
  {
   "cell_type": "code",
   "execution_count": 8,
   "id": "6e2d78f5",
   "metadata": {},
   "outputs": [],
   "source": [
    "# Question 2.2 (d) Code Here"
   ]
  },
  {
   "cell_type": "code",
   "execution_count": 9,
   "id": "93094285",
   "metadata": {},
   "outputs": [],
   "source": [
    "# Question 2.2 (e) Code Here"
   ]
  },
  {
   "cell_type": "markdown",
   "id": "0164c58c",
   "metadata": {},
   "source": [
    "-----"
   ]
  },
  {
   "cell_type": "markdown",
   "id": "9deb5072",
   "metadata": {},
   "source": [
    "## Question 2.3\n",
    "\n",
    "For the series in the \"hedge fund series\" tab, run a regression of each against SPY (found in the \"merrill factors\" tab.) Include an intercept. Report the following regression-based statistics:\n",
    "\n",
    "(a) Market Beta\n",
    "\n",
    "(b) Treynor Ratio\n",
    "\n",
    "(c) Information ratio\n",
    "\n",
    "Annualize these three statistics as appropriate."
   ]
  },
  {
   "cell_type": "code",
   "execution_count": 24,
   "id": "30e899ad",
   "metadata": {},
   "outputs": [
    {
     "name": "stdout",
     "output_type": "stream",
     "text": [
      "                   alpha      beta        r2  Treynor ratio  Information ratio\n",
      "asset                                                                         \n",
      "HDG US Equity  -0.001989  0.350602  0.767456       0.076669          -1.213227\n",
      "HFRIFWI Index   0.000144  0.346312  0.716217       0.148072          -0.927074\n",
      "MLEIFCTR Index -0.000920  0.342487  0.790416       0.112514          -1.087986\n",
      "MLEIFCTX Index -0.001075  0.341483  0.789721       0.106963          -1.107047\n",
      "QAI US Equity  -0.001235  0.301413  0.752559       0.095587          -1.123406\n"
     ]
    }
   ],
   "source": [
    "# Question 2.3 (a) Code Here\n",
    "import statsmodels.api as sm\n",
    "#I assume risk free is 0\n",
    "#rf=0\n",
    "\n",
    "#target\n",
    "target_col  = 'SPY US Equity'\n",
    "\n",
    "# Load the Excel sheet\n",
    "factor = pd.read_excel(FILE_PATH, sheet_name=\"merrill_factors\", index_col=0)\n",
    "factor = factor.dropna(how=\"all\", axis=0).dropna(how=\"all\", axis=1)\n",
    "data=df.join(factor[[target_col]], how='inner')\n",
    "\n",
    "#computing betas\n",
    "results=[]\n",
    "for columns in df.columns:\n",
    "    y=df[columns]\n",
    "    x=sm.add_constant(data[target_col])\n",
    "    model=sm.OLS(y, x, missing='drop').fit()\n",
    "\n",
    "    excess_return=y.mean()\n",
    "    unexplained_return=(y-data[target_col])\n",
    "    \n",
    "    treynor_ratio=excess_return/model.params[target_col]\n",
    "    information_ratio=unexplained_return.mean()/unexplained_return.std()\n",
    "    results.append({\n",
    "        \"asset\" :   columns, \n",
    "        \"alpha\" :   model.params['const'], \n",
    "        \"beta\"  :   model.params[target_col],\n",
    "        \"r2\"    :   model.rsquared,\n",
    "        \"Treynor ratio\": treynor_ratio*frequency,\n",
    "        \"Information ratio\": information_ratio*np.sqrt(frequency)\n",
    "    })\n",
    "\n",
    "summary = pd.DataFrame(results).set_index(\"asset\").sort_index()\n",
    "print(summary)\n"
   ]
  },
  {
   "cell_type": "code",
   "execution_count": 11,
   "id": "45950b73",
   "metadata": {},
   "outputs": [],
   "source": [
    "# Question 2.3 (b) Code Here"
   ]
  },
  {
   "cell_type": "code",
   "execution_count": 12,
   "id": "06e960e4",
   "metadata": {},
   "outputs": [],
   "source": [
    "# Question 2.3 (c) Code Here"
   ]
  },
  {
   "cell_type": "markdown",
   "id": "ee11f4d9",
   "metadata": {},
   "source": [
    "-----"
   ]
  },
  {
   "cell_type": "markdown",
   "id": "9dd139ed",
   "metadata": {},
   "source": [
    "## Question 2.4\n",
    "\n",
    "Discuss the previous statistics, and what they tell us about...\n",
    "\n",
    "(a) the differences between SPY and the hedge-fund series?\n",
    "\n",
    "(b) which performs better between HDG and QAI.\n",
    "\n",
    "(c) whether HDG and the ML series capture the most notable properties of HFRI."
   ]
  },
  {
   "cell_type": "markdown",
   "id": "9c4a7106",
   "metadata": {},
   "source": [
    "### Question 2.4 (a) Answer"
   ]
  },
  {
   "cell_type": "markdown",
   "id": "388d02c3",
   "metadata": {},
   "source": [
    "The hedge-fund series provide much lower market exposure. The beta related to all of them is between 0.30 and 0.35. Also, The R-squared indicates that not all of their movements are explained by the market.\n",
    "\n",
    "Also, all of the funds have underperformed the SPY as a bechmark over the sample given that all of the alphas are negative with the expection of HRFI. In that sense, the inforation ratio confirms this as they are also negative for each one of the funds. This indicates negative returns per unit of risk. "
   ]
  },
  {
   "cell_type": "markdown",
   "id": "e14e4208",
   "metadata": {},
   "source": [
    "### Question 2.4 (b) Answer"
   ]
  },
  {
   "cell_type": "markdown",
   "id": "537b8a7e",
   "metadata": {},
   "source": [
    "QAI seems to have a better performance than HDG. It has higher Treynor and information ratio, whihc indicated better returns per unit of risk. In addition, it has a lower beta which indicates less exposure to systematic risk."
   ]
  },
  {
   "cell_type": "markdown",
   "id": "f8af46c8",
   "metadata": {},
   "source": [
    "### Question 2.4 (c) Answer"
   ]
  },
  {
   "cell_type": "markdown",
   "id": "17e6114a",
   "metadata": {},
   "source": [
    "They do not replicate HRFI most notable properties. On one hand, they provide similar market exposure as the betas are very similar. On the other hand, they lag HFRI in performance metrics as the Treynor and informaiton ratios. Therefore, they do not provide the same characteristics as HFRI"
   ]
  },
  {
   "cell_type": "markdown",
   "id": "99fe14e2",
   "metadata": {},
   "source": [
    "-----"
   ]
  },
  {
   "cell_type": "markdown",
   "id": "efc199e0",
   "metadata": {},
   "source": [
    "## Question 2.5 \n",
    "\n",
    "Report the correlation matrix for these assets.\n",
    "\n",
    "(a) Show the correlations as a heat map.\n",
    "\n",
    "(b) Which series have the highest and lowest correlations?"
   ]
  },
  {
   "cell_type": "code",
   "execution_count": null,
   "id": "c03a3819",
   "metadata": {},
   "outputs": [
    {
     "name": "stdout",
     "output_type": "stream",
     "text": [
      "\n",
      "Greatest Positive Correlation: MLEIFCTR Index & MLEIFCTX Index (1.000)\n",
      "Greatest Negative Correlation:  HFRIFWI Index & QAI US Equity (0.858)\n",
      "Least Correlated Pair: HFRIFWI Index & QAI US Equity (0.858)\n"
     ]
    },
    {
     "data": {
      "image/png": "[encoded data removed]",
      "text/plain": [
       "<Figure size 1000x800 with 2 Axes>"
      ]
     },
     "metadata": {},
     "output_type": "display_data"
    }
   ],
   "source": [
    "# Question 2.5 (a) Code Here\n",
    "import matplotlib.pyplot as plt\n",
    "import seaborn as sns\n",
    "\n",
    "#from HW1\n",
    "# Correlation matrix of monthly excess returns\n",
    "corr_matrix = df.corr()\n",
    "\n",
    "# Round for readability\n",
    "corr_matrix_rounded = corr_matrix.round(3)\n",
    "\n",
    "# Find highest and lowest correlation\n",
    "# Stack the matrix into pairs, dropping self-correlations\n",
    "corr_pairs = corr_matrix.stack().reset_index()\n",
    "corr_pairs.columns = [\"Asset1\", \"Asset2\", \"Correlation\"]\n",
    "\n",
    "# Keep only unique pairs\n",
    "corr_pairs = corr_pairs[corr_pairs[\"Asset1\"] < corr_pairs[\"Asset2\"]]\n",
    "\n",
    "# Identify max and min correlation pairs\n",
    "max_corr = corr_pairs.loc[corr_pairs[\"Correlation\"].idxmax()]\n",
    "min_corr = corr_pairs.loc[corr_pairs[\"Correlation\"].idxmin()]\n",
    "\n",
    "# display\n",
    "print(f\"\\nGreatest Positive Correlation: {max_corr['Asset1']} & {max_corr['Asset2']} ({max_corr['Correlation']:.3f})\")\n",
    "print(f\"Greatest Negative Correlation:  {min_corr['Asset1']} & {min_corr['Asset2']} ({min_corr['Correlation']:.3f})\")\n",
    "\n",
    "# Find pair with correlation closest to zero\n",
    "min_abs_corr = corr_pairs.iloc[(corr_pairs['Correlation'].abs()).argmin()]\n",
    "print(f\"Least Correlated Pair: {min_abs_corr['Asset1']} & {min_abs_corr['Asset2']} ({min_abs_corr['Correlation']:.3f})\")\n",
    "\n",
    "# Heatmap\n",
    "fig, ax = plt.subplots(figsize=(10, 8))\n",
    "sns.heatmap(\n",
    "    corr_matrix,\n",
    "    annot=True, fmt=\".3f\",\n",
    "    cmap=\"coolwarm\", center=0.9, vmin=0.8, vmax=1,\n",
    "    square=True, linewidths=0.5,\n",
    "    cbar_kws={\"shrink\": 0.8},\n",
    "    ax=ax\n",
    ")\n",
    "ax.set_title(\"Correlation Matrix of Excess Returns\", fontsize=14)\n",
    "plt.tight_layout()\n",
    "plt.show()\n"
   ]
  },
  {
   "cell_type": "code",
   "execution_count": 14,
   "id": "5a9cc518",
   "metadata": {},
   "outputs": [],
   "source": [
    "# Qustion 2.5 (b) Code Here"
   ]
  },
  {
   "cell_type": "markdown",
   "id": "e7d4fc18",
   "metadata": {},
   "source": [
    "-----"
   ]
  },
  {
   "cell_type": "markdown",
   "id": "f79554a0",
   "metadata": {},
   "source": [
    "## Question 2.6  \n",
    "\n",
    "Replicate HFRI with the six factors listed on the \"merrill factors\" tab. Include a constant, and run the unrestricted regression,  \n",
    "\n",
    "$$\n",
    "\\begin{aligned}\n",
    "r_t^{\\mathrm{HFRI}} &= \\alpha^{\\mathrm{merr}} + x_t^{\\mathrm{merr}}\\beta^{\\mathrm{merr}} + \\epsilon_t^{\\mathrm{merr}} \\\\[6pt]\n",
    "\\hat r_t^{\\mathrm{HFRI}} &= \\hat\\alpha^{\\mathrm{merr}} + x_t^{\\mathrm{merr}}\\hat\\beta^{\\mathrm{merr}}\n",
    "\\end{aligned}\n",
    "$$  \n",
    "\n",
    "Note that the second equation is just our notation for the fitted replication.  \n",
    "\n",
    "(a) Report the intercept and betas.  \n",
    "\n",
    "(b) Are the betas realistic position sizes, or do they require huge long-short positions?  \n",
    "\n",
    "(c) Report the R-squared.  \n",
    "\n",
    "(d) Report the volatility of $\\epsilon^{\\mathrm{merr}}$, the tracking error.  \n"
   ]
  },
  {
   "cell_type": "code",
   "execution_count": 15,
   "id": "ef161966",
   "metadata": {},
   "outputs": [
    {
     "name": "stdout",
     "output_type": "stream",
     "text": [
      "(a) Intercept and Betas\n",
      "                   beta\n",
      "USGG3M Index   0.324931\n",
      "SPY US Equity  0.043503\n",
      "IWM US Equity  0.145824\n",
      "EUO US Equity  0.029614\n",
      "EFA US Equity  0.073994\n",
      "EEM US Equity  0.085564\n",
      "(Intercept)    0.001149\n",
      "\n",
      "(b) Position Size Checks\n",
      "gross_exposure    0.703430\n",
      "max_abs_beta      0.324931\n",
      "dtype: float64\n",
      "\n",
      "(c) R-squared\n",
      "R^2 = 0.8427\n",
      "\n",
      "(d) Tracking Error (Residual Volatility)\n",
      "Monthly TE  = 0.006732\n",
      "Annual  TE  = 0.023320\n",
      "\n",
      "Summary\n",
      "                  alpha        R2  TE_monthly  TE_annual  gross_exposure  \\\n",
      "HFRIFWI Index  0.001149  0.842694    0.006732    0.02332         0.70343   \n",
      "\n",
      "               max_abs_beta  \n",
      "HFRIFWI Index      0.324931  \n"
     ]
    }
   ],
   "source": [
    "# Question 2.6 (a) Code Here\n",
    "target_col  = \"HFRIFWI Index\"\n",
    "factor_cols = [\"USGG3M Index\",\"SPY US Equity\",\"IWM US Equity\",\n",
    "               \"EUO US Equity\",\"EFA US Equity\",\"EEM US Equity\"]\n",
    "\n",
    "# Align data\n",
    "replication_df = factor[factor_cols].join(df[[target_col]], how=\"inner\")\n",
    "\n",
    "# OLS with intercept\n",
    "y = replication_df[target_col]\n",
    "X = sm.add_constant(replication_df[factor_cols])\n",
    "model = sm.OLS(y, X, missing=\"drop\").fit()\n",
    "\n",
    "# (a) Intercept and betas\n",
    "alpha = model.params[\"const\"]\n",
    "betas = model.params.drop(\"const\").rename(\"beta\")\n",
    "\n",
    "betas_table = betas.to_frame()\n",
    "betas_table.loc[\"(Intercept)\",\"beta\"] = alpha\n",
    "\n",
    "# (b)\n",
    "gross_exposure = betas.abs().sum() \n",
    "max_abs_beta   = betas.abs().max()\n",
    "realism_flags  = pd.Series({\n",
    "    \"gross_exposure\": gross_exposure,\n",
    "    \"max_abs_beta\":   max_abs_beta\n",
    "})\n",
    "\n",
    "# (c) R-squared\n",
    "r2 = model.rsquared\n",
    "\n",
    "# (d) Tracking error (volatility of residuals)\n",
    "resid = model.resid.dropna()\n",
    "te_monthly = resid.std(ddof=1)\n",
    "te_annual  = np.sqrt(12) * te_monthly\n",
    "\n",
    "# Fitted replication series\n",
    "replicated = model.fittedvalues.rename(\"hfri_replication\")\n",
    "\n",
    "# outputs\n",
    "print(\"(a) Intercept and Betas\")\n",
    "print(betas_table)\n",
    "\n",
    "print(\"\\n(b) Position Size Checks\")\n",
    "print(realism_flags)\n",
    "\n",
    "print(\"\\n(c) R-squared\")\n",
    "print(f\"R^2 = {r2:.4f}\")\n",
    "\n",
    "print(\"\\n(d) Tracking Error (Residual Volatility)\")\n",
    "print(f\"Monthly TE  = {te_monthly:.6f}\")\n",
    "print(f\"Annual  TE  = {te_annual:.6f}\")\n",
    "\n",
    "# summary\n",
    "summary = pd.DataFrame({\n",
    "    \"alpha\": [alpha],\n",
    "    \"R2\": [r2],\n",
    "    \"TE_monthly\": [te_monthly],\n",
    "    \"TE_annual\": [te_annual],\n",
    "    \"gross_exposure\": [gross_exposure],\n",
    "    \"max_abs_beta\": [max_abs_beta]\n",
    "}, index=[target_col])\n",
    "print(\"\\nSummary\")\n",
    "print(summary)\n",
    "\n",
    "#out = pd.concat([replication_df[[target_col]], replicated], axis=1)"
   ]
  },
  {
   "cell_type": "code",
   "execution_count": 16,
   "id": "b5af2477",
   "metadata": {},
   "outputs": [],
   "source": [
    "# Question 2.6 (b) Code Here"
   ]
  },
  {
   "cell_type": "code",
   "execution_count": 17,
   "id": "756b80a2",
   "metadata": {},
   "outputs": [],
   "source": [
    "# Question 2.6 (c) Code Here"
   ]
  },
  {
   "cell_type": "code",
   "execution_count": 18,
   "id": "a07c4808",
   "metadata": {},
   "outputs": [],
   "source": [
    "# Question 2.6 (d) Code Here"
   ]
  },
  {
   "cell_type": "markdown",
   "id": "226542f4",
   "metadata": {},
   "source": [
    "-----"
   ]
  },
  {
   "cell_type": "markdown",
   "id": "9760f909",
   "metadata": {},
   "source": [
    "## Question 2.7  \n",
    "\n",
    "Let's examine the replication out-of-sample (OOS).  \n",
    "\n",
    "Starting with $t = 61$ month of the sample, do the following:  \n",
    "\n",
    "(a) Use the previous 60 months of data to estimate the regression equation.  \n",
    "This gives time-t estimates of the regression parameters, $\\tilde{\\alpha}^{\\mathrm{merr}}_{t}$ and $\\tilde{\\beta}^{\\mathrm{merr}}_{t}$.  \n",
    "\n",
    "(b) Use the estimated regression parameters, along with the time-t regressor values, $x^{\\mathrm{merr}}_{t}$, calculate the time-t replication value that is, with respect to the regression estimate, built \"out-of-sample\" (OOS).  \n",
    "\n",
    "$$\n",
    "\\hat r_t^{\\mathrm{HFRI}} \\equiv \\tilde{\\alpha}^{\\mathrm{merr}} + (x_t^{\\mathrm{merr}})^\\prime \\tilde{\\beta}^{\\mathrm{merr}}\n",
    "$$  \n",
    "\n",
    "(c) Step forward to $t = 62$, and now use $t = 2$ through $t = 61$ for the estimation. Re-run the steps above, and continue this process throughout the data series. Thus, we are running a rolling, 60-month regression for each point-in-time.  \n",
    "\n",
    "(d) How well does the out-of-sample replication perform with respect to the target?  \n"
   ]
  },
  {
   "cell_type": "code",
   "execution_count": 19,
   "id": "75a69385",
   "metadata": {},
   "outputs": [
    {
     "name": "stdout",
     "output_type": "stream",
     "text": [
      "            y_true    y_pred  oos_error  alpha_roll\n",
      "2025-05-31  0.0223  0.018062   0.004238    0.005986\n",
      "2025-06-30  0.0233  0.021267   0.002033    0.005902\n",
      "2025-07-31  0.0097  0.006974   0.002726    0.005835\n",
      "2025-08-31  0.0221  0.020107   0.001993    0.005197\n",
      "2025-09-30     NaN  0.015602        NaN    0.004995\n"
     ]
    },
    {
     "data": {
      "image/png": "[encoded data removed]",
      "text/plain": [
       "<Figure size 640x480 with 1 Axes>"
      ]
     },
     "metadata": {},
     "output_type": "display_data"
    }
   ],
   "source": [
    "# Question 2.7 (a) Code Here\n",
    "import matplotlib.pyplot as plt\n",
    "import warnings\n",
    "warnings.filterwarnings(\"ignore\", category=FutureWarning)\n",
    "\n",
    "target_col  = \"HFRIFWI Index\"\n",
    "factor_cols = [\"USGG3M Index\",\"SPY US Equity\",\"IWM US Equity\",\n",
    "               \"EUO US Equity\",\"EFA US Equity\",\"EEM US Equity\"]\n",
    "window=60\n",
    "# Align data\n",
    "panel = factor[factor_cols].join(df[[target_col]], how=\"inner\")\n",
    "\n",
    "predictions, errors, alphas, betas_rows= [], [], [], []\n",
    "\n",
    "cols_needed=[target_col]+factor_cols\n",
    "\n",
    "for i in range(window, len(panel)):\n",
    "    train=panel.iloc[i-window:i]\n",
    "    train=train.dropna(subset=cols_needed)\n",
    "\n",
    "    if len(train)<window:\n",
    "        continue\n",
    "\n",
    "    #model\n",
    "    y = train[target_col]\n",
    "    X = sm.add_constant(train[factor_cols])\n",
    "    model = sm.OLS(y, X).fit()\n",
    "\n",
    "    # Next point to predict\n",
    "    x_next = panel[factor_cols].iloc[i:i+1]\n",
    "\n",
    "    x_next = sm.add_constant(x_next, has_constant='add')\n",
    "    y_hat = float(model.predict(x_next))\n",
    "\n",
    "    idx = panel.index[i]\n",
    "    y_true = float(panel[target_col].iloc[i])\n",
    "\n",
    "    #store information\n",
    "    predictions.append((idx, y_hat))\n",
    "    errors.append((idx, y_true - y_hat))\n",
    "    alphas.append((idx, model.params[\"const\"]))\n",
    "\n",
    "df_pred     = pd.Series(dict(predictions), name=\"y_pred\")\n",
    "df_error    = pd.Series(dict(errors),  name=\"oos_error\")\n",
    "df_alpha    = pd.Series(dict(alphas), name=\"alpha_roll\")\n",
    "df_betas    = pd.DataFrame(betas_rows)\n",
    "\n",
    "# y_true aligned to prediction dates\n",
    "y_true = panel[target_col].reindex(df_pred.index).rename(\"y_true\")\n",
    "\n",
    "# Combine them\n",
    "final_results = pd.concat(\n",
    "    [\n",
    "        y_true.to_frame(),\n",
    "        df_pred.to_frame(),\n",
    "        df_error.to_frame(),\n",
    "        df_alpha.to_frame(),\n",
    "        df_betas,\n",
    "    ],\n",
    "    axis=1\n",
    ")\n",
    "\n",
    "#showing results and graphing\n",
    "print(final_results.tail())\n",
    "\n",
    "#plt.plot(final_results.index, final_results['y_true'], label='Actual', marker='o')\n",
    "#plt.plot(final_results.index, final_results['y_pred'], label='Estimation', marker='p')\n",
    "plt.plot(final_results.index, final_results['oos_error'], label='error', marker='o')\n",
    "# Adding labels and title\n",
    "plt.xlabel('date')\n",
    "plt.ylabel('Values')\n",
    "plt.title('Actual vs Estimation')\n",
    "plt.legend()\n",
    "\n",
    "# Display the plot\n",
    "plt.show()"
   ]
  },
  {
   "cell_type": "markdown",
   "id": "cb005bd6",
   "metadata": {},
   "source": [
    "The estimation does well before 2020, with the size of errors being relative small. \n",
    "However, the size of errors increases over time and the predictions seem to lose power. \n",
    "In that sense, there seems to be heterocedasticty as the variance of the erros increases as well\n",
    "So, the predicitions become questionable. "
   ]
  },
  {
   "cell_type": "code",
   "execution_count": 20,
   "id": "58a97487",
   "metadata": {},
   "outputs": [],
   "source": [
    "# Question 2.7 (b) Code Here"
   ]
  },
  {
   "cell_type": "code",
   "execution_count": 21,
   "id": "d2bba5b6",
   "metadata": {},
   "outputs": [],
   "source": [
    "# Question 2.7 (c) Code Here"
   ]
  },
  {
   "cell_type": "code",
   "execution_count": 22,
   "id": "9912451e",
   "metadata": {},
   "outputs": [],
   "source": [
    "# Question 2.7 (d) Code Here"
   ]
  }
 ],
 "metadata": {
  "hide_input": false,
  "kernelspec": {
   "display_name": "base",
   "language": "python",
   "name": "python3"
  },
  "language_info": {
   "codemirror_mode": {
    "name": "ipython",
    "version": 3
   },
   "file_extension": ".py",
   "mimetype": "text/x-python",
   "name": "python",
   "nbconvert_exporter": "python",
   "pygments_lexer": "ipython3",
   "version": "3.13.5"
  }
 },
 "nbformat": 4,
 "nbformat_minor": 5
}
