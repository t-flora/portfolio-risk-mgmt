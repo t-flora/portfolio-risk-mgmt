{
 "cells": [
  {
   "cell_type": "markdown",
   "id": "a97c4251",
   "metadata": {},
   "source": [
    "# Harvard's Endowment\n",
    "\n",
    "## HBS Case\n",
    "### *The Harvard Management Company and Inflation-Indexed Bonds*"
   ]
  },
  {
   "cell_type": "markdown",
   "id": "d1614003",
   "metadata": {},
   "source": [
    "\n",
    "# Section 2: Mean-Variance Optimization (Background Information)\n",
    "\n",
    "\n",
    "## Data\n",
    "You will need the file in the github repo, `data/multi_asset_etf_data.xlsx`.\n",
    "- The time-series data gives monthly returns for the 11 asset classes and a short-term Treasury-bill fund return, (\"SHV\",) which we consider as the risk-free rate.\n",
    "- The data is provided in total returns, (in which case you should ignore the SHV column,) as well as excess returns, (where SHV has been subtracted from the other columns.)\n",
    "- These are nominal returns-they are not adjusted for inflation, and in our calculations we are not making any adjustment for inflation.\n",
    "- The exhibit data that comes via Harvard with the case is unnecessary for our analysis.\n",
    "\n",
    "\n",
    "## Model\n",
    "We are going to analyze the problem in terms of **excess** returns.\n",
    "- Thus, you will focus on the `Excess Returns` section of the lecture notes, especially the formulas on slide 50.\n",
    "- Be sure to use the`excess returns` tab of the data.\n",
    "\n",
    "\n",
    "## Format\n",
    "In the questions below, **annualize the statistics** you report.\n",
    "- Annualize the mean of monthly returns with a scaling of 12.\n",
    "- Annualize the volatility of monthly returns with a scaling of $\\sqrt{12}$\n",
    "- The Sharpe Ratio is the mean return divided by the volatility of returns. Accordingly, we can annualize the Sharpe Ratio with a scaling of $\\sqrt{12}$\n",
    "- Note that we are not scaling the raw timeseries data, just the statistics computed from it (mean, vol, Sharpe).\n",
    "\n",
    "\n",
    "## Data File\n",
    "* The case does not give time-series data, so this data has been compiled outside of the case, and it intends to represent the main asset classes under consideration via various ETFs. For details on the specific securities/indexes, check the “Info” tab of the data.\n",
    "\n",
    "\n",
    "## Risk-free rate\n",
    "* In the lecture-note we considered a constant risk-free rate. It is okay that our risk-free rate changes over time, but the assumption is that investors know it’s value one-period ahead of time. Thus, at any given point in time, it is a risk-free rate for the next period. (This is often discussed as the \"bank account\" or \"money market account\" in other settings."
   ]
  },
  {
   "cell_type": "markdown",
   "id": "d79e3770",
   "metadata": {},
   "source": [
    "---"
   ]
  },
  {
   "cell_type": "markdown",
   "id": "14cf80f5",
   "metadata": {},
   "source": [
    "# Section 2: Mean-Variance Optimization (Questions & Solutions)"
   ]
  },
  {
   "cell_type": "markdown",
   "id": "939a1ed5",
   "metadata": {},
   "source": [
    "---"
   ]
  },
  {
   "cell_type": "markdown",
   "id": "769f49be",
   "metadata": {},
   "source": [
    "## Question 2.1 - Summary Statistics\n",
    "Be sure to annualize all three statss (mean, vol, Sharpe).\n",
    "* mean is scaled by `12`\n",
    "* vol is scaled by `sqrt(12)`\n",
    "* Sharpe is scaled by `sqrt(12)`\n",
    "\n",
    "(a) Calculate and display the mean and volatility of each asset’s excess return. (Recall we use volatility to refer to standard deviation.)\n",
    "\n",
    "(b) Which assets have the best and worst Sharpe ratios? Recall that the Sharpe Ratio is simply the ratio of the mean-to-volatility of excess returns:\n",
    "$$\\text{sharpe ratio of investment }i = \\frac{\\mu_i}{\\sigma_i}$$"
   ]
  },
  {
   "cell_type": "markdown",
   "id": "7c762af4",
   "metadata": {},
   "source": [
    "## Question 2.1 (a) Answer"
   ]
  },
  {
   "cell_type": "code",
   "execution_count": 224,
   "id": "4657b1f2",
   "metadata": {},
   "outputs": [
    {
     "data": {
      "text/html": [
       "<div>\n",
       "<style scoped>\n",
       "    .dataframe tbody tr th:only-of-type {\n",
       "        vertical-align: middle;\n",
       "    }\n",
       "\n",
       "    .dataframe tbody tr th {\n",
       "        vertical-align: top;\n",
       "    }\n",
       "\n",
       "    .dataframe thead th {\n",
       "        text-align: right;\n",
       "    }\n",
       "</style>\n",
       "<table border=\"1\" class=\"dataframe\">\n",
       "  <thead>\n",
       "    <tr style=\"text-align: right;\">\n",
       "      <th></th>\n",
       "      <th>Mean (annualised)</th>\n",
       "      <th>Volatility (annualised)</th>\n",
       "    </tr>\n",
       "  </thead>\n",
       "  <tbody>\n",
       "    <tr>\n",
       "      <th>SPY</th>\n",
       "      <td>0.1281</td>\n",
       "      <td>0.1428</td>\n",
       "    </tr>\n",
       "    <tr>\n",
       "      <th>PSP</th>\n",
       "      <td>0.0926</td>\n",
       "      <td>0.2134</td>\n",
       "    </tr>\n",
       "    <tr>\n",
       "      <th>IYR</th>\n",
       "      <td>0.0749</td>\n",
       "      <td>0.1687</td>\n",
       "    </tr>\n",
       "    <tr>\n",
       "      <th>EFA</th>\n",
       "      <td>0.0618</td>\n",
       "      <td>0.1509</td>\n",
       "    </tr>\n",
       "    <tr>\n",
       "      <th>HYG</th>\n",
       "      <td>0.0414</td>\n",
       "      <td>0.0759</td>\n",
       "    </tr>\n",
       "    <tr>\n",
       "      <th>EEM</th>\n",
       "      <td>0.0293</td>\n",
       "      <td>0.1762</td>\n",
       "    </tr>\n",
       "    <tr>\n",
       "      <th>TIP</th>\n",
       "      <td>0.0205</td>\n",
       "      <td>0.0511</td>\n",
       "    </tr>\n",
       "    <tr>\n",
       "      <th>QAI</th>\n",
       "      <td>0.0193</td>\n",
       "      <td>0.0491</td>\n",
       "    </tr>\n",
       "    <tr>\n",
       "      <th>IEF</th>\n",
       "      <td>0.0164</td>\n",
       "      <td>0.0634</td>\n",
       "    </tr>\n",
       "    <tr>\n",
       "      <th>DBC</th>\n",
       "      <td>-0.0053</td>\n",
       "      <td>0.1666</td>\n",
       "    </tr>\n",
       "    <tr>\n",
       "      <th>BWX</th>\n",
       "      <td>-0.0077</td>\n",
       "      <td>0.0828</td>\n",
       "    </tr>\n",
       "  </tbody>\n",
       "</table>\n",
       "</div>"
      ],
      "text/plain": [
       "     Mean (annualised)  Volatility (annualised)\n",
       "SPY             0.1281                   0.1428\n",
       "PSP             0.0926                   0.2134\n",
       "IYR             0.0749                   0.1687\n",
       "EFA             0.0618                   0.1509\n",
       "HYG             0.0414                   0.0759\n",
       "EEM             0.0293                   0.1762\n",
       "TIP             0.0205                   0.0511\n",
       "QAI             0.0193                   0.0491\n",
       "IEF             0.0164                   0.0634\n",
       "DBC            -0.0053                   0.1666\n",
       "BWX            -0.0077                   0.0828"
      ]
     },
     "execution_count": 80,
     "metadata": {},
     "output_type": "execute_result"
    }
   ],
   "source": [
    "# Question 2.1 (a) Code Here\n",
    "\n",
    "import pandas as pd\n",
    "import numpy as np\n",
    "\n",
    "file_path = \"../data/multi_asset_etf_data.xlsx\"\n",
    "\n",
    "# Load the Excel sheet\n",
    "df = pd.read_excel(file_path, sheet_name=\"excess returns\", index_col=0)\n",
    "\n",
    "# Drop empty rows/columns\n",
    "df = df.dropna(how=\"all\", axis=0).dropna(how=\"all\", axis=1)\n",
    "\n",
    "# Compute monthly stats\n",
    "mean_monthly = df.mean(numeric_only=True)\n",
    "vol_monthly  = df.std(numeric_only=True)\n",
    "\n",
    "# Annualise\n",
    "mean_annual = mean_monthly * 12\n",
    "vol_annual  = vol_monthly * np.sqrt(12)\n",
    "\n",
    "# Create results DataFrame\n",
    "results = pd.DataFrame({\n",
    "    \"Mean (annualised)\": mean_annual,\n",
    "    \"Volatility (annualised)\": vol_annual\n",
    "}).round(4)\n",
    "\n",
    "# Sort by mean return (highest to lowest)\n",
    "results_sorted = results.sort_values(\"Mean (annualised)\", ascending=False)\n",
    "\n",
    "results_sorted\n",
    "\n"
   ]
  },
  {
   "cell_type": "markdown",
   "id": "502dfbe3",
   "metadata": {},
   "source": [
    "## Question 2.1 (b) Answer"
   ]
  },
  {
   "cell_type": "code",
   "execution_count": 225,
   "id": "0d359402",
   "metadata": {},
   "outputs": [
    {
     "data": {
      "application/vnd.microsoft.datawrangler.viewer.v0+json": {
       "columns": [
        {
         "name": "index",
         "rawType": "object",
         "type": "string"
        },
        {
         "name": "Mean (annualised)",
         "rawType": "float64",
         "type": "float"
        },
        {
         "name": "Volatility (annualised)",
         "rawType": "float64",
         "type": "float"
        },
        {
         "name": "Sharpe Ratio (annualised)",
         "rawType": "float64",
         "type": "float"
        }
       ],
       "ref": "7f040ee7-9d0e-4627-9613-9e6834040cdd",
       "rows": [
        [
         "SPY",
         "0.1281",
         "0.1428",
         "0.8971"
        ],
        [
         "HYG",
         "0.0414",
         "0.0759",
         "0.5449"
        ],
        [
         "IYR",
         "0.0749",
         "0.1687",
         "0.4441"
        ],
        [
         "PSP",
         "0.0926",
         "0.2134",
         "0.4338"
        ],
        [
         "EFA",
         "0.0618",
         "0.1509",
         "0.4094"
        ],
        [
         "TIP",
         "0.0205",
         "0.0511",
         "0.4011"
        ],
        [
         "QAI",
         "0.0193",
         "0.0491",
         "0.3938"
        ],
        [
         "IEF",
         "0.0164",
         "0.0634",
         "0.2586"
        ],
        [
         "EEM",
         "0.0293",
         "0.1762",
         "0.1665"
        ],
        [
         "DBC",
         "-0.0053",
         "0.1666",
         "-0.0318"
        ],
        [
         "BWX",
         "-0.0077",
         "0.0828",
         "-0.0932"
        ]
       ],
       "shape": {
        "columns": 3,
        "rows": 11
       }
      },
      "text/html": [
       "<div>\n",
       "<style scoped>\n",
       "    .dataframe tbody tr th:only-of-type {\n",
       "        vertical-align: middle;\n",
       "    }\n",
       "\n",
       "    .dataframe tbody tr th {\n",
       "        vertical-align: top;\n",
       "    }\n",
       "\n",
       "    .dataframe thead th {\n",
       "        text-align: right;\n",
       "    }\n",
       "</style>\n",
       "<table border=\"1\" class=\"dataframe\">\n",
       "  <thead>\n",
       "    <tr style=\"text-align: right;\">\n",
       "      <th></th>\n",
       "      <th>Mean (annualised)</th>\n",
       "      <th>Volatility (annualised)</th>\n",
       "      <th>Sharpe Ratio (annualised)</th>\n",
       "    </tr>\n",
       "  </thead>\n",
       "  <tbody>\n",
       "    <tr>\n",
       "      <th>SPY</th>\n",
       "      <td>0.1281</td>\n",
       "      <td>0.1428</td>\n",
       "      <td>0.8971</td>\n",
       "    </tr>\n",
       "    <tr>\n",
       "      <th>HYG</th>\n",
       "      <td>0.0414</td>\n",
       "      <td>0.0759</td>\n",
       "      <td>0.5449</td>\n",
       "    </tr>\n",
       "    <tr>\n",
       "      <th>IYR</th>\n",
       "      <td>0.0749</td>\n",
       "      <td>0.1687</td>\n",
       "      <td>0.4441</td>\n",
       "    </tr>\n",
       "    <tr>\n",
       "      <th>PSP</th>\n",
       "      <td>0.0926</td>\n",
       "      <td>0.2134</td>\n",
       "      <td>0.4338</td>\n",
       "    </tr>\n",
       "    <tr>\n",
       "      <th>EFA</th>\n",
       "      <td>0.0618</td>\n",
       "      <td>0.1509</td>\n",
       "      <td>0.4094</td>\n",
       "    </tr>\n",
       "    <tr>\n",
       "      <th>TIP</th>\n",
       "      <td>0.0205</td>\n",
       "      <td>0.0511</td>\n",
       "      <td>0.4011</td>\n",
       "    </tr>\n",
       "    <tr>\n",
       "      <th>QAI</th>\n",
       "      <td>0.0193</td>\n",
       "      <td>0.0491</td>\n",
       "      <td>0.3938</td>\n",
       "    </tr>\n",
       "    <tr>\n",
       "      <th>IEF</th>\n",
       "      <td>0.0164</td>\n",
       "      <td>0.0634</td>\n",
       "      <td>0.2586</td>\n",
       "    </tr>\n",
       "    <tr>\n",
       "      <th>EEM</th>\n",
       "      <td>0.0293</td>\n",
       "      <td>0.1762</td>\n",
       "      <td>0.1665</td>\n",
       "    </tr>\n",
       "    <tr>\n",
       "      <th>DBC</th>\n",
       "      <td>-0.0053</td>\n",
       "      <td>0.1666</td>\n",
       "      <td>-0.0318</td>\n",
       "    </tr>\n",
       "    <tr>\n",
       "      <th>BWX</th>\n",
       "      <td>-0.0077</td>\n",
       "      <td>0.0828</td>\n",
       "      <td>-0.0932</td>\n",
       "    </tr>\n",
       "  </tbody>\n",
       "</table>\n",
       "</div>"
      ],
      "text/plain": [
       "     Mean (annualised)  Volatility (annualised)  Sharpe Ratio (annualised)\n",
       "SPY             0.1281                   0.1428                     0.8971\n",
       "HYG             0.0414                   0.0759                     0.5449\n",
       "IYR             0.0749                   0.1687                     0.4441\n",
       "PSP             0.0926                   0.2134                     0.4338\n",
       "EFA             0.0618                   0.1509                     0.4094\n",
       "TIP             0.0205                   0.0511                     0.4011\n",
       "QAI             0.0193                   0.0491                     0.3938\n",
       "IEF             0.0164                   0.0634                     0.2586\n",
       "EEM             0.0293                   0.1762                     0.1665\n",
       "DBC            -0.0053                   0.1666                    -0.0318\n",
       "BWX            -0.0077                   0.0828                    -0.0932"
      ]
     },
     "execution_count": 225,
     "metadata": {},
     "output_type": "execute_result"
    }
   ],
   "source": [
    "# Question 2.1 (b) Code Here\n",
    "\n",
    "# Annualised Sharpe\n",
    "sharpe_annual = (mean_monthly / vol_monthly) * np.sqrt(12)\n",
    "\n",
    "# Tidy\n",
    "sharpe_annual = sharpe_annual.replace([np.inf, -np.inf], np.nan).dropna()\n",
    "\n",
    "# Add Sharpe to table \n",
    "results[\"Sharpe Ratio (annualised)\"] = sharpe_annual\n",
    "results = results.round(4)\n",
    "\n",
    "# Order results by Sharpe ratio (best to worst)\n",
    "results_sorted = results.sort_values(\"Sharpe Ratio (annualised)\", ascending=False)\n",
    "\n",
    "results_sorted\n",
    "\n"
   ]
  },
  {
   "cell_type": "markdown",
   "id": "c545bd1e",
   "metadata": {},
   "source": [
    "From the calculated annualised Sharpe ratios, the asset with the best risk-adjusted performance in our sample is SPY, which delivered a Sharpe ratio of 0.897. \n",
    "\n",
    "This reflects both strong average excess returns (12.8% annually) and moderate volatility (14.3%). \n",
    "\n",
    "At the other end of the spectrum, the asset with the worst risk-adjusted performance is BWX, with a Sharpe ratio of –0.093, driven by negative average returns (–0.8%) despite moderate volatility (8.3%). \n",
    "\n",
    "Overall, this ranking highlights that while some assets such as HYG (0.545) and IYR (0.444) also achieved solid risk-adjusted outcomes, SPY stands out as the most attractive investment on a Sharpe basis, whereas BWX was the weakest performer."
   ]
  },
  {
   "cell_type": "markdown",
   "id": "c8031fe4",
   "metadata": {},
   "source": [
    "---"
   ]
  },
  {
   "cell_type": "markdown",
   "id": "046fcea3",
   "metadata": {},
   "source": [
    "## Question 2.2 - Descriptive Analysis\n",
    "(a) Calculate the correlation matrix of the returns. Which pair has the highest correlation? And the lowest?\n",
    "\n",
    "(b) How well have TIPS done in our sample? Have they outperformed domestic bonds? Foreign bonds?"
   ]
  },
  {
   "cell_type": "markdown",
   "id": "bbfe4ec0",
   "metadata": {},
   "source": [
    "## Question 2.2 (a) Answer"
   ]
  },
  {
   "cell_type": "code",
   "execution_count": null,
   "id": "c3ae7c0a",
   "metadata": {},
   "outputs": [
    {
     "data": {
      "text/html": [
       "<div>\n",
       "<style scoped>\n",
       "    .dataframe tbody tr th:only-of-type {\n",
       "        vertical-align: middle;\n",
       "    }\n",
       "\n",
       "    .dataframe tbody tr th {\n",
       "        vertical-align: top;\n",
       "    }\n",
       "\n",
       "    .dataframe thead th {\n",
       "        text-align: right;\n",
       "    }\n",
       "</style>\n",
       "<table border=\"1\" class=\"dataframe\">\n",
       "  <thead>\n",
       "    <tr style=\"text-align: right;\">\n",
       "      <th></th>\n",
       "      <th>BWX</th>\n",
       "      <th>DBC</th>\n",
       "      <th>EEM</th>\n",
       "      <th>EFA</th>\n",
       "      <th>HYG</th>\n",
       "      <th>IEF</th>\n",
       "      <th>IYR</th>\n",
       "      <th>PSP</th>\n",
       "      <th>QAI</th>\n",
       "      <th>SPY</th>\n",
       "      <th>TIP</th>\n",
       "    </tr>\n",
       "  </thead>\n",
       "  <tbody>\n",
       "    <tr>\n",
       "      <th>BWX</th>\n",
       "      <td>1.000</td>\n",
       "      <td>0.191</td>\n",
       "      <td>0.622</td>\n",
       "      <td>0.603</td>\n",
       "      <td>0.603</td>\n",
       "      <td>0.581</td>\n",
       "      <td>0.553</td>\n",
       "      <td>0.527</td>\n",
       "      <td>0.630</td>\n",
       "      <td>0.440</td>\n",
       "      <td>0.675</td>\n",
       "    </tr>\n",
       "    <tr>\n",
       "      <th>DBC</th>\n",
       "      <td>0.191</td>\n",
       "      <td>1.000</td>\n",
       "      <td>0.512</td>\n",
       "      <td>0.501</td>\n",
       "      <td>0.462</td>\n",
       "      <td>-0.300</td>\n",
       "      <td>0.281</td>\n",
       "      <td>0.453</td>\n",
       "      <td>0.475</td>\n",
       "      <td>0.432</td>\n",
       "      <td>0.109</td>\n",
       "    </tr>\n",
       "    <tr>\n",
       "      <th>EEM</th>\n",
       "      <td>0.622</td>\n",
       "      <td>0.512</td>\n",
       "      <td>1.000</td>\n",
       "      <td>0.820</td>\n",
       "      <td>0.691</td>\n",
       "      <td>0.027</td>\n",
       "      <td>0.584</td>\n",
       "      <td>0.750</td>\n",
       "      <td>0.775</td>\n",
       "      <td>0.688</td>\n",
       "      <td>0.379</td>\n",
       "    </tr>\n",
       "    <tr>\n",
       "      <th>EFA</th>\n",
       "      <td>0.603</td>\n",
       "      <td>0.501</td>\n",
       "      <td>0.820</td>\n",
       "      <td>1.000</td>\n",
       "      <td>0.787</td>\n",
       "      <td>0.043</td>\n",
       "      <td>0.699</td>\n",
       "      <td>0.895</td>\n",
       "      <td>0.848</td>\n",
       "      <td>0.846</td>\n",
       "      <td>0.395</td>\n",
       "    </tr>\n",
       "    <tr>\n",
       "      <th>HYG</th>\n",
       "      <td>0.603</td>\n",
       "      <td>0.462</td>\n",
       "      <td>0.691</td>\n",
       "      <td>0.787</td>\n",
       "      <td>1.000</td>\n",
       "      <td>0.187</td>\n",
       "      <td>0.739</td>\n",
       "      <td>0.812</td>\n",
       "      <td>0.808</td>\n",
       "      <td>0.794</td>\n",
       "      <td>0.539</td>\n",
       "    </tr>\n",
       "    <tr>\n",
       "      <th>IEF</th>\n",
       "      <td>0.581</td>\n",
       "      <td>-0.300</td>\n",
       "      <td>0.027</td>\n",
       "      <td>0.043</td>\n",
       "      <td>0.187</td>\n",
       "      <td>1.000</td>\n",
       "      <td>0.317</td>\n",
       "      <td>0.022</td>\n",
       "      <td>0.180</td>\n",
       "      <td>0.001</td>\n",
       "      <td>0.754</td>\n",
       "    </tr>\n",
       "    <tr>\n",
       "      <th>IYR</th>\n",
       "      <td>0.553</td>\n",
       "      <td>0.281</td>\n",
       "      <td>0.584</td>\n",
       "      <td>0.699</td>\n",
       "      <td>0.739</td>\n",
       "      <td>0.317</td>\n",
       "      <td>1.000</td>\n",
       "      <td>0.750</td>\n",
       "      <td>0.719</td>\n",
       "      <td>0.755</td>\n",
       "      <td>0.599</td>\n",
       "    </tr>\n",
       "    <tr>\n",
       "      <th>PSP</th>\n",
       "      <td>0.527</td>\n",
       "      <td>0.453</td>\n",
       "      <td>0.750</td>\n",
       "      <td>0.895</td>\n",
       "      <td>0.812</td>\n",
       "      <td>0.022</td>\n",
       "      <td>0.750</td>\n",
       "      <td>1.000</td>\n",
       "      <td>0.873</td>\n",
       "      <td>0.892</td>\n",
       "      <td>0.408</td>\n",
       "    </tr>\n",
       "    <tr>\n",
       "      <th>QAI</th>\n",
       "      <td>0.630</td>\n",
       "      <td>0.475</td>\n",
       "      <td>0.775</td>\n",
       "      <td>0.848</td>\n",
       "      <td>0.808</td>\n",
       "      <td>0.180</td>\n",
       "      <td>0.719</td>\n",
       "      <td>0.873</td>\n",
       "      <td>1.000</td>\n",
       "      <td>0.867</td>\n",
       "      <td>0.517</td>\n",
       "    </tr>\n",
       "    <tr>\n",
       "      <th>SPY</th>\n",
       "      <td>0.440</td>\n",
       "      <td>0.432</td>\n",
       "      <td>0.688</td>\n",
       "      <td>0.846</td>\n",
       "      <td>0.794</td>\n",
       "      <td>0.001</td>\n",
       "      <td>0.755</td>\n",
       "      <td>0.892</td>\n",
       "      <td>0.867</td>\n",
       "      <td>1.000</td>\n",
       "      <td>0.382</td>\n",
       "    </tr>\n",
       "    <tr>\n",
       "      <th>TIP</th>\n",
       "      <td>0.675</td>\n",
       "      <td>0.109</td>\n",
       "      <td>0.379</td>\n",
       "      <td>0.395</td>\n",
       "      <td>0.539</td>\n",
       "      <td>0.754</td>\n",
       "      <td>0.599</td>\n",
       "      <td>0.408</td>\n",
       "      <td>0.517</td>\n",
       "      <td>0.382</td>\n",
       "      <td>1.000</td>\n",
       "    </tr>\n",
       "  </tbody>\n",
       "</table>\n",
       "</div>"
      ],
      "text/plain": [
       "       BWX    DBC    EEM    EFA    HYG    IEF    IYR    PSP    QAI    SPY  \\\n",
       "BWX  1.000  0.191  0.622  0.603  0.603  0.581  0.553  0.527  0.630  0.440   \n",
       "DBC  0.191  1.000  0.512  0.501  0.462 -0.300  0.281  0.453  0.475  0.432   \n",
       "EEM  0.622  0.512  1.000  0.820  0.691  0.027  0.584  0.750  0.775  0.688   \n",
       "EFA  0.603  0.501  0.820  1.000  0.787  0.043  0.699  0.895  0.848  0.846   \n",
       "HYG  0.603  0.462  0.691  0.787  1.000  0.187  0.739  0.812  0.808  0.794   \n",
       "IEF  0.581 -0.300  0.027  0.043  0.187  1.000  0.317  0.022  0.180  0.001   \n",
       "IYR  0.553  0.281  0.584  0.699  0.739  0.317  1.000  0.750  0.719  0.755   \n",
       "PSP  0.527  0.453  0.750  0.895  0.812  0.022  0.750  1.000  0.873  0.892   \n",
       "QAI  0.630  0.475  0.775  0.848  0.808  0.180  0.719  0.873  1.000  0.867   \n",
       "SPY  0.440  0.432  0.688  0.846  0.794  0.001  0.755  0.892  0.867  1.000   \n",
       "TIP  0.675  0.109  0.379  0.395  0.539  0.754  0.599  0.408  0.517  0.382   \n",
       "\n",
       "       TIP  \n",
       "BWX  0.675  \n",
       "DBC  0.109  \n",
       "EEM  0.379  \n",
       "EFA  0.395  \n",
       "HYG  0.539  \n",
       "IEF  0.754  \n",
       "IYR  0.599  \n",
       "PSP  0.408  \n",
       "QAI  0.517  \n",
       "SPY  0.382  \n",
       "TIP  1.000  "
      ]
     },
     "metadata": {},
     "output_type": "display_data"
    },
    {
     "name": "stdout",
     "output_type": "stream",
     "text": [
      "\n",
      "Greatest Positive Correlation: EFA & PSP (0.895)\n",
      "Greatest Negative Correlation:  DBC & IEF (-0.300)\n",
      "Least Correlated Pair: IEF & SPY (0.001)\n"
     ]
    },
    {
     "data": {
      "image/png": "[encoded data removed]",
      "text/plain": [
       "<Figure size 1000x800 with 2 Axes>"
      ]
     },
     "metadata": {},
     "output_type": "display_data"
    }
   ],
   "source": [
    "# Question 2.2 (a) Code Here\n",
    "\n",
    "import matplotlib.pyplot as plt\n",
    "import seaborn as sns\n",
    "import numpy as np\n",
    "\n",
    "# Correlation matrix of monthly excess returns\n",
    "corr_matrix = df.corr()\n",
    "\n",
    "# Round for readability\n",
    "corr_matrix_rounded = corr_matrix.round(3)\n",
    "\n",
    "# Find highest and lowest correlation\n",
    "# Stack the matrix into pairs, dropping self-correlations\n",
    "corr_pairs = corr_matrix.stack().reset_index()\n",
    "corr_pairs.columns = [\"Asset1\", \"Asset2\", \"Correlation\"]\n",
    "\n",
    "# Keep only unique pairs\n",
    "corr_pairs = corr_pairs[corr_pairs[\"Asset1\"] < corr_pairs[\"Asset2\"]]\n",
    "\n",
    "# Identify max and min correlation pairs\n",
    "max_corr = corr_pairs.loc[corr_pairs[\"Correlation\"].idxmax()]\n",
    "min_corr = corr_pairs.loc[corr_pairs[\"Correlation\"].idxmin()]\n",
    "\n",
    "display(corr_matrix_rounded)\n",
    "print(f\"\\nGreatest Positive Correlation: {max_corr['Asset1']} & {max_corr['Asset2']} ({max_corr['Correlation']:.3f})\")\n",
    "print(f\"Greatest Negative Correlation:  {min_corr['Asset1']} & {min_corr['Asset2']} ({min_corr['Correlation']:.3f})\")\n",
    "\n",
    "# Find pair with correlation closest to zero\n",
    "min_abs_corr = corr_pairs.iloc[(corr_pairs['Correlation'].abs()).argmin()]\n",
    "print(f\"Least Correlated Pair: {min_abs_corr['Asset1']} & {min_abs_corr['Asset2']} ({min_abs_corr['Correlation']:.3f})\")\n",
    "\n",
    "# Heatmap\n",
    "fig, ax = plt.subplots(figsize=(10, 8))\n",
    "sns.heatmap(\n",
    "    corr_matrix,\n",
    "    annot=True, fmt=\".3f\",\n",
    "    cmap=\"coolwarm\", center=0, vmin=-1, vmax=1,\n",
    "    square=True, linewidths=0.5,\n",
    "    cbar_kws={\"shrink\": 0.8},\n",
    "    ax=ax\n",
    ")\n",
    "ax.set_title(\"Correlation Matrix of Excess Returns\", fontsize=14)\n",
    "plt.tight_layout()\n",
    "plt.show()\n",
    "\n",
    "\n"
   ]
  },
  {
   "cell_type": "markdown",
   "id": "1eb4d72d",
   "metadata": {},
   "source": [
    "## Question 2.2 (b) Answer"
   ]
  },
  {
   "cell_type": "markdown",
   "id": "76048013",
   "metadata": {},
   "source": [
    "In our sample, TIPS (TIP) delivered an annualised excess return of roughly 2.1%, with relatively low annualised volatility of about 5.1%. \n",
    "\n",
    "This combination translates into a Sharpe ratio near 0.40, signalling that while the raw return is modest, the payoff per unit of risk is favourable compared to several alternatives.\n",
    "\n",
    "Relative to domestic Treasuries (IEF), TIPS performed better on all fronts: IEF generated an annualised return of about 1.6% with higher volatility of 6.3%, producing a weaker Sharpe ratio of roughly 0.30. \n",
    "\n",
    "This means that TIPS not only offered higher average returns but also did so with lower risk, strengthening their appeal in the domestic fixed-income universe.\n",
    "\n",
    "Relative to high-yield corporate bonds (HYG), TIPS lagged in raw returns (HYG delivered 4.1%) but carried much lower volatility (7.6% for HYG versus 5.1% for TIP). \n",
    "\n",
    "Consequently, the Sharpe ratio of HYG (~0.55) edged out that of TIPS, showing that investors in high yield were compensated more per unit of risk, even though the risk profile itself was much higher.\n",
    "\n",
    "Relative to foreign bonds (BWX), TIPS clearly outperformed. BWX generated negative excess returns (about –0.8%) with volatility over 8.2%, resulting in a negative Sharpe ratio. \n",
    "\n",
    "This underscores that TIPS dominated foreign bonds both in raw performance and on a risk-adjusted basis."
   ]
  },
  {
   "cell_type": "markdown",
   "id": "44ba5d56",
   "metadata": {},
   "source": [
    "---"
   ]
  },
  {
   "cell_type": "markdown",
   "id": "67887397",
   "metadata": {},
   "source": [
    "## Question 2.3 - The MV Frontier\n",
    "Compute and display the weights of the tangency portfolios: $w_{\\tan}$.\n",
    "\n",
    "(a) Does the ranking of weights align with the ranking of Sharpe ratios?\n",
    "\n",
    "(b) Compute the mean, volatility, and Sharpe ratio for the tangency portfolio corresponding to\n",
    "$w_{\\tan}$."
   ]
  },
  {
   "cell_type": "markdown",
   "id": "0208afac",
   "metadata": {},
   "source": [
    "## Question 2.3 (a) Answer"
   ]
  },
  {
   "cell_type": "code",
   "execution_count": 88,
   "id": "5f3118bf",
   "metadata": {},
   "outputs": [
    {
     "name": "stdout",
     "output_type": "stream",
     "text": [
      "\n",
      "Tangency Portfolio weights (rf=0.00%):\n",
      "\n",
      "SPY    1.059632\n",
      "IEF    0.881186\n",
      "HYG    0.290614\n",
      "TIP    0.175293\n",
      "EFA    0.068682\n",
      "EEM    0.026437\n",
      "DBC   -0.071623\n",
      "IYR   -0.246582\n",
      "PSP   -0.332995\n",
      "BWX   -0.850643\n",
      "dtype: float64\n"
     ]
    }
   ],
   "source": [
    "# Question 2.3 (a) Code Here\n",
    "import numpy as np\n",
    "import pandas as pd\n",
    "file_path = '../data/multi_asset_etf_data.xlsx'\n",
    "df = pd.read_excel(file_path, sheet_name=\"excess returns\", index_col=\"Date\")\n",
    "df = df.drop(\"QAI\", axis=1, errors=\"ignore\") # Drop QAI if present, as the update instruction asks\n",
    "means = df.mean() \n",
    "cov_matrix = df.cov()\n",
    "freq = 12\n",
    "mu = means.values * freq\n",
    "Sigma = cov_matrix.values * freq\n",
    "ones = np.ones(len(mu))\n",
    "\n",
    "invSigma = np.linalg.inv(Sigma)\n",
    "A = ones @ invSigma @ ones\n",
    "B = ones @ invSigma @ mu\n",
    "C = mu   @ invSigma @ mu\n",
    "D = A*C - B**2\n",
    "\n",
    "# Tangency Portfolio, given rf\n",
    "def tangency_weights(rf: float = 0.0) -> np.ndarray:\n",
    "    # w ∝ invSigma @ (mu - rf*1)\n",
    "    z = invSigma @ (mu - rf*ones)\n",
    "    return z / (ones @ z)\n",
    "# Compute Tangency Portfolio\n",
    "rf = 0.00\n",
    "w_tan = tangency_weights(rf=rf)\n",
    "\n",
    "# Print weights ordered from greatest to least\n",
    "weights_sorted = pd.Series(w_tan, index=df.columns).sort_values(ascending=False)\n",
    "print(f\"\\nTangency Portfolio weights (rf={rf*100:.2f}%):\\n\")\n",
    "print(weights_sorted)\n"
   ]
  },
  {
   "cell_type": "markdown",
   "id": "d54656cb",
   "metadata": {},
   "source": [
    "The ranking of weights does not align with the ranking of Sharpe ratios. For example, IEF weights second, but ranks 7th of Sharpe ratios."
   ]
  },
  {
   "cell_type": "markdown",
   "id": "bebe6f6d",
   "metadata": {},
   "source": [
    "## Question 2.3 (b) Answer"
   ]
  },
  {
   "cell_type": "code",
   "execution_count": 89,
   "id": "0922d36f",
   "metadata": {},
   "outputs": [
    {
     "name": "stdout",
     "output_type": "stream",
     "text": [
      "Tangency Portfolio: mean return = 0.1285, volatility = 0.0875, Sharpe Ratio = 1.4692\n"
     ]
    }
   ],
   "source": [
    "# Question 2.3 (b) Code Here\n",
    "r_tan = w_tan @ mu\n",
    "s_tan = np.sqrt(w_tan @ Sigma @ w_tan)\n",
    "print(f\"Tangency Portfolio: mean return = {r_tan:.4f}, volatility = {s_tan:.4f}, Sharpe Ratio = {(r_tan-rf)/s_tan:.4f}\")"
   ]
  },
  {
   "cell_type": "markdown",
   "id": "9671199c",
   "metadata": {},
   "source": [
    "---"
   ]
  },
  {
   "cell_type": "markdown",
   "id": "f399c75e",
   "metadata": {},
   "source": [
    "## Question 2.4: TIPS\n",
    "Assess how much the tangency portfolio (and performance) change if...\n",
    "\n",
    "(a) TIPS are dropped completely from the investment set.\n",
    "\n",
    "(b) The expected excess return to TIPS is adjusted to be 0.0012 higher than what the historic sample shows.\n",
    "\n",
    "Based on the analysis, do TIPS seem to expand the investment opportunity set, implying that Harvard should consider them as a separate asset?"
   ]
  },
  {
   "cell_type": "markdown",
   "id": "3c31bd13",
   "metadata": {},
   "source": [
    "## Question 2.4 (a) Answer"
   ]
  },
  {
   "cell_type": "code",
   "execution_count": 229,
   "id": "1e39f136",
   "metadata": {},
   "outputs": [],
   "source": [
    "# Question 2.4 (a) Code Here"
   ]
  },
  {
   "cell_type": "markdown",
   "id": "30c0f5bd",
   "metadata": {},
   "source": [
    "## Question 2.4 (b) Answer"
   ]
  },
  {
   "cell_type": "code",
   "execution_count": 230,
   "id": "17d49cc5",
   "metadata": {},
   "outputs": [],
   "source": [
    "# Question 2.4 (b) Code Here"
   ]
  },
  {
   "cell_type": "markdown",
   "id": "a8609d16",
   "metadata": {},
   "source": [
    "\n",
    "***"
   ]
  },
  {
   "cell_type": "markdown",
   "id": "c59490d8",
   "metadata": {},
   "source": [
    "# Section 3: Allocations (Background Information)"
   ]
  },
  {
   "cell_type": "markdown",
   "id": "8e5eb238",
   "metadata": {},
   "source": [
    "\n",
    "* Continue with the same data file as the previous section.\n",
    "\n",
    "* Suppose the investor has a targeted mean excess return (per month) of $\\tilde{\\mu}_{\\text{port}}\n",
    "$ = 0.01."
   ]
  },
  {
   "cell_type": "markdown",
   "id": "2645f82c",
   "metadata": {},
   "source": [
    "---"
   ]
  },
  {
   "cell_type": "markdown",
   "id": "9379007e",
   "metadata": {},
   "source": [
    "# Section 3: Allocations (Questions & Solutions)"
   ]
  },
  {
   "cell_type": "markdown",
   "id": "1d46b44c",
   "metadata": {},
   "source": [
    "\n",
    "Build the following portfolios:"
   ]
  },
  {
   "cell_type": "markdown",
   "id": "ac352ed1",
   "metadata": {},
   "source": [
    "---"
   ]
  },
  {
   "cell_type": "markdown",
   "id": "5c28ed00",
   "metadata": {},
   "source": [
    "## Question 3.1 - Equally-weighted (EW)\n",
    "Rescale the entire weighting vector to have target mean $\\tilde{\\mu}_{\\text{port}}\n",
    "$. \n",
    "\n",
    "Thus, the $i$ element of the weight vector is,\n",
    "\n",
    "$\\mathbf{w}_i^{\\mathrm{EW}} = \\frac{1}{n}$"
   ]
  },
  {
   "cell_type": "code",
   "execution_count": 231,
   "id": "4c7c0fc5",
   "metadata": {},
   "outputs": [
    {
     "name": "stdout",
     "output_type": "stream",
     "text": [
      "\n",
      "Equally-weighted Portfolio weights (rf=0.00%):\n",
      " BWX    0.1\n",
      "DBC    0.1\n",
      "EEM    0.1\n",
      "EFA    0.1\n",
      "HYG    0.1\n",
      "IEF    0.1\n",
      "IYR    0.1\n",
      "PSP    0.1\n",
      "SPY    0.1\n",
      "TIP    0.1\n",
      "dtype: float64\n"
     ]
    }
   ],
   "source": [
    "# Question 3.1 Code Here\n",
    "# Equally-weighted portfolio\n",
    "w_ew=w_tan.copy()\n",
    "w_ew[:]=1/len(w_tan)\n",
    "print(f\"\\nEqually-weighted Portfolio weights (rf={rf*100:.2f}%):\\n\", pd.Series(w_ew, index=df.columns))"
   ]
  },
  {
   "cell_type": "markdown",
   "id": "7ebfbc2e",
   "metadata": {},
   "source": [
    "---"
   ]
  },
  {
   "cell_type": "markdown",
   "id": "8d64ab12",
   "metadata": {},
   "source": [
    "## Question 3.2 - “Risk-parity” (RP)\n",
    "Risk-parity is a term used in a variety of ways, but here we have in mind setting the weight of the portfolio to be proportional to the inverse of its full-sample variance estimate. Thus, the $i$ element of the weight vector is,\n",
    "\n",
    "$$\\mathbf{w}_i^{\\mathrm{RP}} = \\frac{1}{\\sigma_i^2}$$"
   ]
  },
  {
   "cell_type": "code",
   "execution_count": 91,
   "id": "e557d5d3",
   "metadata": {},
   "outputs": [
    {
     "name": "stdout",
     "output_type": "stream",
     "text": [
      "\n",
      "Risk-parity Portfolio weights (rf=0.00%):\n",
      "\n",
      "TIP    0.327442\n",
      "IEF    0.212563\n",
      "HYG    0.148400\n",
      "BWX    0.124822\n",
      "SPY    0.041932\n",
      "EFA    0.037570\n",
      "DBC    0.030841\n",
      "IYR    0.030070\n",
      "EEM    0.027568\n",
      "PSP    0.018792\n",
      "dtype: float64\n"
     ]
    }
   ],
   "source": [
    "# Question 3.2 Here \n",
    "\n",
    "# Calculating volatily\n",
    "sig2 = np.diag(Sigma)\n",
    "\n",
    "# Risk-parity portfolio\n",
    "w_rp=w_tan.copy()\n",
    "w_rp=1/(sig2)\n",
    "w_rp=w_rp/w_rp.sum()\n",
    "\n",
    "# Convert to Series and sort descending\n",
    "weights_rp_sorted = pd.Series(w_rp, index=df.columns).sort_values(ascending=False)\n",
    "\n",
    "print(f\"\\nRisk-parity Portfolio weights (rf={rf*100:.2f}%):\\n\")\n",
    "print(weights_rp_sorted)"
   ]
  },
  {
   "cell_type": "markdown",
   "id": "bb13a7d9",
   "metadata": {},
   "source": [
    "---"
   ]
  },
  {
   "cell_type": "markdown",
   "id": "52dc141a",
   "metadata": {},
   "source": [
    "## Question 3.3 - Mean-Variance (MV)\n",
    "As described in `Section 2`."
   ]
  },
  {
   "cell_type": "code",
   "execution_count": 92,
   "id": "76991153",
   "metadata": {},
   "outputs": [
    {
     "name": "stdout",
     "output_type": "stream",
     "text": [
      "\n",
      "Tangency Portfolio weights (rf=0.00%):\n",
      "\n",
      "SPY    1.059632\n",
      "IEF    0.881186\n",
      "HYG    0.290614\n",
      "TIP    0.175293\n",
      "EFA    0.068682\n",
      "EEM    0.026437\n",
      "DBC   -0.071623\n",
      "IYR   -0.246582\n",
      "PSP   -0.332995\n",
      "BWX   -0.850643\n",
      "dtype: float64\n"
     ]
    }
   ],
   "source": [
    "# Convert to Series and sort descending\n",
    "weights_tan_sorted = pd.Series(w_tan, index=df.columns).sort_values(ascending=False)\n",
    "\n",
    "print(f\"\\nTangency Portfolio weights (rf={rf*100:.2f}%):\\n\")\n",
    "print(weights_tan_sorted)"
   ]
  },
  {
   "cell_type": "markdown",
   "id": "ae053227",
   "metadata": {},
   "source": [
    "---"
   ]
  },
  {
   "cell_type": "markdown",
   "id": "3594b4c1",
   "metadata": {},
   "source": [
    "## Question 3.4 - Comparing\n",
    "\n",
    "In order to compare all these allocation methods, rescale each weight vector, such that it has targeted mean return of $\\tilde{\\mu}_{\\text{port}}\n",
    "$.\n",
    "\n",
    "(a) Calculate the performance of each of these portfolios over the sample.\n",
    "\n",
    "(b) Report their mean, volatility, and Sharpe ratio. \n",
    "\n",
    "(c) How does performance compare across allocation methods?"
   ]
  },
  {
   "cell_type": "markdown",
   "id": "a52eb73b",
   "metadata": {},
   "source": [
    "## Question 3.4 (a) Answer"
   ]
  },
  {
   "cell_type": "code",
   "execution_count": 234,
   "id": "8b04f58a",
   "metadata": {},
   "outputs": [
    {
     "name": "stdout",
     "output_type": "stream",
     "text": [
      "\n",
      "Equally-weighted (targeted)\n",
      "Risky-asset weights: [0.265 0.265 0.265 0.265 0.265 0.265 0.265 0.265 0.265 0.265]\n",
      "Cash weight:         -1.6549\n",
      "Sum (portfolio+cash):    1.0000\n",
      "\n",
      "Risk-parity (targeted)\n",
      "Risky-asset weights: [0.541 0.134 0.119 0.163 0.643 0.921 0.13  0.081 0.182 1.418]\n",
      "Cash weight:         -3.3308\n",
      "Sum (portfolio+cash):    1.0000\n",
      "\n",
      "Tangency (targeted)\n",
      "Risky-asset weights: [-0.794 -0.067  0.025  0.064  0.271  0.823 -0.23  -0.311  0.989  0.164]\n",
      "Cash weight:         0.0663\n",
      "Sum (portfolio+cash):    1.0000\n"
     ]
    }
   ],
   "source": [
    "# Question 3.4 (a) Code Here \n",
    "#u-portfolio with 1% target montly return = 12% annual return\n",
    "mu_target=0.01*12\n",
    "\n",
    "#scaling weights of portfolios  with cash to reach target return\n",
    "def scale_weights(w: np.ndarray) -> tuple[np.ndarray, float]:\n",
    "    mu_p= w @ mu #expected return of portfolio\n",
    "    k = mu_target/mu_p #scaling factor\n",
    "    w_star = k*w #scaled weights of portfolio\n",
    "    w_cash = 1 -w_star.sum() #weight of cash\n",
    "    return w_star, w_cash\n",
    "\n",
    "#weights of portfolios and cash\n",
    "w_ew_star, cash_ew = scale_weights(w_ew)\n",
    "w_rp_star, cash_rp = scale_weights(w_rp)\n",
    "w_tan_star, cash_tan = scale_weights(w_tan)\n",
    "\n",
    "#printing\n",
    "def print_portfolio(name: str, w_star: np.ndarray, w_cash: float) -> None:\n",
    "    print(f\"\\n{name}\")\n",
    "    print(f\"Risky-asset weights: {np.round(w_star, 3)}\")\n",
    "    print(f\"Cash weight:         {w_cash:.4f}\")\n",
    "    print(f\"Sum (portfolio+cash):    {(w_star.sum() + w_cash):.4f}\")\n",
    "\n",
    "print_portfolio(\"Equally-weighted (targeted)\", w_ew_star,  cash_ew)\n",
    "print_portfolio(\"Risk-parity (targeted)\", w_rp_star, cash_rp)\n",
    "print_portfolio(\"Tangency (targeted)\", w_tan_star, cash_tan)"
   ]
  },
  {
   "cell_type": "markdown",
   "id": "2740e624",
   "metadata": {},
   "source": [
    "## Question 3.4 (b) Answer"
   ]
  },
  {
   "cell_type": "code",
   "execution_count": 235,
   "id": "4feb4004",
   "metadata": {},
   "outputs": [
    {
     "name": "stdout",
     "output_type": "stream",
     "text": [
      "\n",
      "Equally-weighted (targeted)\n",
      "Mean return: 0.12\n",
      "Volatility: 0.2692\n",
      "Sharpe ratio: 0.4457\n",
      "\n",
      "Risk-parity (targeted)\n",
      "Mean return: 0.12\n",
      "Volatility: 0.2639\n",
      "Sharpe ratio: 0.4547\n",
      "\n",
      "Tangency (targeted)\n",
      "Mean return: 0.12\n",
      "Volatility: 0.0817\n",
      "Sharpe ratio: 1.4692\n"
     ]
    }
   ],
   "source": [
    "# Question 3.4 (b) Code Here\n",
    "#calculating metric sof portfolios with cash\n",
    "def portfolio_metrics(w_star: np.ndarray, w_cash: float) -> tuple[float, float, float]:\n",
    "    r =float(w_star @ mu + w_cash*rf)\n",
    "    vol=float(np.sqrt(w_star @ Sigma @ w_star))\n",
    "    sharpe=(r-rf)/vol\n",
    "    return r, vol, sharpe\n",
    "\n",
    "r_ew, vol_ew, sharpe_ew = portfolio_metrics(w_ew_star, cash_ew)\n",
    "r_rp, vol_rp, sharpe_rp = portfolio_metrics(w_rp_star, cash_rp)\n",
    "r_tan, vol_tan, sharpe_tan = portfolio_metrics(w_tan_star, cash_tan)\n",
    "\n",
    "\n",
    "#printing\n",
    "def print_metrics(name: str, r: float, vol: float, sharpe: float) -> None:\n",
    "    print(f\"\\n{name}\")\n",
    "    print(f\"Mean return: {np.round(r, 3)}\")\n",
    "    print(f\"Volatility: {vol:.4f}\")\n",
    "    print(f\"Sharpe ratio: {sharpe:.4f}\")\n",
    "\n",
    "print_metrics(\"Equally-weighted (targeted)\", r_ew,  vol_ew, sharpe_ew)\n",
    "print_metrics(\"Risk-parity (targeted)\", r_rp, vol_rp, sharpe_rp)\n",
    "print_metrics(\"Tangency (targeted)\", r_tan, vol_tan, sharpe_tan)"
   ]
  },
  {
   "cell_type": "markdown",
   "id": "c0cb5a56",
   "metadata": {},
   "source": [
    "## Question 3.4 (c) Answer"
   ]
  },
  {
   "cell_type": "markdown",
   "id": "8e8b52ac",
   "metadata": {},
   "source": [
    "With the return at the target we can see that the tangency portfolio performs much better than the rest. It reaches the target with the lowest volatility and a Sharpe ratio around 1.47.\n",
    "\n",
    "By contrast, the risk-parity portfolio and the equally-weighted portfolio required about three times more volatiltiy to attain the same returns. Both have Sharpe ratios near 0.45. \n",
    "\n",
    "The risk-parity portfolio does slightly better than equally-weighted one given that its volatility is a bit lower and its Sharpe ratio a touch higher."
   ]
  }
 ],
 "metadata": {
  "hide_input": false,
  "kernelspec": {
   "display_name": "base",
   "language": "python",
   "name": "python3"
  },
  "language_info": {
   "codemirror_mode": {
    "name": "ipython",
    "version": 3
   },
   "file_extension": ".py",
   "mimetype": "text/x-python",
   "name": "python",
   "nbconvert_exporter": "python",
   "pygments_lexer": "ipython3",
   "version": "3.13.5"
  }
 },
 "nbformat": 4,
 "nbformat_minor": 5
}
