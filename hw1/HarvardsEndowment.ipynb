{
 "cells": [
  {
   "cell_type": "markdown",
   "id": "a97c4251",
   "metadata": {},
   "source": [
    "# Harvard's Endowment\n",
    "\n",
    "## HBS Case\n",
    "### *The Harvard Management Company and Inflation-Indexed Bonds*"
   ]
  },
  {
   "cell_type": "markdown",
   "id": "d1614003",
   "metadata": {},
   "source": [
    "\n",
    "# Section 2: Mean-Variance Optimization (Background Information)\n",
    "\n",
    "\n",
    "## Data\n",
    "You will need the file in the github repo, `data/multi_asset_etf_data.xlsx`.\n",
    "- The time-series data gives monthly returns for the 11 asset classes and a short-term Treasury-bill fund return, (\"SHV\",) which we consider as the risk-free rate.\n",
    "- The data is provided in total returns, (in which case you should ignore the SHV column,) as well as excess returns, (where SHV has been subtracted from the other columns.)\n",
    "- These are nominal returns-they are not adjusted for inflation, and in our calculations we are not making any adjustment for inflation.\n",
    "- The exhibit data that comes via Harvard with the case is unnecessary for our analysis.\n",
    "\n",
    "\n",
    "## Model\n",
    "We are going to analyze the problem in terms of **excess** returns.\n",
    "- Thus, you will focus on the `Excess Returns` section of the lecture notes, especially the formulas on slide 50.\n",
    "- Be sure to use the`excess returns` tab of the data.\n",
    "\n",
    "\n",
    "## Format\n",
    "In the questions below, **annualize the statistics** you report.\n",
    "- Annualize the mean of monthly returns with a scaling of 12.\n",
    "- Annualize the volatility of monthly returns with a scaling of $\\sqrt{12}$\n",
    "- The Sharpe Ratio is the mean return divided by the volatility of returns. Accordingly, we can annualize the Sharpe Ratio with a scaling of $\\sqrt{12}$\n",
    "- Note that we are not scaling the raw timeseries data, just the statistics computed from it (mean, vol, Sharpe).\n",
    "\n",
    "\n",
    "## Data File\n",
    "* The case does not give time-series data, so this data has been compiled outside of the case, and it intends to represent the main asset classes under consideration via various ETFs. For details on the specific securities/indexes, check the “Info” tab of the data.\n",
    "\n",
    "\n",
    "## Risk-free rate\n",
    "* In the lecture-note we considered a constant risk-free rate. It is okay that our risk-free rate changes over time, but the assumption is that investors know it’s value one-period ahead of time. Thus, at any given point in time, it is a risk-free rate for the next period. (This is often discussed as the \"bank account\" or \"money market account\" in other settings."
   ]
  },
  {
   "cell_type": "markdown",
   "id": "d79e3770",
   "metadata": {},
   "source": [
    "---"
   ]
  },
  {
   "cell_type": "markdown",
   "id": "14cf80f5",
   "metadata": {},
   "source": [
    "# Section 2: Mean-Variance Optimization (Questions & Solutions)"
   ]
  },
  {
   "cell_type": "markdown",
   "id": "939a1ed5",
   "metadata": {},
   "source": [
    "---"
   ]
  },
  {
   "cell_type": "markdown",
   "id": "769f49be",
   "metadata": {},
   "source": [
    "## Question 2.1 - Summary Statistics\n",
    "Be sure to annualize all three statss (mean, vol, Sharpe).\n",
    "* mean is scaled by `12`\n",
    "* vol is scaled by `sqrt(12)`\n",
    "* Sharpe is scaled by `sqrt(12)`\n",
    "\n",
    "(a) Calculate and display the mean and volatility of each asset’s excess return. (Recall we use volatility to refer to standard deviation.)\n",
    "\n",
    "(b) Which assets have the best and worst Sharpe ratios? Recall that the Sharpe Ratio is simply the ratio of the mean-to-volatility of excess returns:\n",
    "$$\\text{sharpe ratio of investment }i = \\frac{\\mu_i}{\\sigma_i}$$"
   ]
  },
  {
   "cell_type": "markdown",
   "id": "7c762af4",
   "metadata": {},
   "source": [
    "## Question 2.1 (a) Answer"
   ]
  },
  {
   "cell_type": "code",
   "execution_count": null,
   "id": "4657b1f2",
   "metadata": {},
   "outputs": [],
   "source": [
    "# Question 2.1 (a) Code Here\n",
    "\n"
   ]
  },
  {
   "cell_type": "markdown",
   "id": "502dfbe3",
   "metadata": {},
   "source": [
    "## Question 2.1 (b) Answer"
   ]
  },
  {
   "cell_type": "code",
   "execution_count": 34,
   "id": "0d359402",
   "metadata": {},
   "outputs": [],
   "source": [
    "# Question 2.1 (b) Code Here"
   ]
  },
  {
   "cell_type": "markdown",
   "id": "c8031fe4",
   "metadata": {},
   "source": [
    "---"
   ]
  },
  {
   "cell_type": "markdown",
   "id": "046fcea3",
   "metadata": {},
   "source": [
    "## Question 2.2 - Descriptive Analysis\n",
    "(a) Calculate the correlation matrix of the returns. Which pair has the highest correlation? And the lowest?\n",
    "\n",
    "(b) How well have TIPS done in our sample? Have they outperformed domestic bonds? Foreign bonds?"
   ]
  },
  {
   "cell_type": "markdown",
   "id": "bbfe4ec0",
   "metadata": {},
   "source": [
    "## Question 2.2 (a) Answer"
   ]
  },
  {
   "cell_type": "code",
   "execution_count": 35,
   "id": "c3ae7c0a",
   "metadata": {},
   "outputs": [],
   "source": [
    "# Question 2.2 (a) Code Here"
   ]
  },
  {
   "cell_type": "markdown",
   "id": "1eb4d72d",
   "metadata": {},
   "source": [
    "## Question 2.2 (b) Answer"
   ]
  },
  {
   "cell_type": "code",
   "execution_count": 36,
   "id": "b204c2a3",
   "metadata": {},
   "outputs": [],
   "source": [
    "# Question 2.2 (b) Code Here"
   ]
  },
  {
   "cell_type": "markdown",
   "id": "44ba5d56",
   "metadata": {},
   "source": [
    "---"
   ]
  },
  {
   "cell_type": "markdown",
   "id": "67887397",
   "metadata": {},
   "source": [
    "## Question 2.3 - The MV Frontier\n",
    "Compute and display the weights of the tangency portfolios: $w_{\\tan}$.\n",
    "\n",
    "(a) Does the ranking of weights align with the ranking of Sharpe ratios?\n",
    "\n",
    "(b) Compute the mean, volatility, and Sharpe ratio for the tangency portfolio corresponding to\n",
    "$w_{\\tan}$."
   ]
  },
  {
   "cell_type": "markdown",
   "id": "0208afac",
   "metadata": {},
   "source": [
    "## Question 2.3 (a) Answer"
   ]
  },
  {
   "cell_type": "code",
   "execution_count": 37,
   "id": "5f3118bf",
   "metadata": {},
   "outputs": [],
   "source": [
    "# Question 2.3 (a) Code Here"
   ]
  },
  {
   "cell_type": "markdown",
   "id": "bebe6f6d",
   "metadata": {},
   "source": [
    "## Question 2.3 (b) Answer"
   ]
  },
  {
   "cell_type": "code",
   "execution_count": 38,
   "id": "0922d36f",
   "metadata": {},
   "outputs": [],
   "source": [
    "# Question 2.3 (b) Code Here"
   ]
  },
  {
   "cell_type": "markdown",
   "id": "9671199c",
   "metadata": {},
   "source": [
    "---"
   ]
  },
  {
   "cell_type": "markdown",
   "id": "f399c75e",
   "metadata": {},
   "source": [
    "## Question 2.4: TIPS\n",
    "Assess how much the tangency portfolio (and performance) change if...\n",
    "\n",
    "(a) TIPS are dropped completely from the investment set.\n",
    "\n",
    "(b) The expected excess return to TIPS is adjusted to be 0.0012 higher than what the historic sample shows.\n",
    "\n",
    "Based on the analysis, do TIPS seem to expand the investment opportunity set, implying that Harvard should consider them as a separate asset?"
   ]
  },
  {
   "cell_type": "markdown",
   "id": "3c31bd13",
   "metadata": {},
   "source": [
    "## Question 2.4 (a) Answer"
   ]
  },
  {
   "cell_type": "code",
   "execution_count": 39,
   "id": "1e39f136",
   "metadata": {},
   "outputs": [],
   "source": [
    "# Question 2.4 (a) Code Here"
   ]
  },
  {
   "cell_type": "markdown",
   "id": "30c0f5bd",
   "metadata": {},
   "source": [
    "## Question 2.4 (b) Answer"
   ]
  },
  {
   "cell_type": "code",
   "execution_count": 40,
   "id": "17d49cc5",
   "metadata": {},
   "outputs": [],
   "source": [
    "# Question 2.4 (b) Code Here"
   ]
  },
  {
   "cell_type": "markdown",
   "id": "a8609d16",
   "metadata": {},
   "source": [
    "\n",
    "***"
   ]
  },
  {
   "cell_type": "markdown",
   "id": "c59490d8",
   "metadata": {},
   "source": [
    "# Section 3: Allocations (Background Information)"
   ]
  },
  {
   "cell_type": "markdown",
   "id": "8e5eb238",
   "metadata": {},
   "source": [
    "\n",
    "* Continue with the same data file as the previous section.\n",
    "\n",
    "* Suppose the investor has a targeted mean excess return (per month) of $\\tilde{\\mu}_{\\text{port}}\n",
    "$ = 0.01."
   ]
  },
  {
   "cell_type": "markdown",
   "id": "2645f82c",
   "metadata": {},
   "source": [
    "---"
   ]
  },
  {
   "cell_type": "markdown",
   "id": "9379007e",
   "metadata": {},
   "source": [
    "# Section 3: Allocations (Questions & Solutions)"
   ]
  },
  {
   "cell_type": "markdown",
   "id": "1d46b44c",
   "metadata": {},
   "source": [
    "\n",
    "Build the following portfolios:"
   ]
  },
  {
   "cell_type": "markdown",
   "id": "a17c0a52",
   "metadata": {},
   "source": [
    "---"
   ]
  },
  {
   "cell_type": "markdown",
   "id": "5c28ed00",
   "metadata": {},
   "source": [
    "## Question 3.1 - Equally-weighted (EW)\n",
    "Rescale the entire weighting vector to have target mean $\\tilde{\\mu}_{\\text{port}}\n",
    "$. \n",
    "\n",
    "Thus, the $i$ element of the weight vector is,\n",
    "\n",
    "$\\mathbf{w}_i^{\\mathrm{EW}} = \\frac{1}{n}$"
   ]
  },
  {
   "cell_type": "code",
   "execution_count": 41,
   "id": "4c7c0fc5",
   "metadata": {},
   "outputs": [],
   "source": [
    "# Question 3.1 Code Here"
   ]
  },
  {
   "cell_type": "markdown",
   "id": "7ebfbc2e",
   "metadata": {},
   "source": [
    "---"
   ]
  },
  {
   "cell_type": "markdown",
   "id": "8d64ab12",
   "metadata": {},
   "source": [
    "## Question 3.2 - “Risk-parity” (RP)\n",
    "Risk-parity is a term used in a variety of ways, but here we have in mind setting the weight of the portfolio to be proportional to the inverse of its full-sample variance estimate. Thus, the $i$ element of the weight vector is,\n",
    "\n",
    "$$\\mathbf{w}_i^{\\mathrm{RP}} = \\frac{1}{\\sigma_i^2}$$"
   ]
  },
  {
   "cell_type": "code",
   "execution_count": 42,
   "id": "e557d5d3",
   "metadata": {},
   "outputs": [],
   "source": [
    "# Question 3.2 Here "
   ]
  },
  {
   "cell_type": "markdown",
   "id": "bb13a7d9",
   "metadata": {},
   "source": [
    "---"
   ]
  },
  {
   "cell_type": "markdown",
   "id": "52dc141a",
   "metadata": {},
   "source": [
    "## Question 3.3 - Mean-Variance (MV)\n",
    "As described in `Section 2`."
   ]
  },
  {
   "cell_type": "code",
   "execution_count": 43,
   "id": "76991153",
   "metadata": {},
   "outputs": [],
   "source": [
    "# Question 3.3 Code Here"
   ]
  },
  {
   "cell_type": "markdown",
   "id": "ae053227",
   "metadata": {},
   "source": [
    "---"
   ]
  },
  {
   "cell_type": "markdown",
   "id": "3594b4c1",
   "metadata": {},
   "source": [
    "## Question 3.4 - Comparing\n",
    "\n",
    "In order to compare all these allocation methods, rescale each weight vector, such that it has targeted mean return of $\\tilde{\\mu}_{\\text{port}}\n",
    "$.\n",
    "\n",
    "(a) Calculate the performance of each of these portfolios over the sample.\n",
    "\n",
    "(b) Report their mean, volatility, and Sharpe ratio. \n",
    "\n",
    "(c) How does performance compare across allocation methods?"
   ]
  },
  {
   "cell_type": "markdown",
   "id": "82e12335",
   "metadata": {},
   "source": [
    "---"
   ]
  },
  {
   "cell_type": "markdown",
   "id": "a52eb73b",
   "metadata": {},
   "source": [
    "## Question 3.4 (a) Answer"
   ]
  },
  {
   "cell_type": "code",
   "execution_count": 44,
   "id": "8b04f58a",
   "metadata": {},
   "outputs": [],
   "source": [
    "# Question 3.4 (a) Code Here "
   ]
  },
  {
   "cell_type": "markdown",
   "id": "2740e624",
   "metadata": {},
   "source": [
    "## Question 3.4 (b) Answer"
   ]
  },
  {
   "cell_type": "code",
   "execution_count": 45,
   "id": "674af3f0",
   "metadata": {},
   "outputs": [],
   "source": [
    "# Question 3.4 (b) Code Here "
   ]
  },
  {
   "cell_type": "markdown",
   "id": "c0cb5a56",
   "metadata": {},
   "source": [
    "## Question 3.4 (c) Answer"
   ]
  },
  {
   "cell_type": "code",
   "execution_count": 46,
   "id": "c2fa26e6",
   "metadata": {},
   "outputs": [],
   "source": [
    "# Question 3.4 (c) Code Here "
   ]
  }
 ],
 "metadata": {
  "hide_input": false,
  "kernelspec": {
   "display_name": "Python 3",
   "language": "python",
   "name": "python3"
  },
  "language_info": {
   "codemirror_mode": {
    "name": "ipython",
    "version": 3
   },
   "file_extension": ".py",
   "mimetype": "text/x-python",
   "name": "python",
   "nbconvert_exporter": "python",
   "pygments_lexer": "ipython3",
   "version": "3.13.7"
  }
 },
 "nbformat": 4,
 "nbformat_minor": 5
}
