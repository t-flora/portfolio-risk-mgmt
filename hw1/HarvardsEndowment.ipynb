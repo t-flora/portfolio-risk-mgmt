{
 "cells": [
  {
   "cell_type": "markdown",
   "id": "a97c4251",
   "metadata": {},
   "source": [
    "# Harvard's Endowment\n",
    "\n",
    "## HBS Case\n",
    "### *The Harvard Management Company and Inflation-Indexed Bonds*"
   ]
  },
  {
   "cell_type": "markdown",
   "id": "d1614003",
   "metadata": {},
   "source": [
    "\n",
    "# Section 2: Mean-Variance Optimization (Background Information)\n",
    "\n",
    "\n",
    "## Data\n",
    "You will need the file in the github repo, `data/multi_asset_etf_data.xlsx`.\n",
    "- The time-series data gives monthly returns for the 11 asset classes and a short-term Treasury-bill fund return, (\"SHV\",) which we consider as the risk-free rate.\n",
    "- The data is provided in total returns, (in which case you should ignore the SHV column,) as well as excess returns, (where SHV has been subtracted from the other columns.)\n",
    "- These are nominal returns-they are not adjusted for inflation, and in our calculations we are not making any adjustment for inflation.\n",
    "- The exhibit data that comes via Harvard with the case is unnecessary for our analysis.\n",
    "\n",
    "\n",
    "## Model\n",
    "We are going to analyze the problem in terms of **excess** returns.\n",
    "- Thus, you will focus on the `Excess Returns` section of the lecture notes, especially the formulas on slide 50.\n",
    "- Be sure to use the`excess returns` tab of the data.\n",
    "\n",
    "\n",
    "## Format\n",
    "In the questions below, **annualize the statistics** you report.\n",
    "- Annualize the mean of monthly returns with a scaling of 12.\n",
    "- Annualize the volatility of monthly returns with a scaling of $\\sqrt{12}$\n",
    "- The Sharpe Ratio is the mean return divided by the volatility of returns. Accordingly, we can annualize the Sharpe Ratio with a scaling of $\\sqrt{12}$\n",
    "- Note that we are not scaling the raw timeseries data, just the statistics computed from it (mean, vol, Sharpe).\n",
    "\n",
    "\n",
    "## Data File\n",
    "* The case does not give time-series data, so this data has been compiled outside of the case, and it intends to represent the main asset classes under consideration via various ETFs. For details on the specific securities/indexes, check the “Info” tab of the data.\n",
    "\n",
    "\n",
    "## Risk-free rate\n",
    "* In the lecture-note we considered a constant risk-free rate. It is okay that our risk-free rate changes over time, but the assumption is that investors know it’s value one-period ahead of time. Thus, at any given point in time, it is a risk-free rate for the next period. (This is often discussed as the \"bank account\" or \"money market account\" in other settings."
   ]
  },
  {
   "cell_type": "markdown",
   "id": "d79e3770",
   "metadata": {},
   "source": [
    "---"
   ]
  },
  {
   "cell_type": "markdown",
   "id": "14cf80f5",
   "metadata": {},
   "source": [
    "# Section 2: Mean-Variance Optimization (Questions & Solutions)"
   ]
  },
  {
   "cell_type": "markdown",
   "id": "939a1ed5",
   "metadata": {},
   "source": [
    "---"
   ]
  },
  {
   "cell_type": "markdown",
   "id": "769f49be",
   "metadata": {},
   "source": [
    "## Question 2.1 - Summary Statistics\n",
    "Be sure to annualize all three statss (mean, vol, Sharpe).\n",
    "* mean is scaled by `12`\n",
    "* vol is scaled by `sqrt(12)`\n",
    "* Sharpe is scaled by `sqrt(12)`\n",
    "\n",
    "(a) Calculate and display the mean and volatility of each asset’s excess return. (Recall we use volatility to refer to standard deviation.)\n",
    "\n",
    "(b) Which assets have the best and worst Sharpe ratios? Recall that the Sharpe Ratio is simply the ratio of the mean-to-volatility of excess returns:\n",
    "$$\\text{sharpe ratio of investment }i = \\frac{\\mu_i}{\\sigma_i}$$"
   ]
  },
  {
   "cell_type": "markdown",
   "id": "7c762af4",
   "metadata": {},
   "source": [
    "## Question 2.1 (a) Answer"
   ]
  },
  {
   "cell_type": "code",
   "execution_count": 7,
   "id": "4657b1f2",
   "metadata": {},
   "outputs": [
    {
     "ename": "FileNotFoundError",
     "evalue": "[Errno 2] No such file or directory: '../portfolio-risk-mgmt/data/multi_asset_etf_data.xlsx'",
     "output_type": "error",
     "traceback": [
      "\u001b[31m---------------------------------------------------------------------------\u001b[39m",
      "\u001b[31mFileNotFoundError\u001b[39m                         Traceback (most recent call last)",
      "\u001b[36mCell\u001b[39m\u001b[36m \u001b[39m\u001b[32mIn[7]\u001b[39m\u001b[32m, line 9\u001b[39m\n\u001b[32m      6\u001b[39m file_path = \u001b[33m\"\u001b[39m\u001b[33m../portfolio-risk-mgmt/data/multi_asset_etf_data.xlsx\u001b[39m\u001b[33m\"\u001b[39m\n\u001b[32m      8\u001b[39m \u001b[38;5;66;03m# Load the Excel sheet\u001b[39;00m\n\u001b[32m----> \u001b[39m\u001b[32m9\u001b[39m df = \u001b[43mpd\u001b[49m\u001b[43m.\u001b[49m\u001b[43mread_excel\u001b[49m\u001b[43m(\u001b[49m\u001b[43mfile_path\u001b[49m\u001b[43m,\u001b[49m\u001b[43m \u001b[49m\u001b[43msheet_name\u001b[49m\u001b[43m=\u001b[49m\u001b[33;43m\"\u001b[39;49m\u001b[33;43mexcess returns\u001b[39;49m\u001b[33;43m\"\u001b[39;49m\u001b[43m,\u001b[49m\u001b[43m \u001b[49m\u001b[43mindex_col\u001b[49m\u001b[43m=\u001b[49m\u001b[32;43m0\u001b[39;49m\u001b[43m)\u001b[49m\n\u001b[32m     11\u001b[39m \u001b[38;5;66;03m# Drop empty rows/columns\u001b[39;00m\n\u001b[32m     12\u001b[39m df = df.dropna(how=\u001b[33m\"\u001b[39m\u001b[33mall\u001b[39m\u001b[33m\"\u001b[39m, axis=\u001b[32m0\u001b[39m).dropna(how=\u001b[33m\"\u001b[39m\u001b[33mall\u001b[39m\u001b[33m\"\u001b[39m, axis=\u001b[32m1\u001b[39m)\n",
      "\u001b[36mFile \u001b[39m\u001b[32mc:\\Users\\User\\AppData\\Local\\Programs\\Python\\Python313\\Lib\\site-packages\\pandas\\io\\excel\\_base.py:495\u001b[39m, in \u001b[36mread_excel\u001b[39m\u001b[34m(io, sheet_name, header, names, index_col, usecols, dtype, engine, converters, true_values, false_values, skiprows, nrows, na_values, keep_default_na, na_filter, verbose, parse_dates, date_parser, date_format, thousands, decimal, comment, skipfooter, storage_options, dtype_backend, engine_kwargs)\u001b[39m\n\u001b[32m    493\u001b[39m \u001b[38;5;28;01mif\u001b[39;00m \u001b[38;5;129;01mnot\u001b[39;00m \u001b[38;5;28misinstance\u001b[39m(io, ExcelFile):\n\u001b[32m    494\u001b[39m     should_close = \u001b[38;5;28;01mTrue\u001b[39;00m\n\u001b[32m--> \u001b[39m\u001b[32m495\u001b[39m     io = \u001b[43mExcelFile\u001b[49m\u001b[43m(\u001b[49m\n\u001b[32m    496\u001b[39m \u001b[43m        \u001b[49m\u001b[43mio\u001b[49m\u001b[43m,\u001b[49m\n\u001b[32m    497\u001b[39m \u001b[43m        \u001b[49m\u001b[43mstorage_options\u001b[49m\u001b[43m=\u001b[49m\u001b[43mstorage_options\u001b[49m\u001b[43m,\u001b[49m\n\u001b[32m    498\u001b[39m \u001b[43m        \u001b[49m\u001b[43mengine\u001b[49m\u001b[43m=\u001b[49m\u001b[43mengine\u001b[49m\u001b[43m,\u001b[49m\n\u001b[32m    499\u001b[39m \u001b[43m        \u001b[49m\u001b[43mengine_kwargs\u001b[49m\u001b[43m=\u001b[49m\u001b[43mengine_kwargs\u001b[49m\u001b[43m,\u001b[49m\n\u001b[32m    500\u001b[39m \u001b[43m    \u001b[49m\u001b[43m)\u001b[49m\n\u001b[32m    501\u001b[39m \u001b[38;5;28;01melif\u001b[39;00m engine \u001b[38;5;129;01mand\u001b[39;00m engine != io.engine:\n\u001b[32m    502\u001b[39m     \u001b[38;5;28;01mraise\u001b[39;00m \u001b[38;5;167;01mValueError\u001b[39;00m(\n\u001b[32m    503\u001b[39m         \u001b[33m\"\u001b[39m\u001b[33mEngine should not be specified when passing \u001b[39m\u001b[33m\"\u001b[39m\n\u001b[32m    504\u001b[39m         \u001b[33m\"\u001b[39m\u001b[33man ExcelFile - ExcelFile already has the engine set\u001b[39m\u001b[33m\"\u001b[39m\n\u001b[32m    505\u001b[39m     )\n",
      "\u001b[36mFile \u001b[39m\u001b[32mc:\\Users\\User\\AppData\\Local\\Programs\\Python\\Python313\\Lib\\site-packages\\pandas\\io\\excel\\_base.py:1550\u001b[39m, in \u001b[36mExcelFile.__init__\u001b[39m\u001b[34m(self, path_or_buffer, engine, storage_options, engine_kwargs)\u001b[39m\n\u001b[32m   1548\u001b[39m     ext = \u001b[33m\"\u001b[39m\u001b[33mxls\u001b[39m\u001b[33m\"\u001b[39m\n\u001b[32m   1549\u001b[39m \u001b[38;5;28;01melse\u001b[39;00m:\n\u001b[32m-> \u001b[39m\u001b[32m1550\u001b[39m     ext = \u001b[43minspect_excel_format\u001b[49m\u001b[43m(\u001b[49m\n\u001b[32m   1551\u001b[39m \u001b[43m        \u001b[49m\u001b[43mcontent_or_path\u001b[49m\u001b[43m=\u001b[49m\u001b[43mpath_or_buffer\u001b[49m\u001b[43m,\u001b[49m\u001b[43m \u001b[49m\u001b[43mstorage_options\u001b[49m\u001b[43m=\u001b[49m\u001b[43mstorage_options\u001b[49m\n\u001b[32m   1552\u001b[39m \u001b[43m    \u001b[49m\u001b[43m)\u001b[49m\n\u001b[32m   1553\u001b[39m     \u001b[38;5;28;01mif\u001b[39;00m ext \u001b[38;5;129;01mis\u001b[39;00m \u001b[38;5;28;01mNone\u001b[39;00m:\n\u001b[32m   1554\u001b[39m         \u001b[38;5;28;01mraise\u001b[39;00m \u001b[38;5;167;01mValueError\u001b[39;00m(\n\u001b[32m   1555\u001b[39m             \u001b[33m\"\u001b[39m\u001b[33mExcel file format cannot be determined, you must specify \u001b[39m\u001b[33m\"\u001b[39m\n\u001b[32m   1556\u001b[39m             \u001b[33m\"\u001b[39m\u001b[33man engine manually.\u001b[39m\u001b[33m\"\u001b[39m\n\u001b[32m   1557\u001b[39m         )\n",
      "\u001b[36mFile \u001b[39m\u001b[32mc:\\Users\\User\\AppData\\Local\\Programs\\Python\\Python313\\Lib\\site-packages\\pandas\\io\\excel\\_base.py:1402\u001b[39m, in \u001b[36minspect_excel_format\u001b[39m\u001b[34m(content_or_path, storage_options)\u001b[39m\n\u001b[32m   1399\u001b[39m \u001b[38;5;28;01mif\u001b[39;00m \u001b[38;5;28misinstance\u001b[39m(content_or_path, \u001b[38;5;28mbytes\u001b[39m):\n\u001b[32m   1400\u001b[39m     content_or_path = BytesIO(content_or_path)\n\u001b[32m-> \u001b[39m\u001b[32m1402\u001b[39m \u001b[38;5;28;01mwith\u001b[39;00m \u001b[43mget_handle\u001b[49m\u001b[43m(\u001b[49m\n\u001b[32m   1403\u001b[39m \u001b[43m    \u001b[49m\u001b[43mcontent_or_path\u001b[49m\u001b[43m,\u001b[49m\u001b[43m \u001b[49m\u001b[33;43m\"\u001b[39;49m\u001b[33;43mrb\u001b[39;49m\u001b[33;43m\"\u001b[39;49m\u001b[43m,\u001b[49m\u001b[43m \u001b[49m\u001b[43mstorage_options\u001b[49m\u001b[43m=\u001b[49m\u001b[43mstorage_options\u001b[49m\u001b[43m,\u001b[49m\u001b[43m \u001b[49m\u001b[43mis_text\u001b[49m\u001b[43m=\u001b[49m\u001b[38;5;28;43;01mFalse\u001b[39;49;00m\n\u001b[32m   1404\u001b[39m \u001b[43m\u001b[49m\u001b[43m)\u001b[49m \u001b[38;5;28;01mas\u001b[39;00m handle:\n\u001b[32m   1405\u001b[39m     stream = handle.handle\n\u001b[32m   1406\u001b[39m     stream.seek(\u001b[32m0\u001b[39m)\n",
      "\u001b[36mFile \u001b[39m\u001b[32mc:\\Users\\User\\AppData\\Local\\Programs\\Python\\Python313\\Lib\\site-packages\\pandas\\io\\common.py:882\u001b[39m, in \u001b[36mget_handle\u001b[39m\u001b[34m(path_or_buf, mode, encoding, compression, memory_map, is_text, errors, storage_options)\u001b[39m\n\u001b[32m    873\u001b[39m         handle = \u001b[38;5;28mopen\u001b[39m(\n\u001b[32m    874\u001b[39m             handle,\n\u001b[32m    875\u001b[39m             ioargs.mode,\n\u001b[32m   (...)\u001b[39m\u001b[32m    878\u001b[39m             newline=\u001b[33m\"\u001b[39m\u001b[33m\"\u001b[39m,\n\u001b[32m    879\u001b[39m         )\n\u001b[32m    880\u001b[39m     \u001b[38;5;28;01melse\u001b[39;00m:\n\u001b[32m    881\u001b[39m         \u001b[38;5;66;03m# Binary mode\u001b[39;00m\n\u001b[32m--> \u001b[39m\u001b[32m882\u001b[39m         handle = \u001b[38;5;28;43mopen\u001b[39;49m\u001b[43m(\u001b[49m\u001b[43mhandle\u001b[49m\u001b[43m,\u001b[49m\u001b[43m \u001b[49m\u001b[43mioargs\u001b[49m\u001b[43m.\u001b[49m\u001b[43mmode\u001b[49m\u001b[43m)\u001b[49m\n\u001b[32m    883\u001b[39m     handles.append(handle)\n\u001b[32m    885\u001b[39m \u001b[38;5;66;03m# Convert BytesIO or file objects passed with an encoding\u001b[39;00m\n",
      "\u001b[31mFileNotFoundError\u001b[39m: [Errno 2] No such file or directory: '../portfolio-risk-mgmt/data/multi_asset_etf_data.xlsx'"
     ]
    }
   ],
   "source": [
    "# Question 2.1 (a) - ordered by mean return\n",
    "\n",
    "import pandas as pd\n",
    "import numpy as np\n",
    "\n",
    "file_path = \"../portfolio-risk-mgmt/data/multi_asset_etf_data.xlsx\"\n",
    "\n",
    "# Load the Excel sheet\n",
    "df = pd.read_excel(file_path, sheet_name=\"excess returns\", index_col=0)\n",
    "\n",
    "# Drop empty rows/columns\n",
    "df = df.dropna(how=\"all\", axis=0).dropna(how=\"all\", axis=1)\n",
    "\n",
    "# Compute monthly stats\n",
    "mean_monthly = df.mean(numeric_only=True)\n",
    "vol_monthly  = df.std(numeric_only=True)\n",
    "\n",
    "# Annualise\n",
    "mean_annual = mean_monthly * 12\n",
    "vol_annual  = vol_monthly * np.sqrt(12)\n",
    "\n",
    "# Create results DataFrame\n",
    "results = pd.DataFrame({\n",
    "    \"Mean (annualised)\": mean_annual,\n",
    "    \"Volatility (annualised)\": vol_annual\n",
    "}).round(4)\n",
    "\n",
    "# Sort by mean return (highest to lowest)\n",
    "results_sorted = results.sort_values(\"Mean (annualised)\", ascending=False)\n",
    "\n",
    "results_sorted\n",
    "\n"
   ]
  },
  {
   "cell_type": "markdown",
   "id": "502dfbe3",
   "metadata": {},
   "source": [
    "## Question 2.1 (b) Answer"
   ]
  },
  {
   "cell_type": "code",
   "execution_count": null,
   "id": "0d359402",
   "metadata": {},
   "outputs": [
    {
     "data": {
      "text/html": [
       "<div>\n",
       "<style scoped>\n",
       "    .dataframe tbody tr th:only-of-type {\n",
       "        vertical-align: middle;\n",
       "    }\n",
       "\n",
       "    .dataframe tbody tr th {\n",
       "        vertical-align: top;\n",
       "    }\n",
       "\n",
       "    .dataframe thead th {\n",
       "        text-align: right;\n",
       "    }\n",
       "</style>\n",
       "<table border=\"1\" class=\"dataframe\">\n",
       "  <thead>\n",
       "    <tr style=\"text-align: right;\">\n",
       "      <th></th>\n",
       "      <th>Mean (annualised)</th>\n",
       "      <th>Volatility (annualised)</th>\n",
       "      <th>Sharpe Ratio (annualised)</th>\n",
       "    </tr>\n",
       "  </thead>\n",
       "  <tbody>\n",
       "    <tr>\n",
       "      <th>SPY</th>\n",
       "      <td>0.1281</td>\n",
       "      <td>0.1428</td>\n",
       "      <td>0.8971</td>\n",
       "    </tr>\n",
       "    <tr>\n",
       "      <th>HYG</th>\n",
       "      <td>0.0414</td>\n",
       "      <td>0.0759</td>\n",
       "      <td>0.5449</td>\n",
       "    </tr>\n",
       "    <tr>\n",
       "      <th>IYR</th>\n",
       "      <td>0.0749</td>\n",
       "      <td>0.1687</td>\n",
       "      <td>0.4441</td>\n",
       "    </tr>\n",
       "    <tr>\n",
       "      <th>PSP</th>\n",
       "      <td>0.0926</td>\n",
       "      <td>0.2134</td>\n",
       "      <td>0.4338</td>\n",
       "    </tr>\n",
       "    <tr>\n",
       "      <th>EFA</th>\n",
       "      <td>0.0618</td>\n",
       "      <td>0.1509</td>\n",
       "      <td>0.4094</td>\n",
       "    </tr>\n",
       "    <tr>\n",
       "      <th>TIP</th>\n",
       "      <td>0.0205</td>\n",
       "      <td>0.0511</td>\n",
       "      <td>0.4011</td>\n",
       "    </tr>\n",
       "    <tr>\n",
       "      <th>QAI</th>\n",
       "      <td>0.0193</td>\n",
       "      <td>0.0491</td>\n",
       "      <td>0.3938</td>\n",
       "    </tr>\n",
       "    <tr>\n",
       "      <th>IEF</th>\n",
       "      <td>0.0164</td>\n",
       "      <td>0.0634</td>\n",
       "      <td>0.2586</td>\n",
       "    </tr>\n",
       "    <tr>\n",
       "      <th>EEM</th>\n",
       "      <td>0.0293</td>\n",
       "      <td>0.1762</td>\n",
       "      <td>0.1665</td>\n",
       "    </tr>\n",
       "    <tr>\n",
       "      <th>DBC</th>\n",
       "      <td>-0.0053</td>\n",
       "      <td>0.1666</td>\n",
       "      <td>-0.0318</td>\n",
       "    </tr>\n",
       "    <tr>\n",
       "      <th>BWX</th>\n",
       "      <td>-0.0077</td>\n",
       "      <td>0.0828</td>\n",
       "      <td>-0.0932</td>\n",
       "    </tr>\n",
       "  </tbody>\n",
       "</table>\n",
       "</div>"
      ],
      "text/plain": [
       "     Mean (annualised)  Volatility (annualised)  Sharpe Ratio (annualised)\n",
       "SPY             0.1281                   0.1428                     0.8971\n",
       "HYG             0.0414                   0.0759                     0.5449\n",
       "IYR             0.0749                   0.1687                     0.4441\n",
       "PSP             0.0926                   0.2134                     0.4338\n",
       "EFA             0.0618                   0.1509                     0.4094\n",
       "TIP             0.0205                   0.0511                     0.4011\n",
       "QAI             0.0193                   0.0491                     0.3938\n",
       "IEF             0.0164                   0.0634                     0.2586\n",
       "EEM             0.0293                   0.1762                     0.1665\n",
       "DBC            -0.0053                   0.1666                    -0.0318\n",
       "BWX            -0.0077                   0.0828                    -0.0932"
      ]
     },
     "execution_count": 71,
     "metadata": {},
     "output_type": "execute_result"
    }
   ],
   "source": [
    "# Question 2.1 (b) Code Here\n",
    "\n",
    "# Annualised Sharpe\n",
    "sharpe_annual = (mean_monthly / vol_monthly) * np.sqrt(12)\n",
    "\n",
    "# Tidy\n",
    "sharpe_annual = sharpe_annual.replace([np.inf, -np.inf], np.nan).dropna()\n",
    "\n",
    "# Add Sharpe to table \n",
    "results[\"Sharpe Ratio (annualised)\"] = sharpe_annual\n",
    "results = results.round(4)\n",
    "\n",
    "# Order results by Sharpe ratio (best to worst)\n",
    "results_sorted = results.sort_values(\"Sharpe Ratio (annualised)\", ascending=False)\n",
    "\n",
    "results_sorted\n",
    "\n"
   ]
  },
  {
   "cell_type": "markdown",
   "id": "c545bd1e",
   "metadata": {},
   "source": [
    "From the calculated annualised Sharpe ratios, the asset with the best risk-adjusted performance in our sample is SPY, which delivered a Sharpe ratio of 0.897. \n",
    "\n",
    "This reflects both strong average excess returns (12.8% annually) and moderate volatility (14.3%). \n",
    "\n",
    "At the other end of the spectrum, the asset with the worst risk-adjusted performance is BWX, with a Sharpe ratio of –0.093, driven by negative average returns (–0.8%) despite moderate volatility (8.3%). \n",
    "\n",
    "Overall, this ranking highlights that while some assets such as HYG (0.545) and IYR (0.444) also achieved solid risk-adjusted outcomes, SPY stands out as the most attractive investment on a Sharpe basis, whereas BWX was the weakest performer."
   ]
  },
  {
   "cell_type": "markdown",
   "id": "c8031fe4",
   "metadata": {},
   "source": [
    "---"
   ]
  },
  {
   "cell_type": "markdown",
   "id": "046fcea3",
   "metadata": {},
   "source": [
    "## Question 2.2 - Descriptive Analysis\n",
    "(a) Calculate the correlation matrix of the returns. Which pair has the highest correlation? And the lowest?\n",
    "\n",
    "(b) How well have TIPS done in our sample? Have they outperformed domestic bonds? Foreign bonds?"
   ]
  },
  {
   "cell_type": "markdown",
   "id": "bbfe4ec0",
   "metadata": {},
   "source": [
    "## Question 2.2 (a) Answer"
   ]
  },
  {
   "cell_type": "code",
   "execution_count": null,
   "id": "c3ae7c0a",
   "metadata": {},
   "outputs": [
    {
     "data": {
      "text/html": [
       "<div>\n",
       "<style scoped>\n",
       "    .dataframe tbody tr th:only-of-type {\n",
       "        vertical-align: middle;\n",
       "    }\n",
       "\n",
       "    .dataframe tbody tr th {\n",
       "        vertical-align: top;\n",
       "    }\n",
       "\n",
       "    .dataframe thead th {\n",
       "        text-align: right;\n",
       "    }\n",
       "</style>\n",
       "<table border=\"1\" class=\"dataframe\">\n",
       "  <thead>\n",
       "    <tr style=\"text-align: right;\">\n",
       "      <th></th>\n",
       "      <th>BWX</th>\n",
       "      <th>DBC</th>\n",
       "      <th>EEM</th>\n",
       "      <th>EFA</th>\n",
       "      <th>HYG</th>\n",
       "      <th>IEF</th>\n",
       "      <th>IYR</th>\n",
       "      <th>PSP</th>\n",
       "      <th>QAI</th>\n",
       "      <th>SPY</th>\n",
       "      <th>TIP</th>\n",
       "    </tr>\n",
       "  </thead>\n",
       "  <tbody>\n",
       "    <tr>\n",
       "      <th>BWX</th>\n",
       "      <td>1.000</td>\n",
       "      <td>0.191</td>\n",
       "      <td>0.622</td>\n",
       "      <td>0.603</td>\n",
       "      <td>0.603</td>\n",
       "      <td>0.581</td>\n",
       "      <td>0.553</td>\n",
       "      <td>0.527</td>\n",
       "      <td>0.630</td>\n",
       "      <td>0.440</td>\n",
       "      <td>0.675</td>\n",
       "    </tr>\n",
       "    <tr>\n",
       "      <th>DBC</th>\n",
       "      <td>0.191</td>\n",
       "      <td>1.000</td>\n",
       "      <td>0.512</td>\n",
       "      <td>0.501</td>\n",
       "      <td>0.462</td>\n",
       "      <td>-0.300</td>\n",
       "      <td>0.281</td>\n",
       "      <td>0.453</td>\n",
       "      <td>0.475</td>\n",
       "      <td>0.432</td>\n",
       "      <td>0.109</td>\n",
       "    </tr>\n",
       "    <tr>\n",
       "      <th>EEM</th>\n",
       "      <td>0.622</td>\n",
       "      <td>0.512</td>\n",
       "      <td>1.000</td>\n",
       "      <td>0.820</td>\n",
       "      <td>0.691</td>\n",
       "      <td>0.027</td>\n",
       "      <td>0.584</td>\n",
       "      <td>0.750</td>\n",
       "      <td>0.775</td>\n",
       "      <td>0.688</td>\n",
       "      <td>0.379</td>\n",
       "    </tr>\n",
       "    <tr>\n",
       "      <th>EFA</th>\n",
       "      <td>0.603</td>\n",
       "      <td>0.501</td>\n",
       "      <td>0.820</td>\n",
       "      <td>1.000</td>\n",
       "      <td>0.787</td>\n",
       "      <td>0.043</td>\n",
       "      <td>0.699</td>\n",
       "      <td>0.895</td>\n",
       "      <td>0.848</td>\n",
       "      <td>0.846</td>\n",
       "      <td>0.395</td>\n",
       "    </tr>\n",
       "    <tr>\n",
       "      <th>HYG</th>\n",
       "      <td>0.603</td>\n",
       "      <td>0.462</td>\n",
       "      <td>0.691</td>\n",
       "      <td>0.787</td>\n",
       "      <td>1.000</td>\n",
       "      <td>0.187</td>\n",
       "      <td>0.739</td>\n",
       "      <td>0.812</td>\n",
       "      <td>0.808</td>\n",
       "      <td>0.794</td>\n",
       "      <td>0.539</td>\n",
       "    </tr>\n",
       "    <tr>\n",
       "      <th>IEF</th>\n",
       "      <td>0.581</td>\n",
       "      <td>-0.300</td>\n",
       "      <td>0.027</td>\n",
       "      <td>0.043</td>\n",
       "      <td>0.187</td>\n",
       "      <td>1.000</td>\n",
       "      <td>0.317</td>\n",
       "      <td>0.022</td>\n",
       "      <td>0.180</td>\n",
       "      <td>0.001</td>\n",
       "      <td>0.754</td>\n",
       "    </tr>\n",
       "    <tr>\n",
       "      <th>IYR</th>\n",
       "      <td>0.553</td>\n",
       "      <td>0.281</td>\n",
       "      <td>0.584</td>\n",
       "      <td>0.699</td>\n",
       "      <td>0.739</td>\n",
       "      <td>0.317</td>\n",
       "      <td>1.000</td>\n",
       "      <td>0.750</td>\n",
       "      <td>0.719</td>\n",
       "      <td>0.755</td>\n",
       "      <td>0.599</td>\n",
       "    </tr>\n",
       "    <tr>\n",
       "      <th>PSP</th>\n",
       "      <td>0.527</td>\n",
       "      <td>0.453</td>\n",
       "      <td>0.750</td>\n",
       "      <td>0.895</td>\n",
       "      <td>0.812</td>\n",
       "      <td>0.022</td>\n",
       "      <td>0.750</td>\n",
       "      <td>1.000</td>\n",
       "      <td>0.873</td>\n",
       "      <td>0.892</td>\n",
       "      <td>0.408</td>\n",
       "    </tr>\n",
       "    <tr>\n",
       "      <th>QAI</th>\n",
       "      <td>0.630</td>\n",
       "      <td>0.475</td>\n",
       "      <td>0.775</td>\n",
       "      <td>0.848</td>\n",
       "      <td>0.808</td>\n",
       "      <td>0.180</td>\n",
       "      <td>0.719</td>\n",
       "      <td>0.873</td>\n",
       "      <td>1.000</td>\n",
       "      <td>0.867</td>\n",
       "      <td>0.517</td>\n",
       "    </tr>\n",
       "    <tr>\n",
       "      <th>SPY</th>\n",
       "      <td>0.440</td>\n",
       "      <td>0.432</td>\n",
       "      <td>0.688</td>\n",
       "      <td>0.846</td>\n",
       "      <td>0.794</td>\n",
       "      <td>0.001</td>\n",
       "      <td>0.755</td>\n",
       "      <td>0.892</td>\n",
       "      <td>0.867</td>\n",
       "      <td>1.000</td>\n",
       "      <td>0.382</td>\n",
       "    </tr>\n",
       "    <tr>\n",
       "      <th>TIP</th>\n",
       "      <td>0.675</td>\n",
       "      <td>0.109</td>\n",
       "      <td>0.379</td>\n",
       "      <td>0.395</td>\n",
       "      <td>0.539</td>\n",
       "      <td>0.754</td>\n",
       "      <td>0.599</td>\n",
       "      <td>0.408</td>\n",
       "      <td>0.517</td>\n",
       "      <td>0.382</td>\n",
       "      <td>1.000</td>\n",
       "    </tr>\n",
       "  </tbody>\n",
       "</table>\n",
       "</div>"
      ],
      "text/plain": [
       "       BWX    DBC    EEM    EFA    HYG    IEF    IYR    PSP    QAI    SPY  \\\n",
       "BWX  1.000  0.191  0.622  0.603  0.603  0.581  0.553  0.527  0.630  0.440   \n",
       "DBC  0.191  1.000  0.512  0.501  0.462 -0.300  0.281  0.453  0.475  0.432   \n",
       "EEM  0.622  0.512  1.000  0.820  0.691  0.027  0.584  0.750  0.775  0.688   \n",
       "EFA  0.603  0.501  0.820  1.000  0.787  0.043  0.699  0.895  0.848  0.846   \n",
       "HYG  0.603  0.462  0.691  0.787  1.000  0.187  0.739  0.812  0.808  0.794   \n",
       "IEF  0.581 -0.300  0.027  0.043  0.187  1.000  0.317  0.022  0.180  0.001   \n",
       "IYR  0.553  0.281  0.584  0.699  0.739  0.317  1.000  0.750  0.719  0.755   \n",
       "PSP  0.527  0.453  0.750  0.895  0.812  0.022  0.750  1.000  0.873  0.892   \n",
       "QAI  0.630  0.475  0.775  0.848  0.808  0.180  0.719  0.873  1.000  0.867   \n",
       "SPY  0.440  0.432  0.688  0.846  0.794  0.001  0.755  0.892  0.867  1.000   \n",
       "TIP  0.675  0.109  0.379  0.395  0.539  0.754  0.599  0.408  0.517  0.382   \n",
       "\n",
       "       TIP  \n",
       "BWX  0.675  \n",
       "DBC  0.109  \n",
       "EEM  0.379  \n",
       "EFA  0.395  \n",
       "HYG  0.539  \n",
       "IEF  0.754  \n",
       "IYR  0.599  \n",
       "PSP  0.408  \n",
       "QAI  0.517  \n",
       "SPY  0.382  \n",
       "TIP  1.000  "
      ]
     },
     "metadata": {},
     "output_type": "display_data"
    },
    {
     "name": "stdout",
     "output_type": "stream",
     "text": [
      "\n",
      "Greatest Positive Correlation: EFA & PSP (0.895)\n",
      "Greatest Negative Correlation:  DBC & IEF (-0.300)\n",
      "Least Correlated Pair: IEF & SPY (0.001)\n"
     ]
    }
   ],
   "source": [
    "# Question 2.2 (a) Code Here\n",
    "\n",
    "# Correlation matrix of monthly excess returns\n",
    "corr_matrix = df.corr()\n",
    "\n",
    "# Round for readability\n",
    "corr_matrix_rounded = corr_matrix.round(3)\n",
    "\n",
    "# Find highest and lowest correlation\n",
    "# Stack the matrix into pairs, dropping self-correlations\n",
    "corr_pairs = corr_matrix.stack().reset_index()\n",
    "corr_pairs.columns = [\"Asset1\", \"Asset2\", \"Correlation\"]\n",
    "\n",
    "# Keep only unique pairs\n",
    "corr_pairs = corr_pairs[corr_pairs[\"Asset1\"] < corr_pairs[\"Asset2\"]]\n",
    "\n",
    "# Identify max and min correlation pairs\n",
    "max_corr = corr_pairs.loc[corr_pairs[\"Correlation\"].idxmax()]\n",
    "min_corr = corr_pairs.loc[corr_pairs[\"Correlation\"].idxmin()]\n",
    "\n",
    "display(corr_matrix_rounded)\n",
    "print(f\"\\nGreatest Positive Correlation: {max_corr['Asset1']} & {max_corr['Asset2']} ({max_corr['Correlation']:.3f})\")\n",
    "print(f\"Greatest Negative Correlation:  {min_corr['Asset1']} & {min_corr['Asset2']} ({min_corr['Correlation']:.3f})\")\n",
    "\n",
    "# Find pair with correlation closest to zero\n",
    "min_abs_corr = corr_pairs.iloc[(corr_pairs[\"Correlation\"].abs()).argmin()]\n",
    "\n",
    "print(f\"Least Correlated Pair: {min_abs_corr['Asset1']} & {min_abs_corr['Asset2']} ({min_abs_corr['Correlation']:.3f})\")\n",
    "\n"
   ]
  },
  {
   "cell_type": "markdown",
   "id": "1eb4d72d",
   "metadata": {},
   "source": [
    "## Question 2.2 (b) Answer"
   ]
  },
  {
   "cell_type": "markdown",
   "id": "76048013",
   "metadata": {},
   "source": [
    "In our sample, TIPS (TIP) delivered an annualised excess return of roughly 2.1%, with relatively low annualised volatility of about 5.1%. \n",
    "\n",
    "This combination translates into a Sharpe ratio near 0.40, signalling that while the raw return is modest, the payoff per unit of risk is favourable compared to several alternatives.\n",
    "\n",
    "Relative to domestic Treasuries (IEF), TIPS performed better on all fronts: IEF generated an annualised return of about 1.6% with higher volatility of 6.3%, producing a weaker Sharpe ratio of roughly 0.30. \n",
    "\n",
    "This means that TIPS not only offered higher average returns but also did so with lower risk, strengthening their appeal in the domestic fixed-income universe.\n",
    "\n",
    "Relative to high-yield corporate bonds (HYG), TIPS lagged in raw returns (HYG delivered 4.1%) but carried much lower volatility (7.6% for HYG versus 5.1% for TIP). \n",
    "\n",
    "Consequently, the Sharpe ratio of HYG (~0.55) edged out that of TIPS, showing that investors in high yield were compensated more per unit of risk, even though the risk profile itself was much higher.\n",
    "\n",
    "Relative to foreign bonds (BWX), TIPS clearly outperformed. BWX generated negative excess returns (about –0.8%) with volatility over 8.2%, resulting in a negative Sharpe ratio. \n",
    "\n",
    "This underscores that TIPS dominated foreign bonds both in raw performance and on a risk-adjusted basis."
   ]
  },
  {
   "cell_type": "markdown",
   "id": "44ba5d56",
   "metadata": {},
   "source": [
    "---"
   ]
  },
  {
   "cell_type": "markdown",
   "id": "67887397",
   "metadata": {},
   "source": [
    "## Question 2.3 - The MV Frontier\n",
    "Compute and display the weights of the tangency portfolios: $w_{\\tan}$.\n",
    "\n",
    "(a) Does the ranking of weights align with the ranking of Sharpe ratios?\n",
    "\n",
    "(b) Compute the mean, volatility, and Sharpe ratio for the tangency portfolio corresponding to\n",
    "$w_{\\tan}$."
   ]
  },
  {
   "cell_type": "markdown",
   "id": "0208afac",
   "metadata": {},
   "source": [
    "## Question 2.3 (a) Answer"
   ]
  },
  {
   "cell_type": "code",
   "execution_count": 8,
   "id": "5f3118bf",
   "metadata": {},
   "outputs": [
    {
     "name": "stdout",
     "output_type": "stream",
     "text": [
      "\n",
      "Tangency Portfolio weights (rf=0.00%):\n",
      " BWX    -6.117430\n",
      "DBC    -0.112341\n",
      "EEM     0.853591\n",
      "EFA     0.385285\n",
      "HYG     2.634922\n",
      "IEF     9.010591\n",
      "IYR    -2.382146\n",
      "PSP    -1.716842\n",
      "QAI   -13.616007\n",
      "SPY    10.729782\n",
      "TIP     1.330595\n",
      "dtype: float64\n"
     ]
    }
   ],
   "source": [
    "# Question 2.3 (a) Code Here\n",
    "import numpy as np\n",
    "import pandas as pd\n",
    "file_path = '../data/multi_asset_etf_data.xlsx'\n",
    "df = pd.read_excel(file_path, sheet_name=\"excess returns\", index_col=\"Date\")\n",
    "means = df.mean() \n",
    "cov_matrix = df.cov()\n",
    "freq = 12\n",
    "mu = means.values * freq\n",
    "Sigma = cov_matrix.values * freq\n",
    "ones = np.ones(len(mu))\n",
    "\n",
    "invSigma = np.linalg.inv(Sigma)\n",
    "A = ones @ invSigma @ ones\n",
    "B = ones @ invSigma @ mu\n",
    "C = mu   @ invSigma @ mu\n",
    "D = A*C - B**2\n",
    "\n",
    "# Tangency Portfolio, given rf\n",
    "def tangency_weights(rf: float = 0.0) -> np.ndarray:\n",
    "    # w ∝ invSigma @ (mu - rf*1)\n",
    "    z = invSigma @ (mu - rf*ones)\n",
    "    return z / (ones @ z)\n",
    "# Compute Tangency Portfolio\n",
    "rf = 0.00\n",
    "w_tan = tangency_weights(rf=rf)\n",
    "\n",
    "print(f\"\\nTangency Portfolio weights (rf={rf*100:.2f}%):\\n\", pd.Series(w_tan, index=df.columns))\n"
   ]
  },
  {
   "cell_type": "markdown",
   "id": "d54656cb",
   "metadata": {},
   "source": [
    "The ranking of weights does not align with the ranking of Sharpe ratios. For example, IEF weights second, but ranks 8th of Sharpe ratios."
   ]
  },
  {
   "cell_type": "markdown",
   "id": "bebe6f6d",
   "metadata": {},
   "source": [
    "## Question 2.3 (b) Answer"
   ]
  },
  {
   "cell_type": "code",
   "execution_count": null,
   "id": "0922d36f",
   "metadata": {},
   "outputs": [
    {
     "name": "stdout",
     "output_type": "stream",
     "text": [
      "Tangency Portfolio: mean return=1.1551, volatility=0.7444, Sharpe Ratio=1.5517\n"
     ]
    }
   ],
   "source": [
    "# Question 2.3 (b) Code Here\n",
    "r_tan = w_tan @ mu\n",
    "s_tan = np.sqrt(w_tan @ Sigma @ w_tan)\n",
    "print(f\"Tangency Portfolio: mean return={r_tan:.4f}, volatility={s_tan:.4f}, Sharpe Ratio={(r_tan-rf)/s_tan:.4f}\")"
   ]
  },
  {
   "cell_type": "markdown",
   "id": "9671199c",
   "metadata": {},
   "source": [
    "---"
   ]
  },
  {
   "cell_type": "markdown",
   "id": "f399c75e",
   "metadata": {},
   "source": [
    "## Question 2.4: TIPS\n",
    "Assess how much the tangency portfolio (and performance) change if...\n",
    "\n",
    "(a) TIPS are dropped completely from the investment set.\n",
    "\n",
    "(b) The expected excess return to TIPS is adjusted to be 0.0012 higher than what the historic sample shows.\n",
    "\n",
    "Based on the analysis, do TIPS seem to expand the investment opportunity set, implying that Harvard should consider them as a separate asset?"
   ]
  },
  {
   "cell_type": "markdown",
   "id": "3c31bd13",
   "metadata": {},
   "source": [
    "## Question 2.4 (a) Answer"
   ]
  },
  {
   "cell_type": "code",
   "execution_count": null,
   "id": "1e39f136",
   "metadata": {},
   "outputs": [],
   "source": [
    "# Question 2.4 (a) Code Here"
   ]
  },
  {
   "cell_type": "markdown",
   "id": "30c0f5bd",
   "metadata": {},
   "source": [
    "## Question 2.4 (b) Answer"
   ]
  },
  {
   "cell_type": "code",
   "execution_count": null,
   "id": "17d49cc5",
   "metadata": {},
   "outputs": [],
   "source": [
    "# Question 2.4 (b) Code Here"
   ]
  },
  {
   "cell_type": "markdown",
   "id": "a8609d16",
   "metadata": {},
   "source": [
    "\n",
    "***"
   ]
  },
  {
   "cell_type": "markdown",
   "id": "c59490d8",
   "metadata": {},
   "source": [
    "# Section 3: Allocations (Background Information)"
   ]
  },
  {
   "cell_type": "markdown",
   "id": "8e5eb238",
   "metadata": {},
   "source": [
    "\n",
    "* Continue with the same data file as the previous section.\n",
    "\n",
    "* Suppose the investor has a targeted mean excess return (per month) of $\\tilde{\\mu}_{\\text{port}}\n",
    "$ = 0.01."
   ]
  },
  {
   "cell_type": "markdown",
   "id": "2645f82c",
   "metadata": {},
   "source": [
    "---"
   ]
  },
  {
   "cell_type": "markdown",
   "id": "9379007e",
   "metadata": {},
   "source": [
    "# Section 3: Allocations (Questions & Solutions)"
   ]
  },
  {
   "cell_type": "markdown",
   "id": "1d46b44c",
   "metadata": {},
   "source": [
    "\n",
    "Build the following portfolios:"
   ]
  },
  {
   "cell_type": "markdown",
   "id": "ac352ed1",
   "metadata": {},
   "source": [
    "---"
   ]
  },
  {
   "cell_type": "markdown",
   "id": "5c28ed00",
   "metadata": {},
   "source": [
    "## Question 3.1 - Equally-weighted (EW)\n",
    "Rescale the entire weighting vector to have target mean $\\tilde{\\mu}_{\\text{port}}\n",
    "$. \n",
    "\n",
    "Thus, the $i$ element of the weight vector is,\n",
    "\n",
    "$\\mathbf{w}_i^{\\mathrm{EW}} = \\frac{1}{n}$"
   ]
  },
  {
   "cell_type": "code",
   "execution_count": 41,
   "id": "4c7c0fc5",
   "metadata": {},
   "outputs": [],
   "source": [
    "# Question 3.1 Code Here"
   ]
  },
  {
   "cell_type": "markdown",
   "id": "7ebfbc2e",
   "metadata": {},
   "source": [
    "---"
   ]
  },
  {
   "cell_type": "markdown",
   "id": "8d64ab12",
   "metadata": {},
   "source": [
    "## Question 3.2 - “Risk-parity” (RP)\n",
    "Risk-parity is a term used in a variety of ways, but here we have in mind setting the weight of the portfolio to be proportional to the inverse of its full-sample variance estimate. Thus, the $i$ element of the weight vector is,\n",
    "\n",
    "$$\\mathbf{w}_i^{\\mathrm{RP}} = \\frac{1}{\\sigma_i^2}$$"
   ]
  },
  {
   "cell_type": "code",
   "execution_count": 42,
   "id": "e557d5d3",
   "metadata": {},
   "outputs": [],
   "source": [
    "# Question 3.2 Here "
   ]
  },
  {
   "cell_type": "markdown",
   "id": "bb13a7d9",
   "metadata": {},
   "source": [
    "---"
   ]
  },
  {
   "cell_type": "markdown",
   "id": "52dc141a",
   "metadata": {},
   "source": [
    "## Question 3.3 - Mean-Variance (MV)\n",
    "As described in `Section 2`."
   ]
  },
  {
   "cell_type": "code",
   "execution_count": 43,
   "id": "76991153",
   "metadata": {},
   "outputs": [],
   "source": [
    "# Question 3.3 Code Here"
   ]
  },
  {
   "cell_type": "markdown",
   "id": "ae053227",
   "metadata": {},
   "source": [
    "---"
   ]
  },
  {
   "cell_type": "markdown",
   "id": "3594b4c1",
   "metadata": {},
   "source": [
    "## Question 3.4 - Comparing\n",
    "\n",
    "In order to compare all these allocation methods, rescale each weight vector, such that it has targeted mean return of $\\tilde{\\mu}_{\\text{port}}\n",
    "$.\n",
    "\n",
    "(a) Calculate the performance of each of these portfolios over the sample.\n",
    "\n",
    "(b) Report their mean, volatility, and Sharpe ratio. \n",
    "\n",
    "(c) How does performance compare across allocation methods?"
   ]
  },
  {
   "cell_type": "markdown",
   "id": "a52eb73b",
   "metadata": {},
   "source": [
    "## Question 3.4 (a) Answer"
   ]
  },
  {
   "cell_type": "code",
   "execution_count": 44,
   "id": "8b04f58a",
   "metadata": {},
   "outputs": [],
   "source": [
    "# Question 3.4 (a) Code Here "
   ]
  },
  {
   "cell_type": "markdown",
   "id": "2740e624",
   "metadata": {},
   "source": [
    "## Question 3.4 (b) Answer"
   ]
  },
  {
   "cell_type": "code",
   "execution_count": 45,
   "id": "674af3f0",
   "metadata": {},
   "outputs": [],
   "source": [
    "# Question 3.4 (b) Code Here "
   ]
  },
  {
   "cell_type": "markdown",
   "id": "c0cb5a56",
   "metadata": {},
   "source": [
    "## Question 3.4 (c) Answer"
   ]
  },
  {
   "cell_type": "code",
   "execution_count": 46,
   "id": "c2fa26e6",
   "metadata": {},
   "outputs": [],
   "source": [
    "# Question 3.4 (c) Code Here "
   ]
  }
 ],
 "metadata": {
  "hide_input": false,
  "kernelspec": {
   "display_name": "Python 3",
   "language": "python",
   "name": "python3"
  },
  "language_info": {
   "codemirror_mode": {
    "name": "ipython",
    "version": 3
   },
   "file_extension": ".py",
   "mimetype": "text/x-python",
   "name": "python",
   "nbconvert_exporter": "python",
   "pygments_lexer": "ipython3",
   "version": "3.13.7"
  }
 },
 "nbformat": 4,
 "nbformat_minor": 5
}
